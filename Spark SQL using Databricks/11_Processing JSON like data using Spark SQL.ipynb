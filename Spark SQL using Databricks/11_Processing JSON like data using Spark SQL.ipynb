{
 "cells": [
  {
   "cell_type": "code",
   "execution_count": 0,
   "metadata": {
    "application/vnd.databricks.v1+cell": {
     "cellMetadata": {
      "byteLimit": 2048000,
      "implicitDf": true,
      "rowLimit": 10000
     },
     "inputWidgets": {},
     "nuid": "7908d7ea-e515-4fde-9b81-71741b06769d",
     "showTitle": false,
     "title": ""
    }
   },
   "outputs": [
    {
     "output_type": "display_data",
     "data": {
      "text/html": [
       "<style scoped>\n",
       "  .table-result-container {\n",
       "    max-height: 300px;\n",
       "    overflow: auto;\n",
       "  }\n",
       "  table, th, td {\n",
       "    border: 1px solid black;\n",
       "    border-collapse: collapse;\n",
       "  }\n",
       "  th, td {\n",
       "    padding: 5px;\n",
       "  }\n",
       "  th {\n",
       "    text-align: left;\n",
       "  }\n",
       "</style><div class='table-result-container'><table class='table-result'><thead style='background-color: white'><tr></tr></thead><tbody></tbody></table></div>"
      ]
     },
     "metadata": {
      "application/vnd.databricks.v1+output": {
       "addedWidgets": {},
       "aggData": [],
       "aggError": "",
       "aggOverflow": false,
       "aggSchema": [],
       "aggSeriesLimitReached": false,
       "aggType": "",
       "arguments": {},
       "columnCustomDisplayInfos": {},
       "data": [],
       "datasetInfos": [],
       "dbfsResultPath": null,
       "isJsonSchema": true,
       "metadata": {
        "dataframeName": null
       },
       "overflow": false,
       "plotOptions": {
        "customPlotOptions": {},
        "displayType": "table",
        "pivotAggregation": null,
        "pivotColumns": null,
        "xColumns": null,
        "yColumns": null
       },
       "removedWidgets": [],
       "schema": [],
       "type": "table"
      }
     },
     "output_type": "display_data"
    }
   ],
   "source": [
    "%sql\n",
    "USE itversity_retail_db;"
   ]
  },
  {
   "cell_type": "code",
   "execution_count": 0,
   "metadata": {
    "application/vnd.databricks.v1+cell": {
     "cellMetadata": {
      "byteLimit": 2048000,
      "implicitDf": true,
      "rowLimit": 10000
     },
     "inputWidgets": {},
     "nuid": "138fe20a-e83f-4875-b01f-7bea10834208",
     "showTitle": false,
     "title": ""
    }
   },
   "outputs": [
    {
     "output_type": "display_data",
     "data": {
      "text/html": [
       "<style scoped>\n",
       "  .table-result-container {\n",
       "    max-height: 300px;\n",
       "    overflow: auto;\n",
       "  }\n",
       "  table, th, td {\n",
       "    border: 1px solid black;\n",
       "    border-collapse: collapse;\n",
       "  }\n",
       "  th, td {\n",
       "    padding: 5px;\n",
       "  }\n",
       "  th {\n",
       "    text-align: left;\n",
       "  }\n",
       "</style><div class='table-result-container'><table class='table-result'><thead style='background-color: white'><tr><th>num_affected_rows</th><th>num_inserted_rows</th></tr></thead><tbody><tr><td>3</td><td>3</td></tr></tbody></table></div>"
      ]
     },
     "metadata": {
      "application/vnd.databricks.v1+output": {
       "addedWidgets": {},
       "aggData": [],
       "aggError": "",
       "aggOverflow": false,
       "aggSchema": [],
       "aggSeriesLimitReached": false,
       "aggType": "",
       "arguments": {},
       "columnCustomDisplayInfos": {},
       "data": [
        [
         3,
         3
        ]
       ],
       "datasetInfos": [],
       "dbfsResultPath": null,
       "isJsonSchema": true,
       "metadata": {
        "dataframeName": "_sqldf",
        "executionCount": 1
       },
       "overflow": false,
       "plotOptions": {
        "customPlotOptions": {},
        "displayType": "table",
        "pivotAggregation": null,
        "pivotColumns": null,
        "xColumns": null,
        "yColumns": null
       },
       "removedWidgets": [],
       "schema": [
        {
         "metadata": "{}",
         "name": "num_affected_rows",
         "type": "\"long\""
        },
        {
         "metadata": "{}",
         "name": "num_inserted_rows",
         "type": "\"long\""
        }
       ],
       "type": "table"
      }
     },
     "output_type": "display_data"
    }
   ],
   "source": [
    "%sql\n",
    "DROP TABLE IF EXISTS users;\n",
    "CREATE TABLE users(\n",
    "  user_id INT,\n",
    "  user_fname STRING,\n",
    "  user_lname STRING,\n",
    "  user_phones ARRAY<STRING>\n",
    ");\n",
    "\n",
    "INSERT INTO users VALUES \n",
    "(1, 'Scott', 'Tiger', ARRAY('+1 (234) 567 8901', '+1 (123) 456 7890')),\n",
    "(2, 'Donald', 'Duck', NULL),\n",
    "(3, 'Mickey', 'Mouse', ARRAY('+1 (456) 789 0123'));"
   ]
  },
  {
   "cell_type": "code",
   "execution_count": 0,
   "metadata": {
    "application/vnd.databricks.v1+cell": {
     "cellMetadata": {
      "byteLimit": 2048000,
      "implicitDf": true,
      "rowLimit": 10000
     },
     "inputWidgets": {},
     "nuid": "60f7a194-773f-4eb4-b7bf-4cd7f070200a",
     "showTitle": false,
     "title": ""
    }
   },
   "outputs": [
    {
     "output_type": "display_data",
     "data": {
      "text/html": [
       "<style scoped>\n",
       "  .table-result-container {\n",
       "    max-height: 300px;\n",
       "    overflow: auto;\n",
       "  }\n",
       "  table, th, td {\n",
       "    border: 1px solid black;\n",
       "    border-collapse: collapse;\n",
       "  }\n",
       "  th, td {\n",
       "    padding: 5px;\n",
       "  }\n",
       "  th {\n",
       "    text-align: left;\n",
       "  }\n",
       "</style><div class='table-result-container'><table class='table-result'><thead style='background-color: white'><tr><th>user_id</th><th>user_fname</th><th>user_lname</th><th>user_phones</th></tr></thead><tbody><tr><td>1</td><td>Scott</td><td>Tiger</td><td>List(+1 (234) 567 8901, +1 (123) 456 7890)</td></tr><tr><td>2</td><td>Donald</td><td>Duck</td><td>null</td></tr><tr><td>3</td><td>Mickey</td><td>Mouse</td><td>List(+1 (456) 789 0123)</td></tr></tbody></table></div>"
      ]
     },
     "metadata": {
      "application/vnd.databricks.v1+output": {
       "addedWidgets": {},
       "aggData": [],
       "aggError": "",
       "aggOverflow": false,
       "aggSchema": [],
       "aggSeriesLimitReached": false,
       "aggType": "",
       "arguments": {},
       "columnCustomDisplayInfos": {},
       "data": [
        [
         1,
         "Scott",
         "Tiger",
         [
          "+1 (234) 567 8901",
          "+1 (123) 456 7890"
         ]
        ],
        [
         2,
         "Donald",
         "Duck",
         null
        ],
        [
         3,
         "Mickey",
         "Mouse",
         [
          "+1 (456) 789 0123"
         ]
        ]
       ],
       "datasetInfos": [],
       "dbfsResultPath": null,
       "isJsonSchema": true,
       "metadata": {
        "dataframeName": "_sqldf",
        "executionCount": 2
       },
       "overflow": false,
       "plotOptions": {
        "customPlotOptions": {},
        "displayType": "table",
        "pivotAggregation": null,
        "pivotColumns": null,
        "xColumns": null,
        "yColumns": null
       },
       "removedWidgets": [],
       "schema": [
        {
         "metadata": "{}",
         "name": "user_id",
         "type": "\"integer\""
        },
        {
         "metadata": "{}",
         "name": "user_fname",
         "type": "\"string\""
        },
        {
         "metadata": "{}",
         "name": "user_lname",
         "type": "\"string\""
        },
        {
         "metadata": "{}",
         "name": "user_phones",
         "type": "{\"type\":\"array\",\"elementType\":\"string\",\"containsNull\":true}"
        }
       ],
       "type": "table"
      }
     },
     "output_type": "display_data"
    }
   ],
   "source": [
    "%sql\n",
    "SELECT * FROM users;"
   ]
  },
  {
   "cell_type": "markdown",
   "metadata": {
    "application/vnd.databricks.v1+cell": {
     "cellMetadata": {
      "byteLimit": 2048000,
      "rowLimit": 10000
     },
     "inputWidgets": {},
     "nuid": "48d4924f-8520-4b8f-ba5b-5ba405ef73b4",
     "showTitle": false,
     "title": ""
    }
   },
   "source": [
    "#### Dealing with ARRAY Type Columns\n",
    "- `size`, `explode`, `explode_outer`"
   ]
  },
  {
   "cell_type": "code",
   "execution_count": 0,
   "metadata": {
    "application/vnd.databricks.v1+cell": {
     "cellMetadata": {
      "byteLimit": 2048000,
      "implicitDf": true,
      "rowLimit": 10000
     },
     "inputWidgets": {},
     "nuid": "f186849e-3d98-4143-b61c-f8abc43b8d08",
     "showTitle": false,
     "title": ""
    }
   },
   "outputs": [
    {
     "output_type": "display_data",
     "data": {
      "text/html": [
       "<style scoped>\n",
       "  .table-result-container {\n",
       "    max-height: 300px;\n",
       "    overflow: auto;\n",
       "  }\n",
       "  table, th, td {\n",
       "    border: 1px solid black;\n",
       "    border-collapse: collapse;\n",
       "  }\n",
       "  th, td {\n",
       "    padding: 5px;\n",
       "  }\n",
       "  th {\n",
       "    text-align: left;\n",
       "  }\n",
       "</style><div class='table-result-container'><table class='table-result'><thead style='background-color: white'><tr><th>user_id</th><th>phone_count</th></tr></thead><tbody><tr><td>1</td><td>2</td></tr><tr><td>2</td><td>-1</td></tr><tr><td>3</td><td>1</td></tr></tbody></table></div>"
      ]
     },
     "metadata": {
      "application/vnd.databricks.v1+output": {
       "addedWidgets": {},
       "aggData": [],
       "aggError": "",
       "aggOverflow": false,
       "aggSchema": [],
       "aggSeriesLimitReached": false,
       "aggType": "",
       "arguments": {},
       "columnCustomDisplayInfos": {},
       "data": [
        [
         1,
         2
        ],
        [
         2,
         -1
        ],
        [
         3,
         1
        ]
       ],
       "datasetInfos": [],
       "dbfsResultPath": null,
       "isJsonSchema": true,
       "metadata": {
        "dataframeName": "_sqldf",
        "executionCount": 3
       },
       "overflow": false,
       "plotOptions": {
        "customPlotOptions": {},
        "displayType": "table",
        "pivotAggregation": null,
        "pivotColumns": null,
        "xColumns": null,
        "yColumns": null
       },
       "removedWidgets": [],
       "schema": [
        {
         "metadata": "{}",
         "name": "user_id",
         "type": "\"integer\""
        },
        {
         "metadata": "{}",
         "name": "phone_count",
         "type": "\"integer\""
        }
       ],
       "type": "table"
      }
     },
     "output_type": "display_data"
    }
   ],
   "source": [
    "%sql\n",
    "SELECT user_id, size(user_phones) as phone_count\n",
    "FROM users;"
   ]
  },
  {
   "cell_type": "code",
   "execution_count": 0,
   "metadata": {
    "application/vnd.databricks.v1+cell": {
     "cellMetadata": {
      "byteLimit": 2048000,
      "implicitDf": true,
      "rowLimit": 10000
     },
     "inputWidgets": {},
     "nuid": "77f4caa8-3af8-4e8f-9e7b-5e67b01d24d6",
     "showTitle": false,
     "title": ""
    }
   },
   "outputs": [
    {
     "output_type": "display_data",
     "data": {
      "text/html": [
       "<style scoped>\n",
       "  .table-result-container {\n",
       "    max-height: 300px;\n",
       "    overflow: auto;\n",
       "  }\n",
       "  table, th, td {\n",
       "    border: 1px solid black;\n",
       "    border-collapse: collapse;\n",
       "  }\n",
       "  th, td {\n",
       "    padding: 5px;\n",
       "  }\n",
       "  th {\n",
       "    text-align: left;\n",
       "  }\n",
       "</style><div class='table-result-container'><table class='table-result'><thead style='background-color: white'><tr><th>user_id</th><th>phone_count</th></tr></thead><tbody><tr><td>1</td><td>2</td></tr><tr><td>2</td><td>0</td></tr><tr><td>3</td><td>1</td></tr></tbody></table></div>"
      ]
     },
     "metadata": {
      "application/vnd.databricks.v1+output": {
       "addedWidgets": {},
       "aggData": [],
       "aggError": "",
       "aggOverflow": false,
       "aggSchema": [],
       "aggSeriesLimitReached": false,
       "aggType": "",
       "arguments": {},
       "columnCustomDisplayInfos": {},
       "data": [
        [
         1,
         2
        ],
        [
         2,
         0
        ],
        [
         3,
         1
        ]
       ],
       "datasetInfos": [],
       "dbfsResultPath": null,
       "isJsonSchema": true,
       "metadata": {
        "dataframeName": "_sqldf",
        "executionCount": 4
       },
       "overflow": false,
       "plotOptions": {
        "customPlotOptions": {},
        "displayType": "table",
        "pivotAggregation": null,
        "pivotColumns": null,
        "xColumns": null,
        "yColumns": null
       },
       "removedWidgets": [],
       "schema": [
        {
         "metadata": "{}",
         "name": "user_id",
         "type": "\"integer\""
        },
        {
         "metadata": "{}",
         "name": "phone_count",
         "type": "\"integer\""
        }
       ],
       "type": "table"
      }
     },
     "output_type": "display_data"
    }
   ],
   "source": [
    "%sql\n",
    "-- Ex1. SIZE can be used to get count from the ARRAY\n",
    "SELECT user_id\n",
    ", CASE WHEN user_phones IS NOT NULL THEN size(user_phones) ELSE 0 END as phone_count\n",
    "FROM users;"
   ]
  },
  {
   "cell_type": "code",
   "execution_count": 0,
   "metadata": {
    "application/vnd.databricks.v1+cell": {
     "cellMetadata": {
      "byteLimit": 2048000,
      "implicitDf": true,
      "rowLimit": 10000
     },
     "inputWidgets": {},
     "nuid": "55b01bb0-6911-4196-bfd2-f8c97df5cba9",
     "showTitle": false,
     "title": ""
    }
   },
   "outputs": [
    {
     "output_type": "display_data",
     "data": {
      "text/html": [
       "<style scoped>\n",
       "  .table-result-container {\n",
       "    max-height: 300px;\n",
       "    overflow: auto;\n",
       "  }\n",
       "  table, th, td {\n",
       "    border: 1px solid black;\n",
       "    border-collapse: collapse;\n",
       "  }\n",
       "  th, td {\n",
       "    padding: 5px;\n",
       "  }\n",
       "  th {\n",
       "    text-align: left;\n",
       "  }\n",
       "</style><div class='table-result-container'><table class='table-result'><thead style='background-color: white'><tr><th>user_id</th><th>user_phone</th></tr></thead><tbody><tr><td>1</td><td>+1 (234) 567 8901</td></tr><tr><td>1</td><td>+1 (123) 456 7890</td></tr><tr><td>3</td><td>+1 (456) 789 0123</td></tr></tbody></table></div>"
      ]
     },
     "metadata": {
      "application/vnd.databricks.v1+output": {
       "addedWidgets": {},
       "aggData": [],
       "aggError": "",
       "aggOverflow": false,
       "aggSchema": [],
       "aggSeriesLimitReached": false,
       "aggType": "",
       "arguments": {},
       "columnCustomDisplayInfos": {},
       "data": [
        [
         1,
         "+1 (234) 567 8901"
        ],
        [
         1,
         "+1 (123) 456 7890"
        ],
        [
         3,
         "+1 (456) 789 0123"
        ]
       ],
       "datasetInfos": [],
       "dbfsResultPath": null,
       "isJsonSchema": true,
       "metadata": {
        "dataframeName": "_sqldf",
        "executionCount": 5
       },
       "overflow": false,
       "plotOptions": {
        "customPlotOptions": {},
        "displayType": "table",
        "pivotAggregation": null,
        "pivotColumns": null,
        "xColumns": null,
        "yColumns": null
       },
       "removedWidgets": [],
       "schema": [
        {
         "metadata": "{}",
         "name": "user_id",
         "type": "\"integer\""
        },
        {
         "metadata": "{}",
         "name": "user_phone",
         "type": "\"string\""
        }
       ],
       "type": "table"
      }
     },
     "output_type": "display_data"
    }
   ],
   "source": [
    "%sql\n",
    "\n",
    "-- Ex2. EXPLODE flattens data. Excludes nulls\n",
    "SELECT user_id\n",
    ", explode(user_phones) as user_phone\n",
    "FROM users;\n",
    "\n",
    "-- flatten means elements of an ARRAY into individual records\n",
    "-- Note: can be used only with SELECT clause, use Nested query/CTE is you have to filter, or to GROUP BY"
   ]
  },
  {
   "cell_type": "code",
   "execution_count": 0,
   "metadata": {
    "application/vnd.databricks.v1+cell": {
     "cellMetadata": {
      "byteLimit": 2048000,
      "implicitDf": true,
      "rowLimit": 10000
     },
     "inputWidgets": {},
     "nuid": "0a21cb08-7075-4c7b-a68f-4a7331a699a9",
     "showTitle": false,
     "title": ""
    }
   },
   "outputs": [
    {
     "output_type": "display_data",
     "data": {
      "text/html": [
       "<style scoped>\n",
       "  .table-result-container {\n",
       "    max-height: 300px;\n",
       "    overflow: auto;\n",
       "  }\n",
       "  table, th, td {\n",
       "    border: 1px solid black;\n",
       "    border-collapse: collapse;\n",
       "  }\n",
       "  th, td {\n",
       "    padding: 5px;\n",
       "  }\n",
       "  th {\n",
       "    text-align: left;\n",
       "  }\n",
       "</style><div class='table-result-container'><table class='table-result'><thead style='background-color: white'><tr><th>user_id</th><th>user_phone</th></tr></thead><tbody><tr><td>1</td><td>+1 (234) 567 8901</td></tr><tr><td>1</td><td>+1 (123) 456 7890</td></tr><tr><td>2</td><td>null</td></tr><tr><td>3</td><td>+1 (456) 789 0123</td></tr></tbody></table></div>"
      ]
     },
     "metadata": {
      "application/vnd.databricks.v1+output": {
       "addedWidgets": {},
       "aggData": [],
       "aggError": "",
       "aggOverflow": false,
       "aggSchema": [],
       "aggSeriesLimitReached": false,
       "aggType": "",
       "arguments": {},
       "columnCustomDisplayInfos": {},
       "data": [
        [
         1,
         "+1 (234) 567 8901"
        ],
        [
         1,
         "+1 (123) 456 7890"
        ],
        [
         2,
         null
        ],
        [
         3,
         "+1 (456) 789 0123"
        ]
       ],
       "datasetInfos": [],
       "dbfsResultPath": null,
       "isJsonSchema": true,
       "metadata": {
        "dataframeName": "_sqldf",
        "executionCount": 6
       },
       "overflow": false,
       "plotOptions": {
        "customPlotOptions": {},
        "displayType": "table",
        "pivotAggregation": null,
        "pivotColumns": null,
        "xColumns": null,
        "yColumns": null
       },
       "removedWidgets": [],
       "schema": [
        {
         "metadata": "{}",
         "name": "user_id",
         "type": "\"integer\""
        },
        {
         "metadata": "{}",
         "name": "user_phone",
         "type": "\"string\""
        }
       ],
       "type": "table"
      }
     },
     "output_type": "display_data"
    }
   ],
   "source": [
    "%sql\n",
    "-- Ex3. EXPLODE_OUTER flattens data. Includes nulls\n",
    "SELECT user_id\n",
    ", explode_outer(user_phones) as user_phone\n",
    "FROM users;"
   ]
  },
  {
   "cell_type": "markdown",
   "metadata": {
    "application/vnd.databricks.v1+cell": {
     "cellMetadata": {
      "byteLimit": 2048000,
      "rowLimit": 10000
     },
     "inputWidgets": {},
     "nuid": "fbf1ffa1-2ba0-4e64-9f53-344b9fd43e4a",
     "showTitle": false,
     "title": ""
    }
   },
   "source": [
    "#### Dealing with STRUCT Type Column"
   ]
  },
  {
   "cell_type": "code",
   "execution_count": 0,
   "metadata": {
    "application/vnd.databricks.v1+cell": {
     "cellMetadata": {
      "byteLimit": 2048000,
      "implicitDf": true,
      "rowLimit": 10000
     },
     "inputWidgets": {},
     "nuid": "259f0902-2d19-4f19-86df-e05e48583107",
     "showTitle": false,
     "title": ""
    }
   },
   "outputs": [
    {
     "output_type": "display_data",
     "data": {
      "text/html": [
       "<style scoped>\n",
       "  .table-result-container {\n",
       "    max-height: 300px;\n",
       "    overflow: auto;\n",
       "  }\n",
       "  table, th, td {\n",
       "    border: 1px solid black;\n",
       "    border-collapse: collapse;\n",
       "  }\n",
       "  th, td {\n",
       "    padding: 5px;\n",
       "  }\n",
       "  th {\n",
       "    text-align: left;\n",
       "  }\n",
       "</style><div class='table-result-container'><table class='table-result'><thead style='background-color: white'><tr><th>num_affected_rows</th><th>num_inserted_rows</th></tr></thead><tbody><tr><td>3</td><td>3</td></tr></tbody></table></div>"
      ]
     },
     "metadata": {
      "application/vnd.databricks.v1+output": {
       "addedWidgets": {},
       "aggData": [],
       "aggError": "",
       "aggOverflow": false,
       "aggSchema": [],
       "aggSeriesLimitReached": false,
       "aggType": "",
       "arguments": {},
       "columnCustomDisplayInfos": {},
       "data": [
        [
         3,
         3
        ]
       ],
       "datasetInfos": [],
       "dbfsResultPath": null,
       "isJsonSchema": true,
       "metadata": {
        "dataframeName": "_sqldf",
        "executionCount": 7
       },
       "overflow": false,
       "plotOptions": {
        "customPlotOptions": {},
        "displayType": "table",
        "pivotAggregation": null,
        "pivotColumns": null,
        "xColumns": null,
        "yColumns": null
       },
       "removedWidgets": [],
       "schema": [
        {
         "metadata": "{}",
         "name": "num_affected_rows",
         "type": "\"long\""
        },
        {
         "metadata": "{}",
         "name": "num_inserted_rows",
         "type": "\"long\""
        }
       ],
       "type": "table"
      }
     },
     "output_type": "display_data"
    }
   ],
   "source": [
    "%sql\n",
    "DROP TABLE IF EXISTS users;\n",
    "CREATE TABLE users(\n",
    "  user_id INT,\n",
    "  user_fname STRING,\n",
    "  user_lname STRING,\n",
    "  user_phones STRUCT<home:STRING, mobile:STRING>\n",
    ");\n",
    "\n",
    "INSERT INTO users VALUES \n",
    "(1, 'Scott', 'Tiger', STRUCT('+1 (234) 567 8901', '+1 (123) 456 7890')),\n",
    "(2, 'Donald', 'Duck', STRUCT(NULL, NULL)),\n",
    "(3, 'Mickey', 'Mouse', STRUCT('+1 (456) 789 0123', NULL));"
   ]
  },
  {
   "cell_type": "code",
   "execution_count": 0,
   "metadata": {
    "application/vnd.databricks.v1+cell": {
     "cellMetadata": {
      "byteLimit": 2048000,
      "implicitDf": true,
      "rowLimit": 10000
     },
     "inputWidgets": {},
     "nuid": "7db0cd41-dc23-42b6-a9fd-467dac952a49",
     "showTitle": false,
     "title": ""
    }
   },
   "outputs": [
    {
     "output_type": "display_data",
     "data": {
      "text/html": [
       "<style scoped>\n",
       "  .table-result-container {\n",
       "    max-height: 300px;\n",
       "    overflow: auto;\n",
       "  }\n",
       "  table, th, td {\n",
       "    border: 1px solid black;\n",
       "    border-collapse: collapse;\n",
       "  }\n",
       "  th, td {\n",
       "    padding: 5px;\n",
       "  }\n",
       "  th {\n",
       "    text-align: left;\n",
       "  }\n",
       "</style><div class='table-result-container'><table class='table-result'><thead style='background-color: white'><tr><th>user_id</th><th>user_fname</th><th>user_lname</th><th>user_phones</th></tr></thead><tbody><tr><td>1</td><td>Scott</td><td>Tiger</td><td>List(+1 (234) 567 8901, +1 (123) 456 7890)</td></tr><tr><td>2</td><td>Donald</td><td>Duck</td><td>List(null, null)</td></tr><tr><td>3</td><td>Mickey</td><td>Mouse</td><td>List(+1 (456) 789 0123, null)</td></tr></tbody></table></div>"
      ]
     },
     "metadata": {
      "application/vnd.databricks.v1+output": {
       "addedWidgets": {},
       "aggData": [],
       "aggError": "",
       "aggOverflow": false,
       "aggSchema": [],
       "aggSeriesLimitReached": false,
       "aggType": "",
       "arguments": {},
       "columnCustomDisplayInfos": {},
       "data": [
        [
         1,
         "Scott",
         "Tiger",
         [
          "+1 (234) 567 8901",
          "+1 (123) 456 7890"
         ]
        ],
        [
         2,
         "Donald",
         "Duck",
         [
          null,
          null
         ]
        ],
        [
         3,
         "Mickey",
         "Mouse",
         [
          "+1 (456) 789 0123",
          null
         ]
        ]
       ],
       "datasetInfos": [],
       "dbfsResultPath": null,
       "isJsonSchema": true,
       "metadata": {
        "dataframeName": "_sqldf",
        "executionCount": 8
       },
       "overflow": false,
       "plotOptions": {
        "customPlotOptions": {},
        "displayType": "table",
        "pivotAggregation": null,
        "pivotColumns": null,
        "xColumns": null,
        "yColumns": null
       },
       "removedWidgets": [],
       "schema": [
        {
         "metadata": "{}",
         "name": "user_id",
         "type": "\"integer\""
        },
        {
         "metadata": "{}",
         "name": "user_fname",
         "type": "\"string\""
        },
        {
         "metadata": "{}",
         "name": "user_lname",
         "type": "\"string\""
        },
        {
         "metadata": "{}",
         "name": "user_phones",
         "type": "{\"type\":\"struct\",\"fields\":[{\"name\":\"home\",\"type\":\"string\",\"nullable\":true,\"metadata\":{}},{\"name\":\"mobile\",\"type\":\"string\",\"nullable\":true,\"metadata\":{}}]}"
        }
       ],
       "type": "table"
      }
     },
     "output_type": "display_data"
    }
   ],
   "source": [
    "%sql\n",
    "SELECT * FROM users;"
   ]
  },
  {
   "cell_type": "code",
   "execution_count": 0,
   "metadata": {
    "application/vnd.databricks.v1+cell": {
     "cellMetadata": {
      "byteLimit": 2048000,
      "implicitDf": true,
      "rowLimit": 10000
     },
     "inputWidgets": {},
     "nuid": "c985f849-a8f3-4a46-8891-dad9d2b49eb6",
     "showTitle": false,
     "title": ""
    }
   },
   "outputs": [
    {
     "output_type": "display_data",
     "data": {
      "text/html": [
       "<style scoped>\n",
       "  .table-result-container {\n",
       "    max-height: 300px;\n",
       "    overflow: auto;\n",
       "  }\n",
       "  table, th, td {\n",
       "    border: 1px solid black;\n",
       "    border-collapse: collapse;\n",
       "  }\n",
       "  th, td {\n",
       "    padding: 5px;\n",
       "  }\n",
       "  th {\n",
       "    text-align: left;\n",
       "  }\n",
       "</style><div class='table-result-container'><table class='table-result'><thead style='background-color: white'><tr><th>user_id</th><th>home</th><th>mobile</th></tr></thead><tbody><tr><td>1</td><td>+1 (234) 567 8901</td><td>+1 (123) 456 7890</td></tr><tr><td>2</td><td>null</td><td>null</td></tr><tr><td>3</td><td>+1 (456) 789 0123</td><td>null</td></tr></tbody></table></div>"
      ]
     },
     "metadata": {
      "application/vnd.databricks.v1+output": {
       "addedWidgets": {},
       "aggData": [],
       "aggError": "",
       "aggOverflow": false,
       "aggSchema": [],
       "aggSeriesLimitReached": false,
       "aggType": "",
       "arguments": {},
       "columnCustomDisplayInfos": {},
       "data": [
        [
         1,
         "+1 (234) 567 8901",
         "+1 (123) 456 7890"
        ],
        [
         2,
         null,
         null
        ],
        [
         3,
         "+1 (456) 789 0123",
         null
        ]
       ],
       "datasetInfos": [],
       "dbfsResultPath": null,
       "isJsonSchema": true,
       "metadata": {
        "dataframeName": "_sqldf",
        "executionCount": 9
       },
       "overflow": false,
       "plotOptions": {
        "customPlotOptions": {},
        "displayType": "table",
        "pivotAggregation": null,
        "pivotColumns": null,
        "xColumns": null,
        "yColumns": null
       },
       "removedWidgets": [],
       "schema": [
        {
         "metadata": "{}",
         "name": "user_id",
         "type": "\"integer\""
        },
        {
         "metadata": "{}",
         "name": "home",
         "type": "\"string\""
        },
        {
         "metadata": "{}",
         "name": "mobile",
         "type": "\"string\""
        }
       ],
       "type": "table"
      }
     },
     "output_type": "display_data"
    }
   ],
   "source": [
    "%sql\n",
    "--Ex1:  .* will flatten the STRUCT column data in multiple columns\n",
    "SELECT user_id, user_phones.* \n",
    "FROM users;"
   ]
  },
  {
   "cell_type": "code",
   "execution_count": 0,
   "metadata": {
    "application/vnd.databricks.v1+cell": {
     "cellMetadata": {
      "byteLimit": 2048000,
      "implicitDf": true,
      "rowLimit": 10000
     },
     "inputWidgets": {},
     "nuid": "ec6c534b-0ca1-4685-9c8a-560f9935a214",
     "showTitle": false,
     "title": ""
    }
   },
   "outputs": [
    {
     "output_type": "display_data",
     "data": {
      "text/html": [
       "<style scoped>\n",
       "  .table-result-container {\n",
       "    max-height: 300px;\n",
       "    overflow: auto;\n",
       "  }\n",
       "  table, th, td {\n",
       "    border: 1px solid black;\n",
       "    border-collapse: collapse;\n",
       "  }\n",
       "  th, td {\n",
       "    padding: 5px;\n",
       "  }\n",
       "  th {\n",
       "    text-align: left;\n",
       "  }\n",
       "</style><div class='table-result-container'><table class='table-result'><thead style='background-color: white'><tr><th>user_id</th><th>home</th><th>mobile</th></tr></thead><tbody><tr><td>1</td><td>+1 (234) 567 8901</td><td>+1 (123) 456 7890</td></tr><tr><td>2</td><td>null</td><td>null</td></tr><tr><td>3</td><td>+1 (456) 789 0123</td><td>null</td></tr></tbody></table></div>"
      ]
     },
     "metadata": {
      "application/vnd.databricks.v1+output": {
       "addedWidgets": {},
       "aggData": [],
       "aggError": "",
       "aggOverflow": false,
       "aggSchema": [],
       "aggSeriesLimitReached": false,
       "aggType": "",
       "arguments": {},
       "columnCustomDisplayInfos": {},
       "data": [
        [
         1,
         "+1 (234) 567 8901",
         "+1 (123) 456 7890"
        ],
        [
         2,
         null,
         null
        ],
        [
         3,
         "+1 (456) 789 0123",
         null
        ]
       ],
       "datasetInfos": [],
       "dbfsResultPath": null,
       "isJsonSchema": true,
       "metadata": {
        "dataframeName": "_sqldf",
        "executionCount": 10
       },
       "overflow": false,
       "plotOptions": {
        "customPlotOptions": {},
        "displayType": "table",
        "pivotAggregation": null,
        "pivotColumns": null,
        "xColumns": null,
        "yColumns": null
       },
       "removedWidgets": [],
       "schema": [
        {
         "metadata": "{}",
         "name": "user_id",
         "type": "\"integer\""
        },
        {
         "metadata": "{}",
         "name": "home",
         "type": "\"string\""
        },
        {
         "metadata": "{}",
         "name": "mobile",
         "type": "\"string\""
        }
       ],
       "type": "table"
      }
     },
     "output_type": "display_data"
    }
   ],
   "source": [
    "%sql\n",
    "-- Ex2: Access individual STRUCT column data using dot .\n",
    "SELECT user_id\n",
    ", user_phones.home\n",
    ", user_phones.mobile\n",
    "FROM users;"
   ]
  },
  {
   "cell_type": "code",
   "execution_count": 0,
   "metadata": {
    "application/vnd.databricks.v1+cell": {
     "cellMetadata": {
      "byteLimit": 2048000,
      "implicitDf": true,
      "rowLimit": 10000
     },
     "inputWidgets": {},
     "nuid": "4b0e6d5e-98d3-4b22-9e1c-9c7a66e965bf",
     "showTitle": false,
     "title": ""
    }
   },
   "outputs": [
    {
     "output_type": "display_data",
     "data": {
      "text/html": [
       "<style scoped>\n",
       "  .table-result-container {\n",
       "    max-height: 300px;\n",
       "    overflow: auto;\n",
       "  }\n",
       "  table, th, td {\n",
       "    border: 1px solid black;\n",
       "    border-collapse: collapse;\n",
       "  }\n",
       "  th, td {\n",
       "    padding: 5px;\n",
       "  }\n",
       "  th {\n",
       "    text-align: left;\n",
       "  }\n",
       "</style><div class='table-result-container'><table class='table-result'><thead style='background-color: white'><tr><th>order_item</th><th>order_item_order_id</th><th>order_item_product_id</th><th>order_item_quantity</th><th>order_item_subtotal</th><th>order_item_product_price</th></tr></thead><tbody><tr><td>1</td><td>1</td><td>957</td><td>1</td><td>299.98</td><td>299.98</td></tr><tr><td>2</td><td>2</td><td>1073</td><td>1</td><td>199.99</td><td>199.99</td></tr><tr><td>3</td><td>2</td><td>502</td><td>5</td><td>250.0</td><td>50.0</td></tr><tr><td>4</td><td>2</td><td>403</td><td>1</td><td>129.99</td><td>129.99</td></tr><tr><td>5</td><td>4</td><td>897</td><td>2</td><td>49.98</td><td>24.99</td></tr></tbody></table></div>"
      ]
     },
     "metadata": {
      "application/vnd.databricks.v1+output": {
       "addedWidgets": {},
       "aggData": [],
       "aggError": "",
       "aggOverflow": false,
       "aggSchema": [],
       "aggSeriesLimitReached": false,
       "aggType": "",
       "arguments": {},
       "columnCustomDisplayInfos": {},
       "data": [
        [
         1,
         1,
         957,
         1,
         299.98,
         299.98
        ],
        [
         2,
         2,
         1073,
         1,
         199.99,
         199.99
        ],
        [
         3,
         2,
         502,
         5,
         250.0,
         50.0
        ],
        [
         4,
         2,
         403,
         1,
         129.99,
         129.99
        ],
        [
         5,
         4,
         897,
         2,
         49.98,
         24.99
        ]
       ],
       "datasetInfos": [],
       "dbfsResultPath": null,
       "isJsonSchema": true,
       "metadata": {
        "dataframeName": "_sqldf",
        "executionCount": 11
       },
       "overflow": false,
       "plotOptions": {
        "customPlotOptions": {},
        "displayType": "table",
        "pivotAggregation": null,
        "pivotColumns": null,
        "xColumns": null,
        "yColumns": null
       },
       "removedWidgets": [],
       "schema": [
        {
         "metadata": "{}",
         "name": "order_item",
         "type": "\"long\""
        },
        {
         "metadata": "{}",
         "name": "order_item_order_id",
         "type": "\"long\""
        },
        {
         "metadata": "{}",
         "name": "order_item_product_id",
         "type": "\"long\""
        },
        {
         "metadata": "{}",
         "name": "order_item_quantity",
         "type": "\"long\""
        },
        {
         "metadata": "{}",
         "name": "order_item_subtotal",
         "type": "\"double\""
        },
        {
         "metadata": "{}",
         "name": "order_item_product_price",
         "type": "\"double\""
        }
       ],
       "type": "table"
      }
     },
     "output_type": "display_data"
    }
   ],
   "source": [
    "%sql\n",
    "--Ex3: Sometimes you might wanna build STRUCT Type field from regular columns \n",
    "SELECT * FROM order_items LIMIT 5;"
   ]
  },
  {
   "cell_type": "code",
   "execution_count": 0,
   "metadata": {
    "application/vnd.databricks.v1+cell": {
     "cellMetadata": {
      "byteLimit": 2048000,
      "implicitDf": true,
      "rowLimit": 10000
     },
     "inputWidgets": {},
     "nuid": "34d8f58d-b6e4-4797-bcd1-a46311e973b8",
     "showTitle": false,
     "title": ""
    }
   },
   "outputs": [
    {
     "output_type": "display_data",
     "data": {
      "text/html": [
       "<style scoped>\n",
       "  .table-result-container {\n",
       "    max-height: 300px;\n",
       "    overflow: auto;\n",
       "  }\n",
       "  table, th, td {\n",
       "    border: 1px solid black;\n",
       "    border-collapse: collapse;\n",
       "  }\n",
       "  th, td {\n",
       "    padding: 5px;\n",
       "  }\n",
       "  th {\n",
       "    text-align: left;\n",
       "  }\n",
       "</style><div class='table-result-container'><table class='table-result'><thead style='background-color: white'><tr><th>order_item</th><th>order_item_order_id</th><th>order_item_product_id</th><th>order_item_subtotal</th><th>order_item_trans_details</th></tr></thead><tbody><tr><td>1</td><td>1</td><td>957</td><td>299.98</td><td>List(1, 299.98)</td></tr><tr><td>2</td><td>2</td><td>1073</td><td>199.99</td><td>List(1, 199.99)</td></tr><tr><td>3</td><td>2</td><td>502</td><td>250.0</td><td>List(5, 50.0)</td></tr><tr><td>4</td><td>2</td><td>403</td><td>129.99</td><td>List(1, 129.99)</td></tr><tr><td>5</td><td>4</td><td>897</td><td>49.98</td><td>List(2, 24.99)</td></tr></tbody></table></div>"
      ]
     },
     "metadata": {
      "application/vnd.databricks.v1+output": {
       "addedWidgets": {},
       "aggData": [],
       "aggError": "",
       "aggOverflow": false,
       "aggSchema": [],
       "aggSeriesLimitReached": false,
       "aggType": "",
       "arguments": {},
       "columnCustomDisplayInfos": {},
       "data": [
        [
         1,
         1,
         957,
         299.98,
         [
          1,
          299.98
         ]
        ],
        [
         2,
         2,
         1073,
         199.99,
         [
          1,
          199.99
         ]
        ],
        [
         3,
         2,
         502,
         250.0,
         [
          5,
          50.0
         ]
        ],
        [
         4,
         2,
         403,
         129.99,
         [
          1,
          129.99
         ]
        ],
        [
         5,
         4,
         897,
         49.98,
         [
          2,
          24.99
         ]
        ]
       ],
       "datasetInfos": [],
       "dbfsResultPath": null,
       "isJsonSchema": true,
       "metadata": {
        "dataframeName": "_sqldf",
        "executionCount": 12
       },
       "overflow": false,
       "plotOptions": {
        "customPlotOptions": {},
        "displayType": "table",
        "pivotAggregation": null,
        "pivotColumns": null,
        "xColumns": null,
        "yColumns": null
       },
       "removedWidgets": [],
       "schema": [
        {
         "metadata": "{}",
         "name": "order_item",
         "type": "\"long\""
        },
        {
         "metadata": "{}",
         "name": "order_item_order_id",
         "type": "\"long\""
        },
        {
         "metadata": "{}",
         "name": "order_item_product_id",
         "type": "\"long\""
        },
        {
         "metadata": "{}",
         "name": "order_item_subtotal",
         "type": "\"double\""
        },
        {
         "metadata": "{}",
         "name": "order_item_trans_details",
         "type": "{\"type\":\"struct\",\"fields\":[{\"name\":\"order_item_quantity\",\"type\":\"long\",\"nullable\":true,\"metadata\":{}},{\"name\":\"order_item_product_price\",\"type\":\"double\",\"nullable\":true,\"metadata\":{}}]}"
        }
       ],
       "type": "table"
      }
     },
     "output_type": "display_data"
    }
   ],
   "source": [
    "%sql\n",
    "SELECT order_item,\n",
    "       order_item_order_id,\n",
    "       order_item_product_id,\n",
    "       order_item_subtotal,\n",
    "       STRUCT(order_item_quantity, order_item_product_price) as order_item_trans_details\n",
    "FROM order_items limit 5;"
   ]
  },
  {
   "cell_type": "code",
   "execution_count": 0,
   "metadata": {
    "application/vnd.databricks.v1+cell": {
     "cellMetadata": {
      "byteLimit": 2048000,
      "implicitDf": true,
      "rowLimit": 10000
     },
     "inputWidgets": {},
     "nuid": "41964e73-9b5a-41f6-b2bb-8ceef9cbc3c6",
     "showTitle": false,
     "title": ""
    }
   },
   "outputs": [
    {
     "output_type": "display_data",
     "data": {
      "text/html": [
       "<style scoped>\n",
       "  .table-result-container {\n",
       "    max-height: 300px;\n",
       "    overflow: auto;\n",
       "  }\n",
       "  table, th, td {\n",
       "    border: 1px solid black;\n",
       "    border-collapse: collapse;\n",
       "  }\n",
       "  th, td {\n",
       "    padding: 5px;\n",
       "  }\n",
       "  th {\n",
       "    text-align: left;\n",
       "  }\n",
       "</style><div class='table-result-container'><table class='table-result'><thead style='background-color: white'><tr><th>num_affected_rows</th><th>num_inserted_rows</th></tr></thead><tbody><tr><td>3</td><td>3</td></tr></tbody></table></div>"
      ]
     },
     "metadata": {
      "application/vnd.databricks.v1+output": {
       "addedWidgets": {},
       "aggData": [],
       "aggError": "",
       "aggOverflow": false,
       "aggSchema": [],
       "aggSeriesLimitReached": false,
       "aggType": "",
       "arguments": {},
       "columnCustomDisplayInfos": {},
       "data": [
        [
         3,
         3
        ]
       ],
       "datasetInfos": [],
       "dbfsResultPath": null,
       "isJsonSchema": true,
       "metadata": {
        "dataframeName": "_sqldf",
        "executionCount": 13
       },
       "overflow": false,
       "plotOptions": {
        "customPlotOptions": {},
        "displayType": "table",
        "pivotAggregation": null,
        "pivotColumns": null,
        "xColumns": null,
        "yColumns": null
       },
       "removedWidgets": [],
       "schema": [
        {
         "metadata": "{}",
         "name": "num_affected_rows",
         "type": "\"long\""
        },
        {
         "metadata": "{}",
         "name": "num_inserted_rows",
         "type": "\"long\""
        }
       ],
       "type": "table"
      }
     },
     "output_type": "display_data"
    }
   ],
   "source": [
    "%sql\n",
    "--Ex4: In some cases we might have to create table with ARRAY(STRUCT) Type field \n",
    "DROP TABLE IF EXISTS users;\n",
    "CREATE TABLE users(\n",
    "  user_id INT,\n",
    "  user_fname STRING,\n",
    "  user_lname STRING,\n",
    "  user_phones ARRAY<STRUCT<phone_type:STRING, phone_number:STRING>>\n",
    ");\n",
    "\n",
    "INSERT INTO users VALUES \n",
    "(1, 'Scott', 'Tiger', ARRAY(STRUCT('home', '+1 (234) 567 8901'), STRUCT('mobile',  '+1 (123) 456 7890'))),\n",
    "(2, 'Donald', 'Duck', NULL),\n",
    "(3, 'Mickey', 'Mouse', ARRAY(STRUCT('home', '+1 (123) 456 9012')));"
   ]
  },
  {
   "cell_type": "code",
   "execution_count": 0,
   "metadata": {
    "application/vnd.databricks.v1+cell": {
     "cellMetadata": {
      "byteLimit": 2048000,
      "implicitDf": true,
      "rowLimit": 10000
     },
     "inputWidgets": {},
     "nuid": "a0aeb069-ce3e-463e-94ad-d77dd9a78838",
     "showTitle": false,
     "title": ""
    }
   },
   "outputs": [
    {
     "output_type": "display_data",
     "data": {
      "text/html": [
       "<style scoped>\n",
       "  .table-result-container {\n",
       "    max-height: 300px;\n",
       "    overflow: auto;\n",
       "  }\n",
       "  table, th, td {\n",
       "    border: 1px solid black;\n",
       "    border-collapse: collapse;\n",
       "  }\n",
       "  th, td {\n",
       "    padding: 5px;\n",
       "  }\n",
       "  th {\n",
       "    text-align: left;\n",
       "  }\n",
       "</style><div class='table-result-container'><table class='table-result'><thead style='background-color: white'><tr><th>user_id</th><th>user_fname</th><th>user_lname</th><th>user_phones</th></tr></thead><tbody><tr><td>1</td><td>Scott</td><td>Tiger</td><td>List(List(home, +1 (234) 567 8901), List(mobile, +1 (123) 456 7890))</td></tr><tr><td>2</td><td>Donald</td><td>Duck</td><td>null</td></tr><tr><td>3</td><td>Mickey</td><td>Mouse</td><td>List(List(home, +1 (123) 456 9012))</td></tr></tbody></table></div>"
      ]
     },
     "metadata": {
      "application/vnd.databricks.v1+output": {
       "addedWidgets": {},
       "aggData": [],
       "aggError": "",
       "aggOverflow": false,
       "aggSchema": [],
       "aggSeriesLimitReached": false,
       "aggType": "",
       "arguments": {},
       "columnCustomDisplayInfos": {},
       "data": [
        [
         1,
         "Scott",
         "Tiger",
         [
          [
           "home",
           "+1 (234) 567 8901"
          ],
          [
           "mobile",
           "+1 (123) 456 7890"
          ]
         ]
        ],
        [
         2,
         "Donald",
         "Duck",
         null
        ],
        [
         3,
         "Mickey",
         "Mouse",
         [
          [
           "home",
           "+1 (123) 456 9012"
          ]
         ]
        ]
       ],
       "datasetInfos": [],
       "dbfsResultPath": null,
       "isJsonSchema": true,
       "metadata": {
        "dataframeName": "_sqldf",
        "executionCount": 14
       },
       "overflow": false,
       "plotOptions": {
        "customPlotOptions": {},
        "displayType": "table",
        "pivotAggregation": null,
        "pivotColumns": null,
        "xColumns": null,
        "yColumns": null
       },
       "removedWidgets": [],
       "schema": [
        {
         "metadata": "{}",
         "name": "user_id",
         "type": "\"integer\""
        },
        {
         "metadata": "{}",
         "name": "user_fname",
         "type": "\"string\""
        },
        {
         "metadata": "{}",
         "name": "user_lname",
         "type": "\"string\""
        },
        {
         "metadata": "{}",
         "name": "user_phones",
         "type": "{\"type\":\"array\",\"elementType\":{\"type\":\"struct\",\"fields\":[{\"name\":\"phone_type\",\"type\":\"string\",\"nullable\":true,\"metadata\":{}},{\"name\":\"phone_number\",\"type\":\"string\",\"nullable\":true,\"metadata\":{}}]},\"containsNull\":true}"
        }
       ],
       "type": "table"
      }
     },
     "output_type": "display_data"
    }
   ],
   "source": [
    "%sql\n",
    "SELECT * FROM users;"
   ]
  },
  {
   "cell_type": "markdown",
   "metadata": {
    "application/vnd.databricks.v1+cell": {
     "cellMetadata": {
      "byteLimit": 2048000,
      "rowLimit": 10000
     },
     "inputWidgets": {},
     "nuid": "06506a89-3a6a-467d-be46-1ef142f5cc76",
     "showTitle": false,
     "title": ""
    }
   },
   "source": [
    "#### Dealing with ARRAY(STRUCT) Type field"
   ]
  },
  {
   "cell_type": "code",
   "execution_count": 0,
   "metadata": {
    "application/vnd.databricks.v1+cell": {
     "cellMetadata": {
      "byteLimit": 2048000,
      "implicitDf": true,
      "rowLimit": 10000
     },
     "inputWidgets": {},
     "nuid": "ca1f4a8c-08ac-4191-b929-9aa6b12813b4",
     "showTitle": false,
     "title": ""
    }
   },
   "outputs": [
    {
     "output_type": "display_data",
     "data": {
      "text/html": [
       "<style scoped>\n",
       "  .table-result-container {\n",
       "    max-height: 300px;\n",
       "    overflow: auto;\n",
       "  }\n",
       "  table, th, td {\n",
       "    border: 1px solid black;\n",
       "    border-collapse: collapse;\n",
       "  }\n",
       "  th, td {\n",
       "    padding: 5px;\n",
       "  }\n",
       "  th {\n",
       "    text-align: left;\n",
       "  }\n",
       "</style><div class='table-result-container'><table class='table-result'><thead style='background-color: white'><tr><th>user_id</th><th>phone_type</th><th>phone_number</th></tr></thead><tbody><tr><td>1</td><td>home</td><td>+1 (234) 567 8901</td></tr><tr><td>1</td><td>mobile</td><td>+1 (123) 456 7890</td></tr><tr><td>2</td><td>null</td><td>null</td></tr><tr><td>3</td><td>home</td><td>+1 (123) 456 9012</td></tr></tbody></table></div>"
      ]
     },
     "metadata": {
      "application/vnd.databricks.v1+output": {
       "addedWidgets": {},
       "aggData": [],
       "aggError": "",
       "aggOverflow": false,
       "aggSchema": [],
       "aggSeriesLimitReached": false,
       "aggType": "",
       "arguments": {},
       "columnCustomDisplayInfos": {},
       "data": [
        [
         1,
         "home",
         "+1 (234) 567 8901"
        ],
        [
         1,
         "mobile",
         "+1 (123) 456 7890"
        ],
        [
         2,
         null,
         null
        ],
        [
         3,
         "home",
         "+1 (123) 456 9012"
        ]
       ],
       "datasetInfos": [],
       "dbfsResultPath": null,
       "isJsonSchema": true,
       "metadata": {
        "dataframeName": "_sqldf",
        "executionCount": 15
       },
       "overflow": false,
       "plotOptions": {
        "customPlotOptions": {},
        "displayType": "table",
        "pivotAggregation": null,
        "pivotColumns": null,
        "xColumns": null,
        "yColumns": null
       },
       "removedWidgets": [],
       "schema": [
        {
         "metadata": "{}",
         "name": "user_id",
         "type": "\"integer\""
        },
        {
         "metadata": "{}",
         "name": "phone_type",
         "type": "\"string\""
        },
        {
         "metadata": "{}",
         "name": "phone_number",
         "type": "\"string\""
        }
       ],
       "type": "table"
      }
     },
     "output_type": "display_data"
    }
   ],
   "source": [
    "%sql\n",
    "WITH cte AS \n",
    "(SELECT user_id\n",
    "     , explode_outer(user_phones) as user_phone -- Note: you cannot use .* with explode function\n",
    "FROM users)\n",
    "SELECT  user_id\n",
    "      , user_phone.*  -- or user_phone.phone_type, user_phone.phone_number\n",
    "FROM cte"
   ]
  },
  {
   "cell_type": "markdown",
   "metadata": {
    "application/vnd.databricks.v1+cell": {
     "cellMetadata": {
      "byteLimit": 2048000,
      "rowLimit": 10000
     },
     "inputWidgets": {},
     "nuid": "b437d3fa-9cd6-4885-a488-5d2975ac8e30",
     "showTitle": false,
     "title": ""
    }
   },
   "source": [
    "#### Important Functions to Process JSON Data in Spark SQL\n",
    "- `split`, `concat_ws`, `collect_*`, `array_*`"
   ]
  },
  {
   "cell_type": "code",
   "execution_count": 0,
   "metadata": {
    "application/vnd.databricks.v1+cell": {
     "cellMetadata": {
      "byteLimit": 2048000,
      "implicitDf": true,
      "rowLimit": 10000
     },
     "inputWidgets": {},
     "nuid": "7c6787ae-5371-4d76-a10d-a705471c35ee",
     "showTitle": false,
     "title": ""
    }
   },
   "outputs": [
    {
     "output_type": "display_data",
     "data": {
      "text/html": [
       "<style scoped>\n",
       "  .table-result-container {\n",
       "    max-height: 300px;\n",
       "    overflow: auto;\n",
       "  }\n",
       "  table, th, td {\n",
       "    border: 1px solid black;\n",
       "    border-collapse: collapse;\n",
       "  }\n",
       "  th, td {\n",
       "    padding: 5px;\n",
       "  }\n",
       "  th {\n",
       "    text-align: left;\n",
       "  }\n",
       "</style><div class='table-result-container'><table class='table-result'><thead style='background-color: white'><tr><th>user_id</th><th>user_fname</th><th>user_lname</th><th>user_phone_type</th><th>user_phone_number</th></tr></thead><tbody><tr><td>1</td><td>Scott</td><td>Tiger</td><td>home</td><td>+1 (234) 567 8901</td></tr><tr><td>1</td><td>Scott</td><td>Tiger</td><td>mobile</td><td>+1 (123) 456 7890</td></tr><tr><td>2</td><td>Donald</td><td>Duck</td><td>null</td><td>null</td></tr><tr><td>3</td><td>Mickey</td><td>Mouse</td><td>home</td><td>+1 (123) 456 9012</td></tr></tbody></table></div>"
      ]
     },
     "metadata": {
      "application/vnd.databricks.v1+output": {
       "addedWidgets": {},
       "aggData": [],
       "aggError": "",
       "aggOverflow": false,
       "aggSchema": [],
       "aggSeriesLimitReached": false,
       "aggType": "",
       "arguments": {},
       "columnCustomDisplayInfos": {},
       "data": [
        [
         1,
         "Scott",
         "Tiger",
         "home",
         "+1 (234) 567 8901"
        ],
        [
         1,
         "Scott",
         "Tiger",
         "mobile",
         "+1 (123) 456 7890"
        ],
        [
         2,
         "Donald",
         "Duck",
         null,
         null
        ],
        [
         3,
         "Mickey",
         "Mouse",
         "home",
         "+1 (123) 456 9012"
        ]
       ],
       "datasetInfos": [],
       "dbfsResultPath": null,
       "isJsonSchema": true,
       "metadata": {
        "dataframeName": "_sqldf",
        "executionCount": 16
       },
       "overflow": false,
       "plotOptions": {
        "customPlotOptions": {},
        "displayType": "table",
        "pivotAggregation": null,
        "pivotColumns": null,
        "xColumns": null,
        "yColumns": null
       },
       "removedWidgets": [],
       "schema": [
        {
         "metadata": "{}",
         "name": "user_id",
         "type": "\"integer\""
        },
        {
         "metadata": "{}",
         "name": "user_fname",
         "type": "\"string\""
        },
        {
         "metadata": "{}",
         "name": "user_lname",
         "type": "\"string\""
        },
        {
         "metadata": "{}",
         "name": "user_phone_type",
         "type": "\"string\""
        },
        {
         "metadata": "{}",
         "name": "user_phone_number",
         "type": "\"string\""
        }
       ],
       "type": "table"
      }
     },
     "output_type": "display_data"
    }
   ],
   "source": [
    "%sql\n",
    "DROP TABLE IF EXISTS users;\n",
    "CREATE TABLE users(\n",
    "  user_id INT,\n",
    "  user_fname STRING,\n",
    "  user_lname STRING,\n",
    "  user_phone_type STRING,\n",
    "  user_phone_number STRING\n",
    ");\n",
    "\n",
    "INSERT INTO users VALUES \n",
    "(1, 'Scott', 'Tiger', 'home', '+1 (234) 567 8901'),\n",
    "(1, 'Scott', 'Tiger', 'mobile', '+1 (123) 456 7890'),\n",
    "(2, 'Donald', 'Duck', NULL, NULL),\n",
    "(3, 'Mickey', 'Mouse', 'home', '+1 (123) 456 9012');\n",
    "\n",
    "SELECT * FROM users;\n"
   ]
  },
  {
   "cell_type": "code",
   "execution_count": 0,
   "metadata": {
    "application/vnd.databricks.v1+cell": {
     "cellMetadata": {
      "byteLimit": 2048000,
      "rowLimit": 10000
     },
     "inputWidgets": {},
     "nuid": "82596083-cd65-4d69-9374-812d54212f21",
     "showTitle": false,
     "title": ""
    }
   },
   "outputs": [],
   "source": [
    "%sql\n",
    "-- Requirement:\n",
    "-- 1 Scott Tiger [+1 (234) 567 8901, +1 (123) 456 7890]\n",
    "-- 2 Donald Duck NULL\n",
    "-- 3 Mickey Mouse [+1 (123) 456 9012]"
   ]
  },
  {
   "cell_type": "code",
   "execution_count": 0,
   "metadata": {
    "application/vnd.databricks.v1+cell": {
     "cellMetadata": {
      "byteLimit": 2048000,
      "implicitDf": true,
      "rowLimit": 10000
     },
     "inputWidgets": {},
     "nuid": "b0eeaa3b-50c5-4148-baac-c3f6646931f8",
     "showTitle": false,
     "title": ""
    }
   },
   "outputs": [
    {
     "output_type": "display_data",
     "data": {
      "text/html": [
       "<style scoped>\n",
       "  .table-result-container {\n",
       "    max-height: 300px;\n",
       "    overflow: auto;\n",
       "  }\n",
       "  table, th, td {\n",
       "    border: 1px solid black;\n",
       "    border-collapse: collapse;\n",
       "  }\n",
       "  th, td {\n",
       "    padding: 5px;\n",
       "  }\n",
       "  th {\n",
       "    text-align: left;\n",
       "  }\n",
       "</style><div class='table-result-container'><table class='table-result'><thead style='background-color: white'><tr><th>user_id</th><th>user_fname</th><th>user_lname</th><th>phone_count</th></tr></thead><tbody><tr><td>2</td><td>Donald</td><td>Duck</td><td>1</td></tr><tr><td>1</td><td>Scott</td><td>Tiger</td><td>2</td></tr><tr><td>3</td><td>Mickey</td><td>Mouse</td><td>1</td></tr></tbody></table></div>"
      ]
     },
     "metadata": {
      "application/vnd.databricks.v1+output": {
       "addedWidgets": {},
       "aggData": [],
       "aggError": "",
       "aggOverflow": false,
       "aggSchema": [],
       "aggSeriesLimitReached": false,
       "aggType": "",
       "arguments": {},
       "columnCustomDisplayInfos": {},
       "data": [
        [
         2,
         "Donald",
         "Duck",
         1
        ],
        [
         1,
         "Scott",
         "Tiger",
         2
        ],
        [
         3,
         "Mickey",
         "Mouse",
         1
        ]
       ],
       "datasetInfos": [],
       "dbfsResultPath": null,
       "isJsonSchema": true,
       "metadata": {
        "dataframeName": "_sqldf",
        "executionCount": 17
       },
       "overflow": false,
       "plotOptions": {
        "customPlotOptions": {},
        "displayType": "table",
        "pivotAggregation": null,
        "pivotColumns": null,
        "xColumns": null,
        "yColumns": null
       },
       "removedWidgets": [],
       "schema": [
        {
         "metadata": "{}",
         "name": "user_id",
         "type": "\"integer\""
        },
        {
         "metadata": "{}",
         "name": "user_fname",
         "type": "\"string\""
        },
        {
         "metadata": "{}",
         "name": "user_lname",
         "type": "\"string\""
        },
        {
         "metadata": "{}",
         "name": "phone_count",
         "type": "\"long\""
        }
       ],
       "type": "table"
      }
     },
     "output_type": "display_data"
    }
   ],
   "source": [
    "%sql\n",
    "SELECT user_id\n",
    ", user_fname\n",
    ", user_lname\n",
    ", count(*) as phone_count\n",
    "FROM users\n",
    "GROUP BY 1, 2, 3;"
   ]
  },
  {
   "cell_type": "code",
   "execution_count": 0,
   "metadata": {
    "application/vnd.databricks.v1+cell": {
     "cellMetadata": {
      "byteLimit": 2048000,
      "implicitDf": true,
      "rowLimit": 10000
     },
     "inputWidgets": {},
     "nuid": "4bf1ea8e-87d1-4b86-b738-5a5e69d2698e",
     "showTitle": false,
     "title": ""
    }
   },
   "outputs": [
    {
     "output_type": "display_data",
     "data": {
      "text/html": [
       "<style scoped>\n",
       "  .table-result-container {\n",
       "    max-height: 300px;\n",
       "    overflow: auto;\n",
       "  }\n",
       "  table, th, td {\n",
       "    border: 1px solid black;\n",
       "    border-collapse: collapse;\n",
       "  }\n",
       "  th, td {\n",
       "    padding: 5px;\n",
       "  }\n",
       "  th {\n",
       "    text-align: left;\n",
       "  }\n",
       "</style><div class='table-result-container'><table class='table-result'><thead style='background-color: white'><tr><th>user_id</th><th>user_fname</th><th>user_lname</th><th>user_phones</th></tr></thead><tbody><tr><td>2</td><td>Donald</td><td>Duck</td><td>List()</td></tr><tr><td>1</td><td>Scott</td><td>Tiger</td><td>List(+1 (234) 567 8901, +1 (123) 456 7890)</td></tr><tr><td>3</td><td>Mickey</td><td>Mouse</td><td>List(+1 (123) 456 9012)</td></tr></tbody></table></div>"
      ]
     },
     "metadata": {
      "application/vnd.databricks.v1+output": {
       "addedWidgets": {},
       "aggData": [],
       "aggError": "",
       "aggOverflow": false,
       "aggSchema": [],
       "aggSeriesLimitReached": false,
       "aggType": "",
       "arguments": {},
       "columnCustomDisplayInfos": {},
       "data": [
        [
         2,
         "Donald",
         "Duck",
         []
        ],
        [
         1,
         "Scott",
         "Tiger",
         [
          "+1 (234) 567 8901",
          "+1 (123) 456 7890"
         ]
        ],
        [
         3,
         "Mickey",
         "Mouse",
         [
          "+1 (123) 456 9012"
         ]
        ]
       ],
       "datasetInfos": [],
       "dbfsResultPath": null,
       "isJsonSchema": true,
       "metadata": {
        "dataframeName": "_sqldf",
        "executionCount": 18
       },
       "overflow": false,
       "plotOptions": {
        "customPlotOptions": {},
        "displayType": "table",
        "pivotAggregation": null,
        "pivotColumns": null,
        "xColumns": null,
        "yColumns": null
       },
       "removedWidgets": [],
       "schema": [
        {
         "metadata": "{}",
         "name": "user_id",
         "type": "\"integer\""
        },
        {
         "metadata": "{}",
         "name": "user_fname",
         "type": "\"string\""
        },
        {
         "metadata": "{}",
         "name": "user_lname",
         "type": "\"string\""
        },
        {
         "metadata": "{}",
         "name": "user_phones",
         "type": "{\"type\":\"array\",\"elementType\":\"string\",\"containsNull\":false}"
        }
       ],
       "type": "table"
      }
     },
     "output_type": "display_data"
    }
   ],
   "source": [
    "%sql\n",
    "-- Ex1: COLLECT_LIST retains duplicates & COLLECT_SET ignores duplicate \n",
    "SELECT user_id\n",
    ", user_fname\n",
    ", user_lname\n",
    ", collect_list(user_phone_number) as user_phones\n",
    "FROM users\n",
    "GROUP BY 1, 2, 3;"
   ]
  },
  {
   "cell_type": "code",
   "execution_count": 0,
   "metadata": {
    "application/vnd.databricks.v1+cell": {
     "cellMetadata": {
      "byteLimit": 2048000,
      "implicitDf": true,
      "rowLimit": 10000
     },
     "inputWidgets": {},
     "nuid": "fb48e32a-1ff0-4c6a-b6dd-2703abc6c335",
     "showTitle": false,
     "title": ""
    }
   },
   "outputs": [
    {
     "output_type": "display_data",
     "data": {
      "text/html": [
       "<style scoped>\n",
       "  .table-result-container {\n",
       "    max-height: 300px;\n",
       "    overflow: auto;\n",
       "  }\n",
       "  table, th, td {\n",
       "    border: 1px solid black;\n",
       "    border-collapse: collapse;\n",
       "  }\n",
       "  th, td {\n",
       "    padding: 5px;\n",
       "  }\n",
       "  th {\n",
       "    text-align: left;\n",
       "  }\n",
       "</style><div class='table-result-container'><table class='table-result'><thead style='background-color: white'><tr><th>user_id</th><th>user_fname</th><th>user_lname</th><th>user_phones</th></tr></thead><tbody><tr><td>2</td><td>Donald</td><td>Duck</td><td></td></tr><tr><td>1</td><td>Scott</td><td>Tiger</td><td>+1 (234) 567 8901,+1 (123) 456 7890</td></tr><tr><td>3</td><td>Mickey</td><td>Mouse</td><td>+1 (123) 456 9012</td></tr></tbody></table></div>"
      ]
     },
     "metadata": {
      "application/vnd.databricks.v1+output": {
       "addedWidgets": {},
       "aggData": [],
       "aggError": "",
       "aggOverflow": false,
       "aggSchema": [],
       "aggSeriesLimitReached": false,
       "aggType": "",
       "arguments": {},
       "columnCustomDisplayInfos": {},
       "data": [
        [
         2,
         "Donald",
         "Duck",
         ""
        ],
        [
         1,
         "Scott",
         "Tiger",
         "+1 (234) 567 8901,+1 (123) 456 7890"
        ],
        [
         3,
         "Mickey",
         "Mouse",
         "+1 (123) 456 9012"
        ]
       ],
       "datasetInfos": [],
       "dbfsResultPath": null,
       "isJsonSchema": true,
       "metadata": {
        "dataframeName": "_sqldf",
        "executionCount": 19
       },
       "overflow": false,
       "plotOptions": {
        "customPlotOptions": {},
        "displayType": "table",
        "pivotAggregation": null,
        "pivotColumns": null,
        "xColumns": null,
        "yColumns": null
       },
       "removedWidgets": [],
       "schema": [
        {
         "metadata": "{}",
         "name": "user_id",
         "type": "\"integer\""
        },
        {
         "metadata": "{}",
         "name": "user_fname",
         "type": "\"string\""
        },
        {
         "metadata": "{}",
         "name": "user_lname",
         "type": "\"string\""
        },
        {
         "metadata": "{}",
         "name": "user_phones",
         "type": "\"string\""
        }
       ],
       "type": "table"
      }
     },
     "output_type": "display_data"
    }
   ],
   "source": [
    "%sql\n",
    "-- Ex2: If you want to represent in delimitted string\n",
    "SELECT user_id\n",
    ", user_fname\n",
    ", user_lname\n",
    ", concat_ws(',', collect_list(user_phone_number)) as user_phones\n",
    "FROM users\n",
    "GROUP BY 1, 2, 3;\n"
   ]
  },
  {
   "cell_type": "code",
   "execution_count": 0,
   "metadata": {
    "application/vnd.databricks.v1+cell": {
     "cellMetadata": {
      "byteLimit": 2048000,
      "implicitDf": true,
      "rowLimit": 10000
     },
     "inputWidgets": {},
     "nuid": "f5304e33-1cca-4db0-8477-2c52c79f2005",
     "showTitle": false,
     "title": ""
    }
   },
   "outputs": [
    {
     "output_type": "display_data",
     "data": {
      "text/html": [
       "<style scoped>\n",
       "  .table-result-container {\n",
       "    max-height: 300px;\n",
       "    overflow: auto;\n",
       "  }\n",
       "  table, th, td {\n",
       "    border: 1px solid black;\n",
       "    border-collapse: collapse;\n",
       "  }\n",
       "  th, td {\n",
       "    padding: 5px;\n",
       "  }\n",
       "  th {\n",
       "    text-align: left;\n",
       "  }\n",
       "</style><div class='table-result-container'><table class='table-result'><thead style='background-color: white'><tr><th>user_id</th><th>user_fname</th><th>user_lname</th><th>user_phones</th></tr></thead><tbody><tr><td>1</td><td>Scott</td><td>Tiger</td><td>List(home, +1 (234) 567 8901)</td></tr><tr><td>1</td><td>Scott</td><td>Tiger</td><td>List(mobile, +1 (123) 456 7890)</td></tr><tr><td>2</td><td>Donald</td><td>Duck</td><td>List(null, null)</td></tr><tr><td>3</td><td>Mickey</td><td>Mouse</td><td>List(home, +1 (123) 456 9012)</td></tr></tbody></table></div>"
      ]
     },
     "metadata": {
      "application/vnd.databricks.v1+output": {
       "addedWidgets": {},
       "aggData": [],
       "aggError": "",
       "aggOverflow": false,
       "aggSchema": [],
       "aggSeriesLimitReached": false,
       "aggType": "",
       "arguments": {},
       "columnCustomDisplayInfos": {},
       "data": [
        [
         1,
         "Scott",
         "Tiger",
         [
          "home",
          "+1 (234) 567 8901"
         ]
        ],
        [
         1,
         "Scott",
         "Tiger",
         [
          "mobile",
          "+1 (123) 456 7890"
         ]
        ],
        [
         2,
         "Donald",
         "Duck",
         [
          null,
          null
         ]
        ],
        [
         3,
         "Mickey",
         "Mouse",
         [
          "home",
          "+1 (123) 456 9012"
         ]
        ]
       ],
       "datasetInfos": [],
       "dbfsResultPath": null,
       "isJsonSchema": true,
       "metadata": {
        "dataframeName": "_sqldf",
        "executionCount": 20
       },
       "overflow": false,
       "plotOptions": {
        "customPlotOptions": {},
        "displayType": "table",
        "pivotAggregation": null,
        "pivotColumns": null,
        "xColumns": null,
        "yColumns": null
       },
       "removedWidgets": [],
       "schema": [
        {
         "metadata": "{}",
         "name": "user_id",
         "type": "\"integer\""
        },
        {
         "metadata": "{}",
         "name": "user_fname",
         "type": "\"string\""
        },
        {
         "metadata": "{}",
         "name": "user_lname",
         "type": "\"string\""
        },
        {
         "metadata": "{}",
         "name": "user_phones",
         "type": "{\"type\":\"struct\",\"fields\":[{\"name\":\"user_phone_type\",\"type\":\"string\",\"nullable\":true,\"metadata\":{}},{\"name\":\"user_phone_number\",\"type\":\"string\",\"nullable\":true,\"metadata\":{}}]}"
        }
       ],
       "type": "table"
      }
     },
     "output_type": "display_data"
    }
   ],
   "source": [
    "%sql\n",
    "-- Ex3. If you want to convert to Struct Type\n",
    "SELECT user_id\n",
    ", user_fname\n",
    ", user_lname\n",
    ", STRUCT(user_phone_type, user_phone_number) as user_phones\n",
    "FROM users;"
   ]
  },
  {
   "cell_type": "code",
   "execution_count": 0,
   "metadata": {
    "application/vnd.databricks.v1+cell": {
     "cellMetadata": {
      "byteLimit": 2048000,
      "implicitDf": true,
      "rowLimit": 10000
     },
     "inputWidgets": {},
     "nuid": "852c1335-aa14-4de0-8885-681a7f1b7e92",
     "showTitle": false,
     "title": ""
    }
   },
   "outputs": [
    {
     "output_type": "display_data",
     "data": {
      "text/html": [
       "<style scoped>\n",
       "  .table-result-container {\n",
       "    max-height: 300px;\n",
       "    overflow: auto;\n",
       "  }\n",
       "  table, th, td {\n",
       "    border: 1px solid black;\n",
       "    border-collapse: collapse;\n",
       "  }\n",
       "  th, td {\n",
       "    padding: 5px;\n",
       "  }\n",
       "  th {\n",
       "    text-align: left;\n",
       "  }\n",
       "</style><div class='table-result-container'><table class='table-result'><thead style='background-color: white'><tr><th>user_id</th><th>user_fname</th><th>user_lname</th><th>user_phones</th></tr></thead><tbody><tr><td>1</td><td>Scott</td><td>Tiger</td><td>List(home, +1 (234) 567 8901)</td></tr><tr><td>1</td><td>Scott</td><td>Tiger</td><td>List(mobile, +1 (123) 456 7890)</td></tr><tr><td>2</td><td>Donald</td><td>Duck</td><td>null</td></tr><tr><td>3</td><td>Mickey</td><td>Mouse</td><td>List(home, +1 (123) 456 9012)</td></tr></tbody></table></div>"
      ]
     },
     "metadata": {
      "application/vnd.databricks.v1+output": {
       "addedWidgets": {},
       "aggData": [],
       "aggError": "",
       "aggOverflow": false,
       "aggSchema": [],
       "aggSeriesLimitReached": false,
       "aggType": "",
       "arguments": {},
       "columnCustomDisplayInfos": {},
       "data": [
        [
         1,
         "Scott",
         "Tiger",
         [
          "home",
          "+1 (234) 567 8901"
         ]
        ],
        [
         1,
         "Scott",
         "Tiger",
         [
          "mobile",
          "+1 (123) 456 7890"
         ]
        ],
        [
         2,
         "Donald",
         "Duck",
         null
        ],
        [
         3,
         "Mickey",
         "Mouse",
         [
          "home",
          "+1 (123) 456 9012"
         ]
        ]
       ],
       "datasetInfos": [],
       "dbfsResultPath": null,
       "isJsonSchema": true,
       "metadata": {
        "dataframeName": "_sqldf",
        "executionCount": 21
       },
       "overflow": false,
       "plotOptions": {
        "customPlotOptions": {},
        "displayType": "table",
        "pivotAggregation": null,
        "pivotColumns": null,
        "xColumns": null,
        "yColumns": null
       },
       "removedWidgets": [],
       "schema": [
        {
         "metadata": "{}",
         "name": "user_id",
         "type": "\"integer\""
        },
        {
         "metadata": "{}",
         "name": "user_fname",
         "type": "\"string\""
        },
        {
         "metadata": "{}",
         "name": "user_lname",
         "type": "\"string\""
        },
        {
         "metadata": "{}",
         "name": "user_phones",
         "type": "{\"type\":\"struct\",\"fields\":[{\"name\":\"user_phone_type\",\"type\":\"string\",\"nullable\":true,\"metadata\":{}},{\"name\":\"user_phone_number\",\"type\":\"string\",\"nullable\":true,\"metadata\":{}}]}"
        }
       ],
       "type": "table"
      }
     },
     "output_type": "display_data"
    }
   ],
   "source": [
    "%sql\n",
    "SELECT user_id\n",
    ", user_fname\n",
    ", user_lname\n",
    ", CASE WHEN user_phone_number IS NOT NULL THEN STRUCT(user_phone_type, user_phone_number) ELSE NULL END as user_phones\n",
    "FROM users;"
   ]
  },
  {
   "cell_type": "code",
   "execution_count": 0,
   "metadata": {
    "application/vnd.databricks.v1+cell": {
     "cellMetadata": {
      "byteLimit": 2048000,
      "implicitDf": true,
      "rowLimit": 10000
     },
     "inputWidgets": {},
     "nuid": "5cf10157-aaf1-46e6-930e-57e62395b0f6",
     "showTitle": false,
     "title": ""
    }
   },
   "outputs": [
    {
     "output_type": "display_data",
     "data": {
      "text/html": [
       "<style scoped>\n",
       "  .table-result-container {\n",
       "    max-height: 300px;\n",
       "    overflow: auto;\n",
       "  }\n",
       "  table, th, td {\n",
       "    border: 1px solid black;\n",
       "    border-collapse: collapse;\n",
       "  }\n",
       "  th, td {\n",
       "    padding: 5px;\n",
       "  }\n",
       "  th {\n",
       "    text-align: left;\n",
       "  }\n",
       "</style><div class='table-result-container'><table class='table-result'><thead style='background-color: white'><tr><th>user_id</th><th>user_fname</th><th>user_lname</th><th>user_phones</th></tr></thead><tbody><tr><td>2</td><td>Donald</td><td>Duck</td><td>List()</td></tr><tr><td>1</td><td>Scott</td><td>Tiger</td><td>List(List(home, +1 (234) 567 8901), List(mobile, +1 (123) 456 7890))</td></tr><tr><td>3</td><td>Mickey</td><td>Mouse</td><td>List(List(home, +1 (123) 456 9012))</td></tr></tbody></table></div>"
      ]
     },
     "metadata": {
      "application/vnd.databricks.v1+output": {
       "addedWidgets": {},
       "aggData": [],
       "aggError": "",
       "aggOverflow": false,
       "aggSchema": [],
       "aggSeriesLimitReached": false,
       "aggType": "",
       "arguments": {},
       "columnCustomDisplayInfos": {},
       "data": [
        [
         2,
         "Donald",
         "Duck",
         []
        ],
        [
         1,
         "Scott",
         "Tiger",
         [
          [
           "home",
           "+1 (234) 567 8901"
          ],
          [
           "mobile",
           "+1 (123) 456 7890"
          ]
         ]
        ],
        [
         3,
         "Mickey",
         "Mouse",
         [
          [
           "home",
           "+1 (123) 456 9012"
          ]
         ]
        ]
       ],
       "datasetInfos": [],
       "dbfsResultPath": null,
       "isJsonSchema": true,
       "metadata": {
        "dataframeName": "_sqldf",
        "executionCount": 22
       },
       "overflow": false,
       "plotOptions": {
        "customPlotOptions": {},
        "displayType": "table",
        "pivotAggregation": null,
        "pivotColumns": null,
        "xColumns": null,
        "yColumns": null
       },
       "removedWidgets": [],
       "schema": [
        {
         "metadata": "{}",
         "name": "user_id",
         "type": "\"integer\""
        },
        {
         "metadata": "{}",
         "name": "user_fname",
         "type": "\"string\""
        },
        {
         "metadata": "{}",
         "name": "user_lname",
         "type": "\"string\""
        },
        {
         "metadata": "{}",
         "name": "user_phones",
         "type": "{\"type\":\"array\",\"elementType\":{\"type\":\"struct\",\"fields\":[{\"name\":\"user_phone_type\",\"type\":\"string\",\"nullable\":true,\"metadata\":{}},{\"name\":\"user_phone_number\",\"type\":\"string\",\"nullable\":true,\"metadata\":{}}]},\"containsNull\":false}"
        }
       ],
       "type": "table"
      }
     },
     "output_type": "display_data"
    }
   ],
   "source": [
    "%sql\n",
    "-- Ex4. If you want to convert into ARRAY(STRUCT) Type\n",
    "SELECT user_id\n",
    ", user_fname\n",
    ", user_lname\n",
    ",  collect_list(CASE WHEN user_phone_number IS NOT NULL THEN STRUCT(user_phone_type, user_phone_number) ELSE NULL END) as user_phones\n",
    "FROM users\n",
    "GROUP BY 1, 2, 3;"
   ]
  },
  {
   "cell_type": "code",
   "execution_count": 0,
   "metadata": {
    "application/vnd.databricks.v1+cell": {
     "cellMetadata": {
      "byteLimit": 2048000,
      "implicitDf": true,
      "rowLimit": 10000
     },
     "inputWidgets": {},
     "nuid": "be4749ae-7517-4e0d-ace5-f9e793cd413f",
     "showTitle": false,
     "title": ""
    }
   },
   "outputs": [
    {
     "output_type": "display_data",
     "data": {
      "text/html": [
       "<style scoped>\n",
       "  .table-result-container {\n",
       "    max-height: 300px;\n",
       "    overflow: auto;\n",
       "  }\n",
       "  table, th, td {\n",
       "    border: 1px solid black;\n",
       "    border-collapse: collapse;\n",
       "  }\n",
       "  th, td {\n",
       "    padding: 5px;\n",
       "  }\n",
       "  th {\n",
       "    text-align: left;\n",
       "  }\n",
       "</style><div class='table-result-container'><table class='table-result'><thead style='background-color: white'><tr><th>num_affected_rows</th><th>num_inserted_rows</th></tr></thead><tbody><tr><td>3</td><td>3</td></tr></tbody></table></div>"
      ]
     },
     "metadata": {
      "application/vnd.databricks.v1+output": {
       "addedWidgets": {},
       "aggData": [],
       "aggError": "",
       "aggOverflow": false,
       "aggSchema": [],
       "aggSeriesLimitReached": false,
       "aggType": "",
       "arguments": {},
       "columnCustomDisplayInfos": {},
       "data": [
        [
         3,
         3
        ]
       ],
       "datasetInfos": [],
       "dbfsResultPath": null,
       "isJsonSchema": true,
       "metadata": {
        "dataframeName": "_sqldf",
        "executionCount": 23
       },
       "overflow": false,
       "plotOptions": {
        "customPlotOptions": {},
        "displayType": "table",
        "pivotAggregation": null,
        "pivotColumns": null,
        "xColumns": null,
        "yColumns": null
       },
       "removedWidgets": [],
       "schema": [
        {
         "metadata": "{}",
         "name": "num_affected_rows",
         "type": "\"long\""
        },
        {
         "metadata": "{}",
         "name": "num_inserted_rows",
         "type": "\"long\""
        }
       ],
       "type": "table"
      }
     },
     "output_type": "display_data"
    }
   ],
   "source": [
    "%sql\n",
    "DROP TABLE IF EXISTS users;\n",
    "CREATE TABLE users(\n",
    "  user_id INT,\n",
    "  user_fname STRING,\n",
    "  user_lname STRING,\n",
    "  user_phones STRING\n",
    ");\n",
    "\n",
    "INSERT INTO users VALUES \n",
    "(1, 'Scott', 'Tiger', '+1 (234) 567 8901, +1 (123) 456 7890'),\n",
    "(2, 'Donald', 'Duck', NULL),\n",
    "(3, 'Mickey', 'Mouse', '+1 (456) 789 0123');"
   ]
  },
  {
   "cell_type": "code",
   "execution_count": 0,
   "metadata": {
    "application/vnd.databricks.v1+cell": {
     "cellMetadata": {
      "byteLimit": 2048000,
      "implicitDf": true,
      "rowLimit": 10000
     },
     "inputWidgets": {},
     "nuid": "e8fac53a-f68f-4c4f-bef3-10bf6a35453c",
     "showTitle": false,
     "title": ""
    }
   },
   "outputs": [
    {
     "output_type": "display_data",
     "data": {
      "text/html": [
       "<style scoped>\n",
       "  .table-result-container {\n",
       "    max-height: 300px;\n",
       "    overflow: auto;\n",
       "  }\n",
       "  table, th, td {\n",
       "    border: 1px solid black;\n",
       "    border-collapse: collapse;\n",
       "  }\n",
       "  th, td {\n",
       "    padding: 5px;\n",
       "  }\n",
       "  th {\n",
       "    text-align: left;\n",
       "  }\n",
       "</style><div class='table-result-container'><table class='table-result'><thead style='background-color: white'><tr><th>user_id</th><th>user_fname</th><th>user_lname</th><th>user_phones</th></tr></thead><tbody><tr><td>1</td><td>Scott</td><td>Tiger</td><td>+1 (234) 567 8901, +1 (123) 456 7890</td></tr><tr><td>2</td><td>Donald</td><td>Duck</td><td>null</td></tr><tr><td>3</td><td>Mickey</td><td>Mouse</td><td>+1 (456) 789 0123</td></tr></tbody></table></div>"
      ]
     },
     "metadata": {
      "application/vnd.databricks.v1+output": {
       "addedWidgets": {},
       "aggData": [],
       "aggError": "",
       "aggOverflow": false,
       "aggSchema": [],
       "aggSeriesLimitReached": false,
       "aggType": "",
       "arguments": {},
       "columnCustomDisplayInfos": {},
       "data": [
        [
         1,
         "Scott",
         "Tiger",
         "+1 (234) 567 8901, +1 (123) 456 7890"
        ],
        [
         2,
         "Donald",
         "Duck",
         null
        ],
        [
         3,
         "Mickey",
         "Mouse",
         "+1 (456) 789 0123"
        ]
       ],
       "datasetInfos": [],
       "dbfsResultPath": null,
       "isJsonSchema": true,
       "metadata": {
        "dataframeName": "_sqldf",
        "executionCount": 24
       },
       "overflow": false,
       "plotOptions": {
        "customPlotOptions": {},
        "displayType": "table",
        "pivotAggregation": null,
        "pivotColumns": null,
        "xColumns": null,
        "yColumns": null
       },
       "removedWidgets": [],
       "schema": [
        {
         "metadata": "{}",
         "name": "user_id",
         "type": "\"integer\""
        },
        {
         "metadata": "{}",
         "name": "user_fname",
         "type": "\"string\""
        },
        {
         "metadata": "{}",
         "name": "user_lname",
         "type": "\"string\""
        },
        {
         "metadata": "{}",
         "name": "user_phones",
         "type": "\"string\""
        }
       ],
       "type": "table"
      }
     },
     "output_type": "display_data"
    }
   ],
   "source": [
    "%sql\n",
    "SELECT * FROM users;"
   ]
  },
  {
   "cell_type": "code",
   "execution_count": 0,
   "metadata": {
    "application/vnd.databricks.v1+cell": {
     "cellMetadata": {
      "byteLimit": 2048000,
      "implicitDf": true,
      "rowLimit": 10000
     },
     "inputWidgets": {},
     "nuid": "ebeec9ab-c45c-4392-a7a9-af26624efb11",
     "showTitle": false,
     "title": ""
    }
   },
   "outputs": [
    {
     "output_type": "display_data",
     "data": {
      "text/html": [
       "<style scoped>\n",
       "  .table-result-container {\n",
       "    max-height: 300px;\n",
       "    overflow: auto;\n",
       "  }\n",
       "  table, th, td {\n",
       "    border: 1px solid black;\n",
       "    border-collapse: collapse;\n",
       "  }\n",
       "  th, td {\n",
       "    padding: 5px;\n",
       "  }\n",
       "  th {\n",
       "    text-align: left;\n",
       "  }\n",
       "</style><div class='table-result-container'><table class='table-result'><thead style='background-color: white'><tr><th>user_id</th><th>user_fname</th><th>user_lname</th><th>user_phones</th></tr></thead><tbody><tr><td>1</td><td>Scott</td><td>Tiger</td><td>+1 (234) 567 8901</td></tr><tr><td>1</td><td>Scott</td><td>Tiger</td><td> +1 (123) 456 7890</td></tr><tr><td>2</td><td>Donald</td><td>Duck</td><td>null</td></tr><tr><td>3</td><td>Mickey</td><td>Mouse</td><td>+1 (456) 789 0123</td></tr></tbody></table></div>"
      ]
     },
     "metadata": {
      "application/vnd.databricks.v1+output": {
       "addedWidgets": {},
       "aggData": [],
       "aggError": "",
       "aggOverflow": false,
       "aggSchema": [],
       "aggSeriesLimitReached": false,
       "aggType": "",
       "arguments": {},
       "columnCustomDisplayInfos": {},
       "data": [
        [
         1,
         "Scott",
         "Tiger",
         "+1 (234) 567 8901"
        ],
        [
         1,
         "Scott",
         "Tiger",
         " +1 (123) 456 7890"
        ],
        [
         2,
         "Donald",
         "Duck",
         null
        ],
        [
         3,
         "Mickey",
         "Mouse",
         "+1 (456) 789 0123"
        ]
       ],
       "datasetInfos": [],
       "dbfsResultPath": null,
       "isJsonSchema": true,
       "metadata": {
        "dataframeName": "_sqldf",
        "executionCount": 25
       },
       "overflow": false,
       "plotOptions": {
        "customPlotOptions": {},
        "displayType": "table",
        "pivotAggregation": null,
        "pivotColumns": null,
        "xColumns": null,
        "yColumns": null
       },
       "removedWidgets": [],
       "schema": [
        {
         "metadata": "{}",
         "name": "user_id",
         "type": "\"integer\""
        },
        {
         "metadata": "{}",
         "name": "user_fname",
         "type": "\"string\""
        },
        {
         "metadata": "{}",
         "name": "user_lname",
         "type": "\"string\""
        },
        {
         "metadata": "{}",
         "name": "user_phones",
         "type": "\"string\""
        }
       ],
       "type": "table"
      }
     },
     "output_type": "display_data"
    }
   ],
   "source": [
    "%sql\n",
    "SELECT\n",
    "user_id\n",
    ", user_fname\n",
    ", user_lname\n",
    ", explode_outer(split(user_phones, ',')) AS user_phones -- split will convert in ARRAY, EXPLODE will flatten\n",
    " FROM users;"
   ]
  },
  {
   "cell_type": "code",
   "execution_count": 0,
   "metadata": {
    "application/vnd.databricks.v1+cell": {
     "cellMetadata": {
      "byteLimit": 2048000,
      "rowLimit": 10000
     },
     "inputWidgets": {},
     "nuid": "13fe56bf-2531-49de-8517-61a2b0ed0af7",
     "showTitle": false,
     "title": ""
    }
   },
   "outputs": [],
   "source": []
  }
 ],
 "metadata": {
  "application/vnd.databricks.v1+notebook": {
   "dashboards": [],
   "language": "python",
   "notebookMetadata": {
    "mostRecentlyExecutedCommandWithImplicitDF": {
     "commandId": 1261490516405918,
     "dataframes": [
      "_sqldf"
     ]
    },
    "pythonIndentUnit": 4
   },
   "notebookName": "11_Processing JSON like data using Spark SQL",
   "widgets": {}
  }
 },
 "nbformat": 4,
 "nbformat_minor": 0
}
