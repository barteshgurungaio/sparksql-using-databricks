{
 "cells": [
  {
   "cell_type": "markdown",
   "metadata": {
    "application/vnd.databricks.v1+cell": {
     "cellMetadata": {},
     "inputWidgets": {},
     "nuid": "cf54b342-98ce-409e-b21e-7f38997723bf",
     "showTitle": false,
     "title": ""
    }
   },
   "source": [
    "### Spark SQL Pre-Defined Functions\n",
    "- String Manipulating\n",
    "- Date Manipulating\n",
    "- Numeric Functions\n",
    "- Type Conversion\n",
    "- and more\n",
    "- CASE and WHEN\n",
    "- Keep in mind that aggregate functions cannot be used in WHERE, GROUP BY in Spark"
   ]
  },
  {
   "cell_type": "code",
   "execution_count": 0,
   "metadata": {
    "application/vnd.databricks.v1+cell": {
     "cellMetadata": {
      "byteLimit": 2048000,
      "rowLimit": 10000
     },
     "inputWidgets": {},
     "nuid": "faa37bbc-d079-43da-8709-0092eaca0f96",
     "showTitle": false,
     "title": ""
    }
   },
   "outputs": [],
   "source": [
    "%sql\n",
    "-- SHOW FUNCTIONS"
   ]
  },
  {
   "cell_type": "code",
   "execution_count": 0,
   "metadata": {
    "application/vnd.databricks.v1+cell": {
     "cellMetadata": {
      "byteLimit": 2048000,
      "rowLimit": 10000
     },
     "inputWidgets": {},
     "nuid": "5d2ce52e-19c2-4b26-86e4-f0d3ac3813ea",
     "showTitle": false,
     "title": ""
    }
   },
   "outputs": [
    {
     "output_type": "display_data",
     "data": {
      "text/html": [
       "<style scoped>\n",
       "  .table-result-container {\n",
       "    max-height: 300px;\n",
       "    overflow: auto;\n",
       "  }\n",
       "  table, th, td {\n",
       "    border: 1px solid black;\n",
       "    border-collapse: collapse;\n",
       "  }\n",
       "  th, td {\n",
       "    padding: 5px;\n",
       "  }\n",
       "  th {\n",
       "    text-align: left;\n",
       "  }\n",
       "</style><div class='table-result-container'><table class='table-result'><thead style='background-color: white'><tr><th>function_desc</th></tr></thead><tbody><tr><td>Function: substr</td></tr><tr><td>Class: org.apache.spark.sql.catalyst.expressions.Substring</td></tr><tr><td>Usage: \n",
       "    substr(str, pos[, len]) - Returns the substring of `str` that starts at `pos` and is of length `len`, or the slice of byte array that starts at `pos` and is of length `len`.\n",
       "\n",
       "    substr(str FROM pos[ FOR len]]) - Returns the substring of `str` that starts at `pos` and is of length `len`, or the slice of byte array that starts at `pos` and is of length `len`.\n",
       "  </td></tr></tbody></table></div>"
      ]
     },
     "metadata": {
      "application/vnd.databricks.v1+output": {
       "addedWidgets": {},
       "aggData": [],
       "aggError": "",
       "aggOverflow": false,
       "aggSchema": [],
       "aggSeriesLimitReached": false,
       "aggType": "",
       "arguments": {},
       "columnCustomDisplayInfos": {},
       "data": [
        [
         "Function: substr"
        ],
        [
         "Class: org.apache.spark.sql.catalyst.expressions.Substring"
        ],
        [
         "Usage: \n    substr(str, pos[, len]) - Returns the substring of `str` that starts at `pos` and is of length `len`, or the slice of byte array that starts at `pos` and is of length `len`.\n\n    substr(str FROM pos[ FOR len]]) - Returns the substring of `str` that starts at `pos` and is of length `len`, or the slice of byte array that starts at `pos` and is of length `len`.\n  "
        ]
       ],
       "datasetInfos": [],
       "dbfsResultPath": null,
       "isJsonSchema": true,
       "metadata": {
        "isDbfsCommandResult": false
       },
       "overflow": false,
       "plotOptions": {
        "customPlotOptions": {},
        "displayType": "table",
        "pivotAggregation": null,
        "pivotColumns": null,
        "xColumns": null,
        "yColumns": null
       },
       "removedWidgets": [],
       "schema": [
        {
         "metadata": "{}",
         "name": "function_desc",
         "type": "\"string\""
        }
       ],
       "type": "table"
      }
     },
     "output_type": "display_data"
    }
   ],
   "source": [
    "%sql\n",
    "DESCRIBE FUNCTION substr"
   ]
  },
  {
   "cell_type": "code",
   "execution_count": 0,
   "metadata": {
    "application/vnd.databricks.v1+cell": {
     "cellMetadata": {
      "byteLimit": 2048000,
      "rowLimit": 10000
     },
     "inputWidgets": {},
     "nuid": "d82f7f81-6a60-4fe8-993b-37a3d1137735",
     "showTitle": false,
     "title": ""
    }
   },
   "outputs": [
    {
     "output_type": "display_data",
     "data": {
      "text/html": [
       "<style scoped>\n",
       "  .table-result-container {\n",
       "    max-height: 300px;\n",
       "    overflow: auto;\n",
       "  }\n",
       "  table, th, td {\n",
       "    border: 1px solid black;\n",
       "    border-collapse: collapse;\n",
       "  }\n",
       "  th, td {\n",
       "    padding: 5px;\n",
       "  }\n",
       "  th {\n",
       "    text-align: left;\n",
       "  }\n",
       "</style><div class='table-result-container'><table class='table-result'><thead style='background-color: white'><tr><th>substr(Hello world, 1, 5)</th></tr></thead><tbody><tr><td>Hello</td></tr></tbody></table></div>"
      ]
     },
     "metadata": {
      "application/vnd.databricks.v1+output": {
       "addedWidgets": {},
       "aggData": [],
       "aggError": "",
       "aggOverflow": false,
       "aggSchema": [],
       "aggSeriesLimitReached": false,
       "aggType": "",
       "arguments": {},
       "columnCustomDisplayInfos": {},
       "data": [
        [
         "Hello"
        ]
       ],
       "datasetInfos": [],
       "dbfsResultPath": null,
       "isJsonSchema": true,
       "metadata": {
        "isDbfsCommandResult": false
       },
       "overflow": false,
       "plotOptions": {
        "customPlotOptions": {},
        "displayType": "table",
        "pivotAggregation": null,
        "pivotColumns": null,
        "xColumns": null,
        "yColumns": null
       },
       "removedWidgets": [],
       "schema": [
        {
         "metadata": "{\"__autoGeneratedAlias\":\"true\"}",
         "name": "substr(Hello world, 1, 5)",
         "type": "\"string\""
        }
       ],
       "type": "table"
      }
     },
     "output_type": "display_data"
    }
   ],
   "source": [
    "%sql\n",
    "SELECT substr('Hello world', 1, 5)"
   ]
  },
  {
   "cell_type": "markdown",
   "metadata": {
    "application/vnd.databricks.v1+cell": {
     "cellMetadata": {},
     "inputWidgets": {},
     "nuid": "54f448e6-6215-49ea-afb9-e8b5b9341516",
     "showTitle": false,
     "title": ""
    }
   },
   "source": [
    "#### STRING MANIPULATING FUNCTIONS\n",
    "- Case Conversion: `upper`, `lower`, `inintcap`\n",
    "- Size: `length`\n",
    "- Extract: `substr`, `split`\n",
    "- Trimming & Padding: `trim`, `rtrim`, `ltrim`, `rpad`, `lpad`\n",
    "- Reverse: `reverse`\n",
    "- Concatenate: `concat`, `concat_ws`\n",
    "- Other useful: `lit`, `col`, `cast`, `explode`"
   ]
  },
  {
   "cell_type": "code",
   "execution_count": 0,
   "metadata": {
    "application/vnd.databricks.v1+cell": {
     "cellMetadata": {
      "byteLimit": 2048000,
      "implicitDf": true,
      "rowLimit": 10000
     },
     "inputWidgets": {},
     "nuid": "5bc1c956-0114-4d9c-b473-833a34e7cd08",
     "showTitle": false,
     "title": ""
    }
   },
   "outputs": [
    {
     "output_type": "display_data",
     "data": {
      "text/html": [
       "<style scoped>\n",
       "  .table-result-container {\n",
       "    max-height: 300px;\n",
       "    overflow: auto;\n",
       "  }\n",
       "  table, th, td {\n",
       "    border: 1px solid black;\n",
       "    border-collapse: collapse;\n",
       "  }\n",
       "  th, td {\n",
       "    padding: 5px;\n",
       "  }\n",
       "  th {\n",
       "    text-align: left;\n",
       "  }\n",
       "</style><div class='table-result-container'><table class='table-result'><thead style='background-color: white'><tr><th>lower(hEllo wOrlD)</th><th>upper(hEllo wOrlD)</th><th>initcap(hEllo wOrlD)</th></tr></thead><tbody><tr><td>hello world</td><td>HELLO WORLD</td><td>Hello World</td></tr></tbody></table></div>"
      ]
     },
     "metadata": {
      "application/vnd.databricks.v1+output": {
       "addedWidgets": {},
       "aggData": [],
       "aggError": "",
       "aggOverflow": false,
       "aggSchema": [],
       "aggSeriesLimitReached": false,
       "aggType": "",
       "arguments": {},
       "columnCustomDisplayInfos": {},
       "data": [
        [
         "hello world",
         "HELLO WORLD",
         "Hello World"
        ]
       ],
       "datasetInfos": [],
       "dbfsResultPath": null,
       "isJsonSchema": true,
       "metadata": {
        "dataframeName": "_sqldf",
        "executionCount": 1
       },
       "overflow": false,
       "plotOptions": {
        "customPlotOptions": {},
        "displayType": "table",
        "pivotAggregation": null,
        "pivotColumns": null,
        "xColumns": null,
        "yColumns": null
       },
       "removedWidgets": [],
       "schema": [
        {
         "metadata": "{\"__autoGeneratedAlias\":\"true\"}",
         "name": "lower(hEllo wOrlD)",
         "type": "\"string\""
        },
        {
         "metadata": "{\"__autoGeneratedAlias\":\"true\"}",
         "name": "upper(hEllo wOrlD)",
         "type": "\"string\""
        },
        {
         "metadata": "{\"__autoGeneratedAlias\":\"true\"}",
         "name": "initcap(hEllo wOrlD)",
         "type": "\"string\""
        }
       ],
       "type": "table"
      }
     },
     "output_type": "display_data"
    }
   ],
   "source": [
    "%sql\n",
    "-- Case Conversion \n",
    "SELECT lower('hEllo wOrlD')\n",
    ", upper('hEllo wOrlD')\n",
    ", initcap('hEllo wOrlD')"
   ]
  },
  {
   "cell_type": "code",
   "execution_count": 0,
   "metadata": {
    "application/vnd.databricks.v1+cell": {
     "cellMetadata": {
      "byteLimit": 2048000,
      "implicitDf": true,
      "rowLimit": 10000
     },
     "inputWidgets": {},
     "nuid": "f5ba2d94-6698-4937-9285-12d180e8fc2c",
     "showTitle": false,
     "title": ""
    }
   },
   "outputs": [
    {
     "output_type": "display_data",
     "data": {
      "text/html": [
       "<style scoped>\n",
       "  .table-result-container {\n",
       "    max-height: 300px;\n",
       "    overflow: auto;\n",
       "  }\n",
       "  table, th, td {\n",
       "    border: 1px solid black;\n",
       "    border-collapse: collapse;\n",
       "  }\n",
       "  th, td {\n",
       "    padding: 5px;\n",
       "  }\n",
       "  th {\n",
       "    text-align: left;\n",
       "  }\n",
       "</style><div class='table-result-container'><table class='table-result'><thead style='background-color: white'><tr><th>length(hEllo wOrlD)</th></tr></thead><tbody><tr><td>11</td></tr></tbody></table></div>"
      ]
     },
     "metadata": {
      "application/vnd.databricks.v1+output": {
       "addedWidgets": {},
       "aggData": [],
       "aggError": "",
       "aggOverflow": false,
       "aggSchema": [],
       "aggSeriesLimitReached": false,
       "aggType": "",
       "arguments": {},
       "columnCustomDisplayInfos": {},
       "data": [
        [
         11
        ]
       ],
       "datasetInfos": [],
       "dbfsResultPath": null,
       "isJsonSchema": true,
       "metadata": {
        "dataframeName": "_sqldf",
        "executionCount": 2
       },
       "overflow": false,
       "plotOptions": {
        "customPlotOptions": {},
        "displayType": "table",
        "pivotAggregation": null,
        "pivotColumns": null,
        "xColumns": null,
        "yColumns": null
       },
       "removedWidgets": [],
       "schema": [
        {
         "metadata": "{\"__autoGeneratedAlias\":\"true\"}",
         "name": "length(hEllo wOrlD)",
         "type": "\"integer\""
        }
       ],
       "type": "table"
      }
     },
     "output_type": "display_data"
    }
   ],
   "source": [
    "%sql\n",
    "-- Size or length of column value\n",
    "SELECT length('hEllo wOrlD')"
   ]
  },
  {
   "cell_type": "code",
   "execution_count": 0,
   "metadata": {
    "application/vnd.databricks.v1+cell": {
     "cellMetadata": {
      "byteLimit": 2048000,
      "implicitDf": true,
      "rowLimit": 10000
     },
     "inputWidgets": {},
     "nuid": "26880ee0-8871-445f-a1fc-ddeb7ae5556b",
     "showTitle": false,
     "title": ""
    }
   },
   "outputs": [
    {
     "output_type": "display_data",
     "data": {
      "text/html": [
       "<style scoped>\n",
       "  .table-result-container {\n",
       "    max-height: 300px;\n",
       "    overflow: auto;\n",
       "  }\n",
       "  table, th, td {\n",
       "    border: 1px solid black;\n",
       "    border-collapse: collapse;\n",
       "  }\n",
       "  th, td {\n",
       "    padding: 5px;\n",
       "  }\n",
       "  th {\n",
       "    text-align: left;\n",
       "  }\n",
       "</style><div class='table-result-container'><table class='table-result'><thead style='background-color: white'><tr><th>result</th><th>result2</th><th>result3</th><th>result4</th></tr></thead><tbody><tr><td>6789</td><td>67</td><td>ITV</td><td>2023-10-03</td></tr></tbody></table></div>"
      ]
     },
     "metadata": {
      "application/vnd.databricks.v1+output": {
       "addedWidgets": {},
       "aggData": [],
       "aggError": "",
       "aggOverflow": false,
       "aggSchema": [],
       "aggSeriesLimitReached": false,
       "aggType": "",
       "arguments": {},
       "columnCustomDisplayInfos": {},
       "data": [
        [
         "6789",
         "67",
         "ITV",
         "2023-10-03"
        ]
       ],
       "datasetInfos": [],
       "dbfsResultPath": null,
       "isJsonSchema": true,
       "metadata": {
        "dataframeName": "_sqldf",
        "executionCount": 25
       },
       "overflow": false,
       "plotOptions": {
        "customPlotOptions": {},
        "displayType": "table",
        "pivotAggregation": null,
        "pivotColumns": null,
        "xColumns": null,
        "yColumns": null
       },
       "removedWidgets": [],
       "schema": [
        {
         "metadata": "{}",
         "name": "result",
         "type": "\"string\""
        },
        {
         "metadata": "{}",
         "name": "result2",
         "type": "\"string\""
        },
        {
         "metadata": "{}",
         "name": "result3",
         "type": "\"string\""
        },
        {
         "metadata": "{}",
         "name": "result4",
         "type": "\"string\""
        }
       ],
       "type": "table"
      }
     },
     "output_type": "display_data"
    }
   ],
   "source": [
    "%sql\n",
    "-- Extract \n",
    "SELECT substr('123456789', -4) as result\n",
    "     , substr('123456789', 6, 2) as result2  -- substr(string, start, len)\n",
    "     , substr('ITVersity', 1, 3) as result3\n",
    "     , substr(current_timestamp, 1, 10) as result4 -- can also extract date, But Note: we use DATE_FORMAT "
   ]
  },
  {
   "cell_type": "code",
   "execution_count": 0,
   "metadata": {
    "application/vnd.databricks.v1+cell": {
     "cellMetadata": {
      "byteLimit": 2048000,
      "implicitDf": true,
      "rowLimit": 10000
     },
     "inputWidgets": {},
     "nuid": "eae2966e-c4bb-4313-bdb3-00201b1aab02",
     "showTitle": false,
     "title": ""
    }
   },
   "outputs": [
    {
     "output_type": "display_data",
     "data": {
      "text/html": [
       "<style scoped>\n",
       "  .table-result-container {\n",
       "    max-height: 300px;\n",
       "    overflow: auto;\n",
       "  }\n",
       "  table, th, td {\n",
       "    border: 1px solid black;\n",
       "    border-collapse: collapse;\n",
       "  }\n",
       "  th, td {\n",
       "    padding: 5px;\n",
       "  }\n",
       "  th {\n",
       "    text-align: left;\n",
       "  }\n",
       "</style><div class='table-result-container'><table class='table-result'><thead style='background-color: white'><tr><th>database</th><th>tableName</th><th>isTemporary</th></tr></thead><tbody><tr><td>itversity_retail_db</td><td>order_items</td><td>false</td></tr><tr><td>itversity_retail_db</td><td>orders</td><td>false</td></tr></tbody></table></div>"
      ]
     },
     "metadata": {
      "application/vnd.databricks.v1+output": {
       "addedWidgets": {},
       "aggData": [],
       "aggError": "",
       "aggOverflow": false,
       "aggSchema": [],
       "aggSeriesLimitReached": false,
       "aggType": "",
       "arguments": {},
       "columnCustomDisplayInfos": {},
       "data": [
        [
         "itversity_retail_db",
         "order_items",
         false
        ],
        [
         "itversity_retail_db",
         "orders",
         false
        ]
       ],
       "datasetInfos": [],
       "dbfsResultPath": null,
       "isJsonSchema": true,
       "metadata": {
        "dataframeName": "_sqldf",
        "executionCount": 17
       },
       "overflow": false,
       "plotOptions": {
        "customPlotOptions": {},
        "displayType": "table",
        "pivotAggregation": null,
        "pivotColumns": null,
        "xColumns": null,
        "yColumns": null
       },
       "removedWidgets": [],
       "schema": [
        {
         "metadata": "{}",
         "name": "database",
         "type": "\"string\""
        },
        {
         "metadata": "{}",
         "name": "tableName",
         "type": "\"string\""
        },
        {
         "metadata": "{}",
         "name": "isTemporary",
         "type": "\"boolean\""
        }
       ],
       "type": "table"
      }
     },
     "output_type": "display_data"
    }
   ],
   "source": [
    "%sql\n",
    "USE itversity_retail_db;\n",
    "SHOW TABLES;"
   ]
  },
  {
   "cell_type": "code",
   "execution_count": 0,
   "metadata": {
    "application/vnd.databricks.v1+cell": {
     "cellMetadata": {
      "byteLimit": 2048000,
      "implicitDf": true,
      "rowLimit": 10000
     },
     "inputWidgets": {},
     "nuid": "87b45d7b-df82-4ee9-8876-09882297bf41",
     "showTitle": false,
     "title": ""
    }
   },
   "outputs": [
    {
     "output_type": "display_data",
     "data": {
      "text/html": [
       "<style scoped>\n",
       "  .table-result-container {\n",
       "    max-height: 300px;\n",
       "    overflow: auto;\n",
       "  }\n",
       "  table, th, td {\n",
       "    border: 1px solid black;\n",
       "    border-collapse: collapse;\n",
       "  }\n",
       "  th, td {\n",
       "    padding: 5px;\n",
       "  }\n",
       "  th {\n",
       "    text-align: left;\n",
       "  }\n",
       "</style><div class='table-result-container'><table class='table-result'><thead style='background-color: white'><tr><th>result</th><th>result</th></tr></thead><tbody><tr><td>List(1234567890,  1234567891)</td><td>1234567890</td></tr></tbody></table></div>"
      ]
     },
     "metadata": {
      "application/vnd.databricks.v1+output": {
       "addedWidgets": {},
       "aggData": [],
       "aggError": "",
       "aggOverflow": false,
       "aggSchema": [],
       "aggSeriesLimitReached": false,
       "aggType": "",
       "arguments": {},
       "columnCustomDisplayInfos": {},
       "data": [
        [
         [
          "1234567890",
          " 1234567891"
         ],
         "1234567890"
        ]
       ],
       "datasetInfos": [],
       "dbfsResultPath": null,
       "isJsonSchema": true,
       "metadata": {
        "dataframeName": "_sqldf",
        "executionCount": 33
       },
       "overflow": false,
       "plotOptions": {
        "customPlotOptions": {},
        "displayType": "table",
        "pivotAggregation": null,
        "pivotColumns": null,
        "xColumns": null,
        "yColumns": null
       },
       "removedWidgets": [],
       "schema": [
        {
         "metadata": "{}",
         "name": "result",
         "type": "{\"type\":\"array\",\"elementType\":\"string\",\"containsNull\":false}"
        },
        {
         "metadata": "{}",
         "name": "result",
         "type": "\"string\""
        }
       ],
       "type": "table"
      }
     },
     "output_type": "display_data"
    }
   ],
   "source": [
    "%sql\n",
    "SELECT split('1234567890, 1234567891', ',') as result -- split(string, delimiter): returns array\n",
    "     , split('1234567890, 1234567891', ',')[0] as result2"
   ]
  },
  {
   "cell_type": "code",
   "execution_count": 0,
   "metadata": {
    "application/vnd.databricks.v1+cell": {
     "cellMetadata": {
      "byteLimit": 2048000,
      "implicitDf": true,
      "rowLimit": 10000
     },
     "inputWidgets": {},
     "nuid": "deaed898-9e4e-46ab-8480-95896305bf8e",
     "showTitle": false,
     "title": ""
    }
   },
   "outputs": [
    {
     "output_type": "display_data",
     "data": {
      "text/html": [
       "<style scoped>\n",
       "  .table-result-container {\n",
       "    max-height: 300px;\n",
       "    overflow: auto;\n",
       "  }\n",
       "  table, th, td {\n",
       "    border: 1px solid black;\n",
       "    border-collapse: collapse;\n",
       "  }\n",
       "  th, td {\n",
       "    padding: 5px;\n",
       "  }\n",
       "  th {\n",
       "    text-align: left;\n",
       "  }\n",
       "</style><div class='table-result-container'><table class='table-result'><thead style='background-color: white'><tr><th>result</th></tr></thead><tbody><tr><td>1234567890</td></tr><tr><td> 1234567891</td></tr></tbody></table></div>"
      ]
     },
     "metadata": {
      "application/vnd.databricks.v1+output": {
       "addedWidgets": {},
       "aggData": [],
       "aggError": "",
       "aggOverflow": false,
       "aggSchema": [],
       "aggSeriesLimitReached": false,
       "aggType": "",
       "arguments": {},
       "columnCustomDisplayInfos": {},
       "data": [
        [
         "1234567890"
        ],
        [
         " 1234567891"
        ]
       ],
       "datasetInfos": [],
       "dbfsResultPath": null,
       "isJsonSchema": true,
       "metadata": {
        "dataframeName": "_sqldf",
        "executionCount": 34
       },
       "overflow": false,
       "plotOptions": {
        "customPlotOptions": {},
        "displayType": "table",
        "pivotAggregation": null,
        "pivotColumns": null,
        "xColumns": null,
        "yColumns": null
       },
       "removedWidgets": [],
       "schema": [
        {
         "metadata": "{}",
         "name": "result",
         "type": "\"string\""
        }
       ],
       "type": "table"
      }
     },
     "output_type": "display_data"
    }
   ],
   "source": [
    "%sql\n",
    "SELECT explode(split('1234567890, 1234567891', ',') )as result -- explode will flatten data"
   ]
  },
  {
   "cell_type": "code",
   "execution_count": 0,
   "metadata": {
    "application/vnd.databricks.v1+cell": {
     "cellMetadata": {
      "byteLimit": 2048000,
      "implicitDf": true,
      "rowLimit": 10000
     },
     "inputWidgets": {},
     "nuid": "895ac7cc-faa7-4489-bfe9-d380e7130125",
     "showTitle": false,
     "title": ""
    }
   },
   "outputs": [
    {
     "output_type": "display_data",
     "data": {
      "text/html": [
       "<style scoped>\n",
       "  .table-result-container {\n",
       "    max-height: 300px;\n",
       "    overflow: auto;\n",
       "  }\n",
       "  table, th, td {\n",
       "    border: 1px solid black;\n",
       "    border-collapse: collapse;\n",
       "  }\n",
       "  th, td {\n",
       "    padding: 5px;\n",
       "  }\n",
       "  th {\n",
       "    text-align: left;\n",
       "  }\n",
       "</style><div class='table-result-container'><table class='table-result'><thead style='background-color: white'><tr><th>result</th><th>result2</th><th>result3</th><th>result4</th><th>result5</th><th>result6</th><th>result7</th></tr></thead><tbody><tr><td>Hello World</td><td>Hello World</td><td>Hello World</td><td>Hello Worldyyyy</td><td>xxxxHello World</td><td>Hello World</td><td>Hello World</td></tr></tbody></table></div>"
      ]
     },
     "metadata": {
      "application/vnd.databricks.v1+output": {
       "addedWidgets": {},
       "aggData": [],
       "aggError": "",
       "aggOverflow": false,
       "aggSchema": [],
       "aggSeriesLimitReached": false,
       "aggType": "",
       "arguments": {},
       "columnCustomDisplayInfos": {},
       "data": [
        [
         "Hello World",
         "Hello World",
         "Hello World",
         "Hello Worldyyyy",
         "xxxxHello World",
         "Hello World",
         "Hello World"
        ]
       ],
       "datasetInfos": [],
       "dbfsResultPath": null,
       "isJsonSchema": true,
       "metadata": {
        "dataframeName": "_sqldf",
        "executionCount": 2
       },
       "overflow": false,
       "plotOptions": {
        "customPlotOptions": {},
        "displayType": "table",
        "pivotAggregation": null,
        "pivotColumns": null,
        "xColumns": null,
        "yColumns": null
       },
       "removedWidgets": [],
       "schema": [
        {
         "metadata": "{}",
         "name": "result",
         "type": "\"string\""
        },
        {
         "metadata": "{}",
         "name": "result2",
         "type": "\"string\""
        },
        {
         "metadata": "{}",
         "name": "result3",
         "type": "\"string\""
        },
        {
         "metadata": "{}",
         "name": "result4",
         "type": "\"string\""
        },
        {
         "metadata": "{}",
         "name": "result5",
         "type": "\"string\""
        },
        {
         "metadata": "{}",
         "name": "result6",
         "type": "\"string\""
        },
        {
         "metadata": "{}",
         "name": "result7",
         "type": "\"string\""
        }
       ],
       "type": "table"
      }
     },
     "output_type": "display_data"
    }
   ],
   "source": [
    "%sql\n",
    "-- Trimming & Padding\n",
    "SELECT ltrim('    Hello World') as result\n",
    "     , rtrim('Hello World    ') as result2\n",
    "     , trim('    Hello World    ') as result3\n",
    "     , trim(LEADING   'x'     FROM  'xxxxHello Worldyyyy') as result4      -- LEADING  means from the begining/left \n",
    "     , trim(TRAILING  'y'     FROM  'xxxxHello Worldyyyy') as result5      -- TRAILING means from the last/right\n",
    "     , trim(BOTH      'xy'    FROM  'xxxxHello Worldyyyy') as result6\n",
    "     , trim(BOTH      'xyXY'  FROM  'xYxYHello WorldyXyX') as result7\n",
    "     \n"
   ]
  },
  {
   "cell_type": "code",
   "execution_count": 0,
   "metadata": {
    "application/vnd.databricks.v1+cell": {
     "cellMetadata": {
      "byteLimit": 2048000,
      "implicitDf": true,
      "rowLimit": 10000
     },
     "inputWidgets": {},
     "nuid": "9594dde9-3e2a-4346-bc56-d3be8a606b6a",
     "showTitle": false,
     "title": ""
    }
   },
   "outputs": [
    {
     "output_type": "display_data",
     "data": {
      "text/html": [
       "<style scoped>\n",
       "  .table-result-container {\n",
       "    max-height: 300px;\n",
       "    overflow: auto;\n",
       "  }\n",
       "  table, th, td {\n",
       "    border: 1px solid black;\n",
       "    border-collapse: collapse;\n",
       "  }\n",
       "  th, td {\n",
       "    padding: 5px;\n",
       "  }\n",
       "  th {\n",
       "    text-align: left;\n",
       "  }\n",
       "</style><div class='table-result-container'><table class='table-result'><thead style='background-color: white'><tr><th>year</th><th>month</th><th>my_date</th></tr></thead><tbody><tr><td>2013</td><td>7</td><td>25</td></tr></tbody></table></div>"
      ]
     },
     "metadata": {
      "application/vnd.databricks.v1+output": {
       "addedWidgets": {},
       "aggData": [],
       "aggError": "",
       "aggOverflow": false,
       "aggSchema": [],
       "aggSeriesLimitReached": false,
       "aggType": "",
       "arguments": {},
       "columnCustomDisplayInfos": {},
       "data": [
        [
         2013,
         7,
         25
        ]
       ],
       "datasetInfos": [],
       "dbfsResultPath": null,
       "isJsonSchema": true,
       "metadata": {
        "dataframeName": "_sqldf",
        "executionCount": 49
       },
       "overflow": false,
       "plotOptions": {
        "customPlotOptions": {},
        "displayType": "table",
        "pivotAggregation": null,
        "pivotColumns": null,
        "xColumns": null,
        "yColumns": null
       },
       "removedWidgets": [],
       "schema": [
        {
         "metadata": "{}",
         "name": "year",
         "type": "\"integer\""
        },
        {
         "metadata": "{}",
         "name": "month",
         "type": "\"integer\""
        },
        {
         "metadata": "{}",
         "name": "my_date",
         "type": "\"integer\""
        }
       ],
       "type": "table"
      }
     },
     "output_type": "display_data"
    }
   ],
   "source": [
    "%sql\n",
    "SELECT 2013 AS year, 7 AS month, 25 AS my_date -- ==> 2013-07-25"
   ]
  },
  {
   "cell_type": "code",
   "execution_count": 0,
   "metadata": {
    "application/vnd.databricks.v1+cell": {
     "cellMetadata": {
      "byteLimit": 2048000,
      "implicitDf": true,
      "rowLimit": 10000
     },
     "inputWidgets": {},
     "nuid": "386109ff-4796-4f53-bc5a-c30b33984c56",
     "showTitle": false,
     "title": ""
    }
   },
   "outputs": [
    {
     "output_type": "display_data",
     "data": {
      "text/html": [
       "<style scoped>\n",
       "  .table-result-container {\n",
       "    max-height: 300px;\n",
       "    overflow: auto;\n",
       "  }\n",
       "  table, th, td {\n",
       "    border: 1px solid black;\n",
       "    border-collapse: collapse;\n",
       "  }\n",
       "  th, td {\n",
       "    padding: 5px;\n",
       "  }\n",
       "  th {\n",
       "    text-align: left;\n",
       "  }\n",
       "</style><div class='table-result-container'><table class='table-result'><thead style='background-color: white'><tr><th>sale_year</th><th>sale_month</th><th>sale_day</th><th>order_revenue</th><th>order_count</th></tr></thead><tbody><tr><td>2022</td><td>1</td><td>1</td><td>1000.0</td><td>3</td></tr><tr><td>2022</td><td>1</td><td>10</td><td>1250.0</td><td>2</td></tr><tr><td>2022</td><td>2</td><td>5</td><td>1300.0</td><td>5</td></tr></tbody></table></div>"
      ]
     },
     "metadata": {
      "application/vnd.databricks.v1+output": {
       "addedWidgets": {},
       "aggData": [],
       "aggError": "",
       "aggOverflow": false,
       "aggSchema": [],
       "aggSeriesLimitReached": false,
       "aggType": "",
       "arguments": {},
       "columnCustomDisplayInfos": {},
       "data": [
        [
         2022,
         1,
         1,
         1000.0,
         3
        ],
        [
         2022,
         1,
         10,
         1250.0,
         2
        ],
        [
         2022,
         2,
         5,
         1300.0,
         5
        ]
       ],
       "datasetInfos": [],
       "dbfsResultPath": null,
       "isJsonSchema": true,
       "metadata": {
        "dataframeName": "_sqldf",
        "executionCount": 52
       },
       "overflow": false,
       "plotOptions": {
        "customPlotOptions": {},
        "displayType": "table",
        "pivotAggregation": null,
        "pivotColumns": null,
        "xColumns": null,
        "yColumns": null
       },
       "removedWidgets": [],
       "schema": [
        {
         "metadata": "{}",
         "name": "sale_year",
         "type": "\"integer\""
        },
        {
         "metadata": "{}",
         "name": "sale_month",
         "type": "\"integer\""
        },
        {
         "metadata": "{}",
         "name": "sale_day",
         "type": "\"integer\""
        },
        {
         "metadata": "{}",
         "name": "order_revenue",
         "type": "\"float\""
        },
        {
         "metadata": "{}",
         "name": "order_count",
         "type": "\"integer\""
        }
       ],
       "type": "table"
      }
     },
     "output_type": "display_data"
    }
   ],
   "source": [
    "%sql\n",
    "-- CREATE TABLE sales_fact(\n",
    "--   sale_year INT,\n",
    "--   sale_month INT,\n",
    "--   sale_day INT,\n",
    "--   order_revenue FLOAT,\n",
    "--   order_count INT\n",
    "-- );\n",
    "\n",
    "-- INSERT INTO sales_fact values\n",
    "-- (2022, 1, 1, 1000.0, 3),\n",
    "-- (2022, 1, 10, 1250.0, 2),\n",
    "-- (2022, 2, 5, 1300.00, 5);\n",
    "\n",
    "SELECT * FROM sales_fact;"
   ]
  },
  {
   "cell_type": "code",
   "execution_count": 0,
   "metadata": {
    "application/vnd.databricks.v1+cell": {
     "cellMetadata": {
      "byteLimit": 2048000,
      "implicitDf": true,
      "rowLimit": 10000
     },
     "inputWidgets": {},
     "nuid": "8c201b90-0a15-4304-af59-9764c5af4399",
     "showTitle": false,
     "title": ""
    }
   },
   "outputs": [
    {
     "output_type": "display_data",
     "data": {
      "text/html": [
       "<style scoped>\n",
       "  .table-result-container {\n",
       "    max-height: 300px;\n",
       "    overflow: auto;\n",
       "  }\n",
       "  table, th, td {\n",
       "    border: 1px solid black;\n",
       "    border-collapse: collapse;\n",
       "  }\n",
       "  th, td {\n",
       "    padding: 5px;\n",
       "  }\n",
       "  th {\n",
       "    text-align: left;\n",
       "  }\n",
       "</style><div class='table-result-container'><table class='table-result'><thead style='background-color: white'><tr><th>date</th><th>order_revenue</th><th>order_count</th></tr></thead><tbody><tr><td>2022-01-01</td><td>1000.0</td><td>3</td></tr><tr><td>2022-01-10</td><td>1250.0</td><td>2</td></tr><tr><td>2022-02-05</td><td>1300.0</td><td>5</td></tr></tbody></table></div>"
      ]
     },
     "metadata": {
      "application/vnd.databricks.v1+output": {
       "addedWidgets": {},
       "aggData": [],
       "aggError": "",
       "aggOverflow": false,
       "aggSchema": [],
       "aggSeriesLimitReached": false,
       "aggType": "",
       "arguments": {},
       "columnCustomDisplayInfos": {},
       "data": [
        [
         "2022-01-01",
         1000.0,
         3
        ],
        [
         "2022-01-10",
         1250.0,
         2
        ],
        [
         "2022-02-05",
         1300.0,
         5
        ]
       ],
       "datasetInfos": [],
       "dbfsResultPath": null,
       "isJsonSchema": true,
       "metadata": {
        "dataframeName": "_sqldf",
        "executionCount": 63
       },
       "overflow": false,
       "plotOptions": {
        "customPlotOptions": {},
        "displayType": "table",
        "pivotAggregation": null,
        "pivotColumns": null,
        "xColumns": null,
        "yColumns": null
       },
       "removedWidgets": [],
       "schema": [
        {
         "metadata": "{}",
         "name": "date",
         "type": "\"string\""
        },
        {
         "metadata": "{}",
         "name": "order_revenue",
         "type": "\"float\""
        },
        {
         "metadata": "{}",
         "name": "order_count",
         "type": "\"integer\""
        }
       ],
       "type": "table"
      }
     },
     "output_type": "display_data"
    }
   ],
   "source": [
    " %sql\n",
    " SELECT concat_ws( '-'\n",
    "    , sale_year\n",
    "    , lpad(sale_month, 2, 0)\n",
    "    , lpad(sale_day, 2, 0)\n",
    "  ) as date\n",
    "    , order_revenue\n",
    "    , order_count\n",
    "  FROM sales_fact;\n"
   ]
  },
  {
   "cell_type": "code",
   "execution_count": 0,
   "metadata": {
    "application/vnd.databricks.v1+cell": {
     "cellMetadata": {
      "byteLimit": 2048000,
      "implicitDf": true,
      "rowLimit": 10000
     },
     "inputWidgets": {},
     "nuid": "4bafadbf-28ad-4b83-8258-4d7fbf15d77f",
     "showTitle": false,
     "title": ""
    }
   },
   "outputs": [
    {
     "output_type": "display_data",
     "data": {
      "text/html": [
       "<style scoped>\n",
       "  .table-result-container {\n",
       "    max-height: 300px;\n",
       "    overflow: auto;\n",
       "  }\n",
       "  table, th, td {\n",
       "    border: 1px solid black;\n",
       "    border-collapse: collapse;\n",
       "  }\n",
       "  th, td {\n",
       "    padding: 5px;\n",
       "  }\n",
       "  th {\n",
       "    text-align: left;\n",
       "  }\n",
       "</style><div class='table-result-container'><table class='table-result'><thead style='background-color: white'><tr></tr></thead><tbody></tbody></table></div>"
      ]
     },
     "metadata": {
      "application/vnd.databricks.v1+output": {
       "addedWidgets": {},
       "aggData": [],
       "aggError": "",
       "aggOverflow": false,
       "aggSchema": [],
       "aggSeriesLimitReached": false,
       "aggType": "",
       "arguments": {},
       "columnCustomDisplayInfos": {},
       "data": [],
       "datasetInfos": [],
       "dbfsResultPath": null,
       "isJsonSchema": true,
       "metadata": {
        "dataframeName": null
       },
       "overflow": false,
       "plotOptions": {
        "customPlotOptions": {},
        "displayType": "table",
        "pivotAggregation": null,
        "pivotColumns": null,
        "xColumns": null,
        "yColumns": null
       },
       "removedWidgets": [],
       "schema": [],
       "type": "table"
      }
     },
     "output_type": "display_data"
    }
   ],
   "source": [
    "# %sql\n",
    "# DROP TABLE sales_fact"
   ]
  },
  {
   "cell_type": "code",
   "execution_count": 0,
   "metadata": {
    "application/vnd.databricks.v1+cell": {
     "cellMetadata": {
      "byteLimit": 2048000,
      "implicitDf": true,
      "rowLimit": 10000
     },
     "inputWidgets": {},
     "nuid": "e204df91-f3e1-4c6b-99ec-1e71ef99e772",
     "showTitle": false,
     "title": ""
    }
   },
   "outputs": [
    {
     "output_type": "display_data",
     "data": {
      "text/html": [
       "<style scoped>\n",
       "  .table-result-container {\n",
       "    max-height: 300px;\n",
       "    overflow: auto;\n",
       "  }\n",
       "  table, th, td {\n",
       "    border: 1px solid black;\n",
       "    border-collapse: collapse;\n",
       "  }\n",
       "  th, td {\n",
       "    padding: 5px;\n",
       "  }\n",
       "  th {\n",
       "    text-align: left;\n",
       "  }\n",
       "</style><div class='table-result-container'><table class='table-result'><thead style='background-color: white'><tr><th>result</th><th>result2</th><th>result2</th><th>result4</th><th>result3</th></tr></thead><tbody><tr><td>dlroW olleH</td><td>Hello World how are you</td><td>Hello World how are you</td><td>List(123456789, 987654321, 345678912)</td><td>123456789, 987654321, 345678912</td></tr></tbody></table></div>"
      ]
     },
     "metadata": {
      "application/vnd.databricks.v1+output": {
       "addedWidgets": {},
       "aggData": [],
       "aggError": "",
       "aggOverflow": false,
       "aggSchema": [],
       "aggSeriesLimitReached": false,
       "aggType": "",
       "arguments": {},
       "columnCustomDisplayInfos": {},
       "data": [
        [
         "dlroW olleH",
         "Hello World how are you",
         "Hello World how are you",
         [
          "123456789",
          "987654321",
          "345678912"
         ],
         "123456789, 987654321, 345678912"
        ]
       ],
       "datasetInfos": [],
       "dbfsResultPath": null,
       "isJsonSchema": true,
       "metadata": {
        "dataframeName": "_sqldf",
        "executionCount": 74
       },
       "overflow": false,
       "plotOptions": {
        "customPlotOptions": {},
        "displayType": "table",
        "pivotAggregation": null,
        "pivotColumns": null,
        "xColumns": null,
        "yColumns": null
       },
       "removedWidgets": [],
       "schema": [
        {
         "metadata": "{}",
         "name": "result",
         "type": "\"string\""
        },
        {
         "metadata": "{}",
         "name": "result2",
         "type": "\"string\""
        },
        {
         "metadata": "{}",
         "name": "result2",
         "type": "\"string\""
        },
        {
         "metadata": "{}",
         "name": "result4",
         "type": "{\"type\":\"array\",\"elementType\":\"string\",\"containsNull\":false}"
        },
        {
         "metadata": "{}",
         "name": "result3",
         "type": "\"string\""
        }
       ],
       "type": "table"
      }
     },
     "output_type": "display_data"
    }
   ],
   "source": [
    "%sql\n",
    "-- Concat & Reverse\n",
    "SELECT reverse('Hello World') as result\n",
    "      , concat('Hello', ' ','World', ' ', 'how', ' ', 'are', ' ', 'you') as result2\n",
    "      , concat_ws(' ', 'Hello', 'World', 'how', 'are', 'you') as result2\n",
    "      , ARRAY('123456789', '987654321', '345678912') as result4\n",
    "      , concat_ws(', ', ARRAY('123456789', '987654321', '345678912')) as result3\n",
    "      \n"
   ]
  },
  {
   "cell_type": "code",
   "execution_count": 0,
   "metadata": {
    "application/vnd.databricks.v1+cell": {
     "cellMetadata": {
      "byteLimit": 2048000,
      "implicitDf": true,
      "rowLimit": 10000
     },
     "inputWidgets": {},
     "nuid": "e8b2d019-a423-4188-9ccb-40e67e211aa0",
     "showTitle": false,
     "title": ""
    }
   },
   "outputs": [
    {
     "output_type": "display_data",
     "data": {
      "text/html": [
       "<style scoped>\n",
       "  .table-result-container {\n",
       "    max-height: 300px;\n",
       "    overflow: auto;\n",
       "  }\n",
       "  table, th, td {\n",
       "    border: 1px solid black;\n",
       "    border-collapse: collapse;\n",
       "  }\n",
       "  th, td {\n",
       "    padding: 5px;\n",
       "  }\n",
       "  th {\n",
       "    text-align: left;\n",
       "  }\n",
       "</style><div class='table-result-container'><table class='table-result'><thead style='background-color: white'><tr><th>result</th></tr></thead><tbody><tr><td>Order Status is PROCESSING</td></tr><tr><td>Order Status is PENDING_PAYMENT</td></tr><tr><td>Order Status is CLOSED</td></tr><tr><td>Order Status is SUSPECTED_FRAUD</td></tr><tr><td>Order Status is CANCELED</td></tr><tr><td>Order Status is COMPLETE</td></tr><tr><td>Order Status is ON_HOLD</td></tr><tr><td>Order Status is PENDING</td></tr><tr><td>Order Status is PAYMENT_REVIEW</td></tr></tbody></table></div>"
      ]
     },
     "metadata": {
      "application/vnd.databricks.v1+output": {
       "addedWidgets": {},
       "aggData": [],
       "aggError": "",
       "aggOverflow": false,
       "aggSchema": [],
       "aggSeriesLimitReached": false,
       "aggType": "",
       "arguments": {},
       "columnCustomDisplayInfos": {},
       "data": [
        [
         "Order Status is PROCESSING"
        ],
        [
         "Order Status is PENDING_PAYMENT"
        ],
        [
         "Order Status is CLOSED"
        ],
        [
         "Order Status is SUSPECTED_FRAUD"
        ],
        [
         "Order Status is CANCELED"
        ],
        [
         "Order Status is COMPLETE"
        ],
        [
         "Order Status is ON_HOLD"
        ],
        [
         "Order Status is PENDING"
        ],
        [
         "Order Status is PAYMENT_REVIEW"
        ]
       ],
       "datasetInfos": [],
       "dbfsResultPath": null,
       "isJsonSchema": true,
       "metadata": {
        "dataframeName": "_sqldf",
        "executionCount": 70
       },
       "overflow": false,
       "plotOptions": {
        "customPlotOptions": {},
        "displayType": "table",
        "pivotAggregation": null,
        "pivotColumns": null,
        "xColumns": null,
        "yColumns": null
       },
       "removedWidgets": [],
       "schema": [
        {
         "metadata": "{}",
         "name": "result",
         "type": "\"string\""
        }
       ],
       "type": "table"
      }
     },
     "output_type": "display_data"
    }
   ],
   "source": [
    "%sql\n",
    "SELECT DISTINCT concat('Order Status is ', order_status) AS result \n",
    "FROM orders LIMIT 10"
   ]
  },
  {
   "cell_type": "markdown",
   "metadata": {
    "application/vnd.databricks.v1+cell": {
     "cellMetadata": {},
     "inputWidgets": {},
     "nuid": "f92eebed-6e26-41e0-aeba-8f2d2e1ff63b",
     "showTitle": false,
     "title": ""
    }
   },
   "source": [
    "### DATE MANIPULATION FUNCTIONS\n",
    "- Current Date & Time stamp: `current_date`, `current_timestamp`  yyyy-MM-ddTHH:mm:ss.SS\n",
    "- Date & Time arithmetics: `date_add`, `datediff`, `add_month`, `months_between`\n",
    "- Beginning Date or Time: `trunc`, `date_trunc`\n",
    "- Date & Time Extract: `date_format` covers all (`year`, `month`,  `dayofyear`, `dayofmonth`, `hour`, `minute`, `second`),\n",
    " `weekofyear`, `dayofweek`\n",
    "- Non-standard Date & Time to Standard Date & Time: `to_date`, `to_timestamp`\n",
    "- Dealing with nix timestamp: `from_unixtime`, `unix_timestamp`, `to_unix_timestamp`"
   ]
  },
  {
   "cell_type": "code",
   "execution_count": 0,
   "metadata": {
    "application/vnd.databricks.v1+cell": {
     "cellMetadata": {
      "byteLimit": 2048000,
      "implicitDf": true,
      "rowLimit": 10000
     },
     "inputWidgets": {},
     "nuid": "f75b0113-cbf8-4a62-9c5c-9dd15abdd4e4",
     "showTitle": false,
     "title": ""
    }
   },
   "outputs": [
    {
     "output_type": "display_data",
     "data": {
      "text/html": [
       "<style scoped>\n",
       "  .table-result-container {\n",
       "    max-height: 300px;\n",
       "    overflow: auto;\n",
       "  }\n",
       "  table, th, td {\n",
       "    border: 1px solid black;\n",
       "    border-collapse: collapse;\n",
       "  }\n",
       "  th, td {\n",
       "    padding: 5px;\n",
       "  }\n",
       "  th {\n",
       "    text-align: left;\n",
       "  }\n",
       "</style><div class='table-result-container'><table class='table-result'><thead style='background-color: white'><tr><th>res1</th><th>res2</th><th>res3</th><th>res4</th><th>res5</th><th>res6</th><th>res7</th></tr></thead><tbody><tr><td>2023-10-03</td><td>2023-10-03T06:25:41.163+0000</td><td>2023-10-08</td><td>2023-09-28</td><td>5</td><td>2023-12-03</td><td>2.0</td></tr></tbody></table></div>"
      ]
     },
     "metadata": {
      "application/vnd.databricks.v1+output": {
       "addedWidgets": {},
       "aggData": [],
       "aggError": "",
       "aggOverflow": false,
       "aggSchema": [],
       "aggSeriesLimitReached": false,
       "aggType": "",
       "arguments": {},
       "columnCustomDisplayInfos": {},
       "data": [
        [
         "2023-10-03",
         "2023-10-03T06:25:41.163+0000",
         "2023-10-08",
         "2023-09-28",
         5,
         "2023-12-03",
         2.0
        ]
       ],
       "datasetInfos": [],
       "dbfsResultPath": null,
       "isJsonSchema": true,
       "metadata": {
        "dataframeName": "_sqldf",
        "executionCount": 86
       },
       "overflow": false,
       "plotOptions": {
        "customPlotOptions": {},
        "displayType": "table",
        "pivotAggregation": null,
        "pivotColumns": null,
        "xColumns": null,
        "yColumns": null
       },
       "removedWidgets": [],
       "schema": [
        {
         "metadata": "{}",
         "name": "res1",
         "type": "\"date\""
        },
        {
         "metadata": "{}",
         "name": "res2",
         "type": "\"timestamp\""
        },
        {
         "metadata": "{}",
         "name": "res3",
         "type": "\"date\""
        },
        {
         "metadata": "{}",
         "name": "res4",
         "type": "\"date\""
        },
        {
         "metadata": "{}",
         "name": "res5",
         "type": "\"integer\""
        },
        {
         "metadata": "{}",
         "name": "res6",
         "type": "\"date\""
        },
        {
         "metadata": "{}",
         "name": "res7",
         "type": "\"double\""
        }
       ],
       "type": "table"
      }
     },
     "output_type": "display_data"
    }
   ],
   "source": [
    "%sql\n",
    "-- Date Arithmetics + current_date, current_timestamp\n",
    "SELECT current_date as res1\n",
    "     , current_timestamp as res2\n",
    "     , date_add('2023-10-03', 5) as res3\n",
    "     , date_add('2023-10-03', -5) as res4 -- date_add also can be used as date_sub\n",
    "     , datediff('2023-10-03', '2023-09-28') as res5\n",
    "     , add_months('2023-10-03', 2) as res6\n",
    "     , months_between('2023-12-03', '2023-10-03') as res7\n",
    "\n",
    "-- MySQL supported\n",
    "-- SELECT \n",
    "--        date_add('2023-10-03', interval 5 day) as res3\n",
    "--      , date_add('2023-10-03', interval -5 day) as res4 \n",
    "--      , datediff('2023-10-03', '2023-09-28') as res5\n",
    "  "
   ]
  },
  {
   "cell_type": "code",
   "execution_count": 0,
   "metadata": {
    "application/vnd.databricks.v1+cell": {
     "cellMetadata": {
      "byteLimit": 2048000,
      "implicitDf": true,
      "rowLimit": 10000
     },
     "inputWidgets": {},
     "nuid": "15335efd-fb0a-4cc5-a1e2-a6c0816b09ef",
     "showTitle": false,
     "title": ""
    }
   },
   "outputs": [
    {
     "output_type": "display_data",
     "data": {
      "text/html": [
       "<style scoped>\n",
       "  .table-result-container {\n",
       "    max-height: 300px;\n",
       "    overflow: auto;\n",
       "  }\n",
       "  table, th, td {\n",
       "    border: 1px solid black;\n",
       "    border-collapse: collapse;\n",
       "  }\n",
       "  th, td {\n",
       "    padding: 5px;\n",
       "  }\n",
       "  th {\n",
       "    text-align: left;\n",
       "  }\n",
       "</style><div class='table-result-container'><table class='table-result'><thead style='background-color: white'><tr><th>begining_date_of_month</th><th>begining_date_of_year</th><th>begining_hour</th><th>begining_minute</th><th>begining_day</th></tr></thead><tbody><tr><td>2023-10-01</td><td>2023-01-01</td><td>2023-10-03T06:00:00.000+0000</td><td>2023-10-03T06:36:00.000+0000</td><td>2023-10-03T00:00:00.000+0000</td></tr></tbody></table></div>"
      ]
     },
     "metadata": {
      "application/vnd.databricks.v1+output": {
       "addedWidgets": {},
       "aggData": [],
       "aggError": "",
       "aggOverflow": false,
       "aggSchema": [],
       "aggSeriesLimitReached": false,
       "aggType": "",
       "arguments": {},
       "columnCustomDisplayInfos": {},
       "data": [
        [
         "2023-10-01",
         "2023-01-01",
         "2023-10-03T06:00:00.000+0000",
         "2023-10-03T06:36:00.000+0000",
         "2023-10-03T00:00:00.000+0000"
        ]
       ],
       "datasetInfos": [],
       "dbfsResultPath": null,
       "isJsonSchema": true,
       "metadata": {
        "dataframeName": "_sqldf",
        "executionCount": 95
       },
       "overflow": false,
       "plotOptions": {
        "customPlotOptions": {},
        "displayType": "table",
        "pivotAggregation": null,
        "pivotColumns": null,
        "xColumns": null,
        "yColumns": null
       },
       "removedWidgets": [],
       "schema": [
        {
         "metadata": "{}",
         "name": "begining_date_of_month",
         "type": "\"date\""
        },
        {
         "metadata": "{}",
         "name": "begining_date_of_year",
         "type": "\"date\""
        },
        {
         "metadata": "{}",
         "name": "begining_hour",
         "type": "\"timestamp\""
        },
        {
         "metadata": "{}",
         "name": "begining_minute",
         "type": "\"timestamp\""
        },
        {
         "metadata": "{}",
         "name": "begining_day",
         "type": "\"timestamp\""
        }
       ],
       "type": "table"
      }
     },
     "output_type": "display_data"
    }
   ],
   "source": [
    "%sql\n",
    "-- Begining of Date & Time\n",
    "SELECT trunc(current_date, 'MM') as begining_date_of_month -- with TRUNC only begining of month or begining of year\n",
    "     , trunc(current_date, 'yy') as begining_date_of_year\n",
    "     , date_trunc('HOUR',current_timestamp) as begining_hour \n",
    "     , date_trunc('MINUTE',current_timestamp) as begining_minute\n",
    "     , date_trunc('DAY',current_timestamp) as begining_day"
   ]
  },
  {
   "cell_type": "code",
   "execution_count": 0,
   "metadata": {
    "application/vnd.databricks.v1+cell": {
     "cellMetadata": {
      "byteLimit": 2048000,
      "implicitDf": true,
      "rowLimit": 10000
     },
     "inputWidgets": {},
     "nuid": "ede1c7f2-6a30-4bd0-8051-f1a2b56822d7",
     "showTitle": false,
     "title": ""
    }
   },
   "outputs": [
    {
     "output_type": "display_data",
     "data": {
      "text/html": [
       "<style scoped>\n",
       "  .table-result-container {\n",
       "    max-height: 300px;\n",
       "    overflow: auto;\n",
       "  }\n",
       "  table, th, td {\n",
       "    border: 1px solid black;\n",
       "    border-collapse: collapse;\n",
       "  }\n",
       "  th, td {\n",
       "    padding: 5px;\n",
       "  }\n",
       "  th {\n",
       "    text-align: left;\n",
       "  }\n",
       "</style><div class='table-result-container'><table class='table-result'><thead style='background-color: white'><tr><th>res1</th><th>yr</th><th>mon</th><th>day</th><th>day_of_yr</th><th>abb_month</th><th>full_month</th><th>abb_day</th><th>full_day</th><th>hr24</th><th>hr12</th><th>mins</th><th>secs</th><th>millis</th><th>millis3</th></tr></thead><tbody><tr><td>2023-10-03T07:36:08.987+0000</td><td>2023</td><td>10</td><td>03</td><td>276</td><td>Oct</td><td>October</td><td>Tue</td><td>Tuesday</td><td>07</td><td>07</td><td>36</td><td>08</td><td>98</td><td>987</td></tr></tbody></table></div>"
      ]
     },
     "metadata": {
      "application/vnd.databricks.v1+output": {
       "addedWidgets": {},
       "aggData": [],
       "aggError": "",
       "aggOverflow": false,
       "aggSchema": [],
       "aggSeriesLimitReached": false,
       "aggType": "",
       "arguments": {},
       "columnCustomDisplayInfos": {},
       "data": [
        [
         "2023-10-03T07:36:08.987+0000",
         "2023",
         "10",
         "03",
         "276",
         "Oct",
         "October",
         "Tue",
         "Tuesday",
         "07",
         "07",
         "36",
         "08",
         "98",
         "987"
        ]
       ],
       "datasetInfos": [],
       "dbfsResultPath": null,
       "isJsonSchema": true,
       "metadata": {
        "dataframeName": "_sqldf",
        "executionCount": 137
       },
       "overflow": false,
       "plotOptions": {
        "customPlotOptions": {},
        "displayType": "table",
        "pivotAggregation": null,
        "pivotColumns": null,
        "xColumns": null,
        "yColumns": null
       },
       "removedWidgets": [],
       "schema": [
        {
         "metadata": "{}",
         "name": "res1",
         "type": "\"timestamp\""
        },
        {
         "metadata": "{}",
         "name": "yr",
         "type": "\"string\""
        },
        {
         "metadata": "{}",
         "name": "mon",
         "type": "\"string\""
        },
        {
         "metadata": "{}",
         "name": "day",
         "type": "\"string\""
        },
        {
         "metadata": "{}",
         "name": "day_of_yr",
         "type": "\"string\""
        },
        {
         "metadata": "{}",
         "name": "abb_month",
         "type": "\"string\""
        },
        {
         "metadata": "{}",
         "name": "full_month",
         "type": "\"string\""
        },
        {
         "metadata": "{}",
         "name": "abb_day",
         "type": "\"string\""
        },
        {
         "metadata": "{}",
         "name": "full_day",
         "type": "\"string\""
        },
        {
         "metadata": "{}",
         "name": "hr24",
         "type": "\"string\""
        },
        {
         "metadata": "{}",
         "name": "hr12",
         "type": "\"string\""
        },
        {
         "metadata": "{}",
         "name": "mins",
         "type": "\"string\""
        },
        {
         "metadata": "{}",
         "name": "secs",
         "type": "\"string\""
        },
        {
         "metadata": "{}",
         "name": "millis",
         "type": "\"string\""
        },
        {
         "metadata": "{}",
         "name": "millis3",
         "type": "\"string\""
        }
       ],
       "type": "table"
      }
     },
     "output_type": "display_data"
    }
   ],
   "source": [
    "%sql\n",
    "-- Extrating Date using date_format\n",
    "SELECT current_timestamp as res1                             \n",
    ", date_format(current_timestamp, 'yyyy') as yr -- or year()              \n",
    ", date_format(current_timestamp, 'MM') as mon  -- or month()             \n",
    ", date_format(current_timestamp, 'dd') as day    -- or dayofmonth() \n",
    ", date_format(current_timestamp, 'DDD') as day_of_yr    -- or dayofyear() OR Julian Representation of Date          \n",
    ", date_format(current_timestamp, 'MMM') as abb_month          \n",
    ", date_format(current_timestamp, 'MMMM') as full_month       \n",
    ", date_format(current_timestamp, 'EE') as abb_day           \n",
    ", date_format(current_timestamp, 'EEEE') as full_day         \n",
    ", date_format(current_timestamp, 'HH') as hr24               \n",
    ", date_format(current_timestamp, 'hh') as hr12   -- or hour()            \n",
    ", date_format(current_timestamp, 'mm') as mins   -- or minute()           \n",
    ", date_format(current_timestamp, 'ss') as secs   -- or seconds           \n",
    ", date_format(current_timestamp, 'SS') as millis  \n",
    ", date_format(current_timestamp, 'SSS') as millis3            \n",
    "\n",
    "-- Note: date_format returns string\n"
   ]
  },
  {
   "cell_type": "code",
   "execution_count": 0,
   "metadata": {
    "application/vnd.databricks.v1+cell": {
     "cellMetadata": {
      "byteLimit": 2048000,
      "implicitDf": true,
      "rowLimit": 10000
     },
     "inputWidgets": {},
     "nuid": "7b72ec0d-0c67-409c-b9cb-621ecf4c6483",
     "showTitle": false,
     "title": ""
    }
   },
   "outputs": [
    {
     "output_type": "display_data",
     "data": {
      "text/html": [
       "<style scoped>\n",
       "  .table-result-container {\n",
       "    max-height: 300px;\n",
       "    overflow: auto;\n",
       "  }\n",
       "  table, th, td {\n",
       "    border: 1px solid black;\n",
       "    border-collapse: collapse;\n",
       "  }\n",
       "  th, td {\n",
       "    padding: 5px;\n",
       "  }\n",
       "  th {\n",
       "    text-align: left;\n",
       "  }\n",
       "</style><div class='table-result-container'><table class='table-result'><thead style='background-color: white'><tr><th>wk_of_yr</th><th>day_of_wk</th></tr></thead><tbody><tr><td>40</td><td>3</td></tr></tbody></table></div>"
      ]
     },
     "metadata": {
      "application/vnd.databricks.v1+output": {
       "addedWidgets": {},
       "aggData": [],
       "aggError": "",
       "aggOverflow": false,
       "aggSchema": [],
       "aggSeriesLimitReached": false,
       "aggType": "",
       "arguments": {},
       "columnCustomDisplayInfos": {},
       "data": [
        [
         40,
         3
        ]
       ],
       "datasetInfos": [],
       "dbfsResultPath": null,
       "isJsonSchema": true,
       "metadata": {
        "dataframeName": "_sqldf",
        "executionCount": 138
       },
       "overflow": false,
       "plotOptions": {
        "customPlotOptions": {},
        "displayType": "table",
        "pivotAggregation": null,
        "pivotColumns": null,
        "xColumns": null,
        "yColumns": null
       },
       "removedWidgets": [],
       "schema": [
        {
         "metadata": "{}",
         "name": "wk_of_yr",
         "type": "\"integer\""
        },
        {
         "metadata": "{}",
         "name": "day_of_wk",
         "type": "\"integer\""
        }
       ],
       "type": "table"
      }
     },
     "output_type": "display_data"
    }
   ],
   "source": [
    "%sql\n",
    "-- Calander Date Functions: Note most are covered by date_format \n",
    "SELECT weekofyear(current_timestamp) as wk_of_yr\n",
    "     , dayofweek(current_timestamp) as day_of_wk\n",
    "   "
   ]
  },
  {
   "cell_type": "code",
   "execution_count": 0,
   "metadata": {
    "application/vnd.databricks.v1+cell": {
     "cellMetadata": {
      "byteLimit": 2048000,
      "implicitDf": true,
      "rowLimit": 10000
     },
     "inputWidgets": {},
     "nuid": "a7f4e8de-c9a1-4bc7-bef4-0cfb65068d6e",
     "showTitle": false,
     "title": ""
    }
   },
   "outputs": [
    {
     "output_type": "display_data",
     "data": {
      "text/html": [
       "<style scoped>\n",
       "  .table-result-container {\n",
       "    max-height: 300px;\n",
       "    overflow: auto;\n",
       "  }\n",
       "  table, th, td {\n",
       "    border: 1px solid black;\n",
       "    border-collapse: collapse;\n",
       "  }\n",
       "  th, td {\n",
       "    padding: 5px;\n",
       "  }\n",
       "  th {\n",
       "    text-align: left;\n",
       "  }\n",
       "</style><div class='table-result-container'><table class='table-result'><thead style='background-color: white'><tr><th>cur_date</th><th>cur_yr_and_day_of_the_year</th><th>cur_date2</th><th>cur_date3</th></tr></thead><tbody><tr><td>20231003</td><td>2023276</td><td>03 October, 2023</td><td>2023/10/03</td></tr></tbody></table></div>"
      ]
     },
     "metadata": {
      "application/vnd.databricks.v1+output": {
       "addedWidgets": {},
       "aggData": [],
       "aggError": "",
       "aggOverflow": false,
       "aggSchema": [],
       "aggSeriesLimitReached": false,
       "aggType": "",
       "arguments": {},
       "columnCustomDisplayInfos": {},
       "data": [
        [
         "20231003",
         "2023276",
         "03 October, 2023",
         "2023/10/03"
        ]
       ],
       "datasetInfos": [],
       "dbfsResultPath": null,
       "isJsonSchema": true,
       "metadata": {
        "dataframeName": "_sqldf",
        "executionCount": 122
       },
       "overflow": false,
       "plotOptions": {
        "customPlotOptions": {},
        "displayType": "table",
        "pivotAggregation": null,
        "pivotColumns": null,
        "xColumns": null,
        "yColumns": null
       },
       "removedWidgets": [],
       "schema": [
        {
         "metadata": "{}",
         "name": "cur_date",
         "type": "\"string\""
        },
        {
         "metadata": "{}",
         "name": "cur_yr_and_day_of_the_year",
         "type": "\"string\""
        },
        {
         "metadata": "{}",
         "name": "cur_date2",
         "type": "\"string\""
        },
        {
         "metadata": "{}",
         "name": "cur_date3",
         "type": "\"string\""
        }
       ],
       "type": "table"
      }
     },
     "output_type": "display_data"
    }
   ],
   "source": [
    "%sql\n",
    "SELECT date_format(current_timestamp, 'yyyyMMdd') as cur_date\n",
    "     , date_format(current_timestamp, 'yyyyDDD') as cur_yr_and_day_of_the_year\n",
    "     , date_format(current_timestamp, 'dd MMMM, yyyy') as cur_date2\n",
    "     , date_format(current_timestamp, 'yyyy/MM/dd') as cur_date3"
   ]
  },
  {
   "cell_type": "code",
   "execution_count": 0,
   "metadata": {
    "application/vnd.databricks.v1+cell": {
     "cellMetadata": {
      "byteLimit": 2048000,
      "implicitDf": true,
      "rowLimit": 10000
     },
     "inputWidgets": {},
     "nuid": "1d692efd-d04f-49d9-9717-9161b38a2c5d",
     "showTitle": false,
     "title": ""
    }
   },
   "outputs": [
    {
     "output_type": "display_data",
     "data": {
      "text/html": [
       "<style scoped>\n",
       "  .table-result-container {\n",
       "    max-height: 300px;\n",
       "    overflow: auto;\n",
       "  }\n",
       "  table, th, td {\n",
       "    border: 1px solid black;\n",
       "    border-collapse: collapse;\n",
       "  }\n",
       "  th, td {\n",
       "    padding: 5px;\n",
       "  }\n",
       "  th {\n",
       "    text-align: left;\n",
       "  }\n",
       "</style><div class='table-result-container'><table class='table-result'><thead style='background-color: white'><tr><th>res1</th><th>res2</th><th>res3</th><th>res4</th><th>res5</th><th>res6</th></tr></thead><tbody><tr><td>2022-01-16</td><td>2022-01-16T18:24:00.000+0000</td><td>2022-10-15</td><td>2022-03-31</td><td>2022-03-01</td><td>Thursday</td></tr></tbody></table></div>"
      ]
     },
     "metadata": {
      "application/vnd.databricks.v1+output": {
       "addedWidgets": {},
       "aggData": [],
       "aggError": "",
       "aggOverflow": false,
       "aggSchema": [],
       "aggSeriesLimitReached": false,
       "aggType": "",
       "arguments": {},
       "columnCustomDisplayInfos": {},
       "data": [
        [
         "2022-01-16",
         "2022-01-16T18:24:00.000+0000",
         "2022-10-15",
         "2022-03-31",
         "2022-03-01",
         "Thursday"
        ]
       ],
       "datasetInfos": [],
       "dbfsResultPath": null,
       "isJsonSchema": true,
       "metadata": {
        "dataframeName": "_sqldf",
        "executionCount": 142
       },
       "overflow": false,
       "plotOptions": {
        "customPlotOptions": {},
        "displayType": "table",
        "pivotAggregation": null,
        "pivotColumns": null,
        "xColumns": null,
        "yColumns": null
       },
       "removedWidgets": [],
       "schema": [
        {
         "metadata": "{}",
         "name": "res1",
         "type": "\"date\""
        },
        {
         "metadata": "{}",
         "name": "res2",
         "type": "\"timestamp\""
        },
        {
         "metadata": "{}",
         "name": "res3",
         "type": "\"date\""
        },
        {
         "metadata": "{}",
         "name": "res4",
         "type": "\"date\""
        },
        {
         "metadata": "{}",
         "name": "res5",
         "type": "\"date\""
        },
        {
         "metadata": "{}",
         "name": "res6",
         "type": "\"string\""
        }
       ],
       "type": "table"
      }
     },
     "output_type": "display_data"
    }
   ],
   "source": [
    "%sql\n",
    "-- Converting Non-standard Dates and Timestamps into Standard Date & Timestamp: to_date, to_timestamp\n",
    "-- It is very important to convert, so that we can apply robust functions like date_format \n",
    "SELECT\n",
    "  to_date('2022/1/16', 'yyyy/M/dd') as res1 --both the string & format should be same\n",
    ", to_timestamp('2022/1/16 18:24', 'yyyy/M/dd HH:mm') as res2\n",
    ", to_date(20221015, 'yyyyMMdd') as res3\n",
    ", to_date(2022090, 'yyyyDDD') as res4 --Julian Representation of Date\n",
    ", trunc(to_date(2022090, 'yyyyDDD'), 'MM') as res5\n",
    ", date_format(to_date(2022090, 'yyyyDDD'), 'EEEE') as res6"
   ]
  },
  {
   "cell_type": "markdown",
   "metadata": {
    "application/vnd.databricks.v1+cell": {
     "cellMetadata": {},
     "inputWidgets": {},
     "nuid": "796615f3-6cf1-4d9b-a7bf-ecae2074985e",
     "showTitle": false,
     "title": ""
    }
   },
   "source": [
    "#### Dealing with Unix Timestamp\n",
    "* `from_unixtime` : can be used to convert unix epoch to readable date or timestamp based on specified format\n",
    "* `unix_timestamp` or `to_unix_timestamp` : can be used to convert date or timestamp based on specified format to unix epoch.\n",
    "* What is unix epoch? : on 1970 June 1st the unix epoch have started, since then every second is incremented by 1\n",
    "* to get the unix epoch for current time using `date '+%s'` in Linux/Unix terminal"
   ]
  },
  {
   "cell_type": "code",
   "execution_count": 0,
   "metadata": {
    "application/vnd.databricks.v1+cell": {
     "cellMetadata": {
      "byteLimit": 2048000,
      "rowLimit": 10000
     },
     "inputWidgets": {},
     "nuid": "c923a9ce-177c-46c0-8b56-1912f30ec3ae",
     "showTitle": false,
     "title": ""
    }
   },
   "outputs": [
    {
     "output_type": "stream",
     "name": "stdout",
     "output_type": "stream",
     "text": [
      "1696320372\r\n"
     ]
    }
   ],
   "source": [
    "# unix epoch for current timestamp: integer representation of date or timestamp\n",
    "!date '+%s'"
   ]
  },
  {
   "cell_type": "code",
   "execution_count": 0,
   "metadata": {
    "application/vnd.databricks.v1+cell": {
     "cellMetadata": {
      "byteLimit": 2048000,
      "implicitDf": true,
      "rowLimit": 10000
     },
     "inputWidgets": {},
     "nuid": "bc3911d1-a90b-434c-84a0-b3104e66012a",
     "showTitle": false,
     "title": ""
    }
   },
   "outputs": [
    {
     "output_type": "display_data",
     "data": {
      "text/html": [
       "<style scoped>\n",
       "  .table-result-container {\n",
       "    max-height: 300px;\n",
       "    overflow: auto;\n",
       "  }\n",
       "  table, th, td {\n",
       "    border: 1px solid black;\n",
       "    border-collapse: collapse;\n",
       "  }\n",
       "  th, td {\n",
       "    padding: 5px;\n",
       "  }\n",
       "  th {\n",
       "    text-align: left;\n",
       "  }\n",
       "</style><div class='table-result-container'><table class='table-result'><thead style='background-color: white'><tr><th>res1</th><th>res2</th><th>res3</th></tr></thead><tbody><tr><td>2023-10-03 08:06:12</td><td>202310</td><td>1696320372</td></tr></tbody></table></div>"
      ]
     },
     "metadata": {
      "application/vnd.databricks.v1+output": {
       "addedWidgets": {},
       "aggData": [],
       "aggError": "",
       "aggOverflow": false,
       "aggSchema": [],
       "aggSeriesLimitReached": false,
       "aggType": "",
       "arguments": {},
       "columnCustomDisplayInfos": {},
       "data": [
        [
         "2023-10-03 08:06:12",
         "202310",
         1696320372
        ]
       ],
       "datasetInfos": [],
       "dbfsResultPath": null,
       "isJsonSchema": true,
       "metadata": {
        "dataframeName": "_sqldf",
        "executionCount": 147
       },
       "overflow": false,
       "plotOptions": {
        "customPlotOptions": {},
        "displayType": "table",
        "pivotAggregation": null,
        "pivotColumns": null,
        "xColumns": null,
        "yColumns": null
       },
       "removedWidgets": [],
       "schema": [
        {
         "metadata": "{}",
         "name": "res1",
         "type": "\"string\""
        },
        {
         "metadata": "{}",
         "name": "res2",
         "type": "\"string\""
        },
        {
         "metadata": "{}",
         "name": "res3",
         "type": "\"long\""
        }
       ],
       "type": "table"
      }
     },
     "output_type": "display_data"
    }
   ],
   "source": [
    "%sql\n",
    "SELECT from_unixtime(1696320372) as res1\n",
    "     , from_unixtime(1696320372, 'yyyyMM') as res2\n",
    "     , to_unix_timestamp('2023-10-03 08:06:12') as res3 -- Note: date should be in standard format"
   ]
  },
  {
   "cell_type": "code",
   "execution_count": 0,
   "metadata": {
    "application/vnd.databricks.v1+cell": {
     "cellMetadata": {},
     "inputWidgets": {},
     "nuid": "75c67122-2dc2-4000-98b9-9c69aa3bc175",
     "showTitle": false,
     "title": ""
    }
   },
   "outputs": [],
   "source": []
  }
 ],
 "metadata": {
  "application/vnd.databricks.v1+notebook": {
   "dashboards": [],
   "language": "python",
   "notebookMetadata": {
    "mostRecentlyExecutedCommandWithImplicitDF": {
     "commandId": 3350989109127082,
     "dataframes": [
      "_sqldf"
     ]
    },
    "pythonIndentUnit": 4
   },
   "notebookName": "03_Pre-Defined Functions (STRING+DATE manipulating) in Spark SQL",
   "widgets": {}
  }
 },
 "nbformat": 4,
 "nbformat_minor": 0
}
