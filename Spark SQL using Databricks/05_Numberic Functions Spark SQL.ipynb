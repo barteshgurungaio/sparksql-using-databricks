{
 "cells": [
  {
   "cell_type": "markdown",
   "metadata": {
    "application/vnd.databricks.v1+cell": {
     "cellMetadata": {},
     "inputWidgets": {},
     "nuid": "981cec43-059d-4957-aa65-b06caa306d06",
     "showTitle": false,
     "title": ""
    }
   },
   "source": [
    "#### Overview of Numeric Functions\n",
    "- `abs` : returns positive number\n",
    "- `sum`, `avg`, `min` ,`max`, `count` - aggregrate functions\n",
    "-  `round`, `count_if`\n",
    "- `ceil`, `floor` : always returns integer\n",
    "- `greatest`\n",
    "- `rand`\n",
    "- `pow`, `sqrt`\n",
    "- `cumedist`, `stddev`, `variance`\n"
   ]
  },
  {
   "cell_type": "code",
   "execution_count": 0,
   "metadata": {
    "application/vnd.databricks.v1+cell": {
     "cellMetadata": {
      "byteLimit": 2048000,
      "implicitDf": true,
      "rowLimit": 10000
     },
     "inputWidgets": {},
     "nuid": "d4a06e3b-a95e-4c61-a31b-36205905921b",
     "showTitle": false,
     "title": ""
    }
   },
   "outputs": [
    {
     "output_type": "display_data",
     "data": {
      "text/html": [
       "<style scoped>\n",
       "  .table-result-container {\n",
       "    max-height: 300px;\n",
       "    overflow: auto;\n",
       "  }\n",
       "  table, th, td {\n",
       "    border: 1px solid black;\n",
       "    border-collapse: collapse;\n",
       "  }\n",
       "  th, td {\n",
       "    padding: 5px;\n",
       "  }\n",
       "  th {\n",
       "    text-align: left;\n",
       "  }\n",
       "</style><div class='table-result-container'><table class='table-result'><thead style='background-color: white'><tr><th>res1</th><th>res2</th><th>res3</th><th>res4</th><th>res5</th><th>res6</th></tr></thead><tbody><tr><td>33</td><td>30</td><td>11</td><td>10</td><td>4.0</td><td>74.0</td></tr></tbody></table></div>"
      ]
     },
     "metadata": {
      "application/vnd.databricks.v1+output": {
       "addedWidgets": {},
       "aggData": [],
       "aggError": "",
       "aggOverflow": false,
       "aggSchema": [],
       "aggSeriesLimitReached": false,
       "aggType": "",
       "arguments": {},
       "columnCustomDisplayInfos": {},
       "data": [
        [
         33,
         30,
         "11",
         "10",
         4.0,
         74.0
        ]
       ],
       "datasetInfos": [],
       "dbfsResultPath": null,
       "isJsonSchema": true,
       "metadata": {
        "dataframeName": "_sqldf",
        "executionCount": 14
       },
       "overflow": false,
       "plotOptions": {
        "customPlotOptions": {},
        "displayType": "table",
        "pivotAggregation": null,
        "pivotColumns": null,
        "xColumns": null,
        "yColumns": null
       },
       "removedWidgets": [],
       "schema": [
        {
         "metadata": "{}",
         "name": "res1",
         "type": "\"integer\""
        },
        {
         "metadata": "{}",
         "name": "res2",
         "type": "\"integer\""
        },
        {
         "metadata": "{}",
         "name": "res3",
         "type": "\"decimal(3,0)\""
        },
        {
         "metadata": "{}",
         "name": "res4",
         "type": "\"decimal(3,0)\""
        },
        {
         "metadata": "{}",
         "name": "res5",
         "type": "\"double\""
        },
        {
         "metadata": "{}",
         "name": "res6",
         "type": "\"double\""
        }
       ],
       "type": "table"
      }
     },
     "output_type": "display_data"
    }
   ],
   "source": [
    "%sql\n",
    "select \n",
    "  abs(-33) as res1 \n",
    ", greatest(10, 20, 30) as res2\n",
    ", ceil(10.2) as res3\n",
    ", floor(10.7) as res4\n",
    ", round(rand() * 10) as res5 -- to get random number b/w 1 & 9\n",
    ", round(rand() * 100) as res6 -- to get random number b/w 1 & 99"
   ]
  },
  {
   "cell_type": "code",
   "execution_count": 0,
   "metadata": {
    "application/vnd.databricks.v1+cell": {
     "cellMetadata": {},
     "inputWidgets": {},
     "nuid": "b3c6e4f0-c986-4001-bbee-541e9bf04a34",
     "showTitle": false,
     "title": ""
    }
   },
   "outputs": [],
   "source": []
  }
 ],
 "metadata": {
  "application/vnd.databricks.v1+notebook": {
   "dashboards": [],
   "language": "python",
   "notebookMetadata": {
    "mostRecentlyExecutedCommandWithImplicitDF": {
     "commandId": 3350989109127103,
     "dataframes": [
      "_sqldf"
     ]
    },
    "pythonIndentUnit": 4
   },
   "notebookName": "05_Numberic Functions Spark SQL",
   "widgets": {}
  }
 },
 "nbformat": 4,
 "nbformat_minor": 0
}
