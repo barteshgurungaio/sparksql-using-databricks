{
 "cells": [
  {
   "cell_type": "markdown",
   "metadata": {
    "application/vnd.databricks.v1+cell": {
     "cellMetadata": {
      "byteLimit": 2048000,
      "rowLimit": 10000
     },
     "inputWidgets": {},
     "nuid": "8cdb29ed-c3db-4dbb-99d4-72aac09c558f",
     "showTitle": false,
     "title": ""
    }
   },
   "source": [
    "#### Getting Query Results into the Table\n",
    "- `CTAS`, `INSERT`\n",
    "- `MERGE` : supported only with delta format "
   ]
  },
  {
   "cell_type": "code",
   "execution_count": 0,
   "metadata": {
    "application/vnd.databricks.v1+cell": {
     "cellMetadata": {
      "byteLimit": 2048000,
      "implicitDf": true,
      "rowLimit": 10000
     },
     "inputWidgets": {},
     "nuid": "eaad24fa-a8ae-4ef1-ac2a-825c007afbeb",
     "showTitle": false,
     "title": ""
    }
   },
   "outputs": [
    {
     "output_type": "display_data",
     "data": {
      "text/html": [
       "<style scoped>\n",
       "  .table-result-container {\n",
       "    max-height: 300px;\n",
       "    overflow: auto;\n",
       "  }\n",
       "  table, th, td {\n",
       "    border: 1px solid black;\n",
       "    border-collapse: collapse;\n",
       "  }\n",
       "  th, td {\n",
       "    padding: 5px;\n",
       "  }\n",
       "  th {\n",
       "    text-align: left;\n",
       "  }\n",
       "</style><div class='table-result-container'><table class='table-result'><thead style='background-color: white'><tr></tr></thead><tbody></tbody></table></div>"
      ]
     },
     "metadata": {
      "application/vnd.databricks.v1+output": {
       "addedWidgets": {},
       "aggData": [],
       "aggError": "",
       "aggOverflow": false,
       "aggSchema": [],
       "aggSeriesLimitReached": false,
       "aggType": "",
       "arguments": {},
       "columnCustomDisplayInfos": {},
       "data": [],
       "datasetInfos": [],
       "dbfsResultPath": null,
       "isJsonSchema": true,
       "metadata": {
        "dataframeName": null
       },
       "overflow": false,
       "plotOptions": {
        "customPlotOptions": {},
        "displayType": "table",
        "pivotAggregation": null,
        "pivotColumns": null,
        "xColumns": null,
        "yColumns": null
       },
       "removedWidgets": [],
       "schema": [],
       "type": "table"
      }
     },
     "output_type": "display_data"
    }
   ],
   "source": [
    "%sql\n",
    "use itversity_retail_db"
   ]
  },
  {
   "cell_type": "code",
   "execution_count": 0,
   "metadata": {
    "application/vnd.databricks.v1+cell": {
     "cellMetadata": {
      "byteLimit": 2048000,
      "implicitDf": true,
      "rowLimit": 10000
     },
     "inputWidgets": {},
     "nuid": "8eaf3138-756c-4405-9e45-fe2c884caa52",
     "showTitle": false,
     "title": ""
    }
   },
   "outputs": [
    {
     "output_type": "display_data",
     "data": {
      "text/html": [
       "<style scoped>\n",
       "  .table-result-container {\n",
       "    max-height: 300px;\n",
       "    overflow: auto;\n",
       "  }\n",
       "  table, th, td {\n",
       "    border: 1px solid black;\n",
       "    border-collapse: collapse;\n",
       "  }\n",
       "  th, td {\n",
       "    padding: 5px;\n",
       "  }\n",
       "  th {\n",
       "    text-align: left;\n",
       "  }\n",
       "</style><div class='table-result-container'><table class='table-result'><thead style='background-color: white'><tr><th>database</th><th>tableName</th><th>isTemporary</th></tr></thead><tbody><tr><td>itversity_retail_db</td><td>daily_revenue</td><td>false</td></tr><tr><td>itversity_retail_db</td><td>daily_revenue_stg</td><td>false</td></tr><tr><td>itversity_retail_db</td><td>order_items</td><td>false</td></tr><tr><td>itversity_retail_db</td><td>orders</td><td>false</td></tr></tbody></table></div>"
      ]
     },
     "metadata": {
      "application/vnd.databricks.v1+output": {
       "addedWidgets": {},
       "aggData": [],
       "aggError": "",
       "aggOverflow": false,
       "aggSchema": [],
       "aggSeriesLimitReached": false,
       "aggType": "",
       "arguments": {},
       "columnCustomDisplayInfos": {},
       "data": [
        [
         "itversity_retail_db",
         "daily_revenue",
         false
        ],
        [
         "itversity_retail_db",
         "daily_revenue_stg",
         false
        ],
        [
         "itversity_retail_db",
         "order_items",
         false
        ],
        [
         "itversity_retail_db",
         "orders",
         false
        ]
       ],
       "datasetInfos": [],
       "dbfsResultPath": null,
       "isJsonSchema": true,
       "metadata": {
        "dataframeName": "_sqldf",
        "executionCount": 1
       },
       "overflow": false,
       "plotOptions": {
        "customPlotOptions": {},
        "displayType": "table",
        "pivotAggregation": null,
        "pivotColumns": null,
        "xColumns": null,
        "yColumns": null
       },
       "removedWidgets": [],
       "schema": [
        {
         "metadata": "{}",
         "name": "database",
         "type": "\"string\""
        },
        {
         "metadata": "{}",
         "name": "tableName",
         "type": "\"string\""
        },
        {
         "metadata": "{}",
         "name": "isTemporary",
         "type": "\"boolean\""
        }
       ],
       "type": "table"
      }
     },
     "output_type": "display_data"
    }
   ],
   "source": [
    "%sql\n",
    "show tables"
   ]
  },
  {
   "cell_type": "code",
   "execution_count": 0,
   "metadata": {
    "application/vnd.databricks.v1+cell": {
     "cellMetadata": {
      "byteLimit": 2048000,
      "implicitDf": true,
      "rowLimit": 10000
     },
     "inputWidgets": {},
     "nuid": "edda2dc1-638c-444c-85f6-ba3208caa360",
     "showTitle": false,
     "title": ""
    }
   },
   "outputs": [
    {
     "output_type": "display_data",
     "data": {
      "text/html": [
       "<style scoped>\n",
       "  .table-result-container {\n",
       "    max-height: 300px;\n",
       "    overflow: auto;\n",
       "  }\n",
       "  table, th, td {\n",
       "    border: 1px solid black;\n",
       "    border-collapse: collapse;\n",
       "  }\n",
       "  th, td {\n",
       "    padding: 5px;\n",
       "  }\n",
       "  th {\n",
       "    text-align: left;\n",
       "  }\n",
       "</style><div class='table-result-container'><table class='table-result'><thead style='background-color: white'><tr><th>order_id</th><th>order_date</th><th>order_customer_id</th><th>order_status</th></tr></thead><tbody><tr><td>1</td><td>2013-07-25 00:00:00.0</td><td>11599</td><td>CLOSED</td></tr><tr><td>2</td><td>2013-07-25 00:00:00.0</td><td>256</td><td>PENDING_PAYMENT</td></tr><tr><td>3</td><td>2013-07-25 00:00:00.0</td><td>12111</td><td>COMPLETE</td></tr><tr><td>4</td><td>2013-07-25 00:00:00.0</td><td>8827</td><td>CLOSED</td></tr><tr><td>5</td><td>2013-07-25 00:00:00.0</td><td>11318</td><td>COMPLETE</td></tr><tr><td>6</td><td>2013-07-25 00:00:00.0</td><td>7130</td><td>COMPLETE</td></tr><tr><td>7</td><td>2013-07-25 00:00:00.0</td><td>4530</td><td>COMPLETE</td></tr><tr><td>8</td><td>2013-07-25 00:00:00.0</td><td>2911</td><td>PROCESSING</td></tr><tr><td>9</td><td>2013-07-25 00:00:00.0</td><td>5657</td><td>PENDING_PAYMENT</td></tr><tr><td>10</td><td>2013-07-25 00:00:00.0</td><td>5648</td><td>PENDING_PAYMENT</td></tr></tbody></table></div>"
      ]
     },
     "metadata": {
      "application/vnd.databricks.v1+output": {
       "addedWidgets": {},
       "aggData": [],
       "aggError": "",
       "aggOverflow": false,
       "aggSchema": [],
       "aggSeriesLimitReached": false,
       "aggType": "",
       "arguments": {},
       "columnCustomDisplayInfos": {},
       "data": [
        [
         1,
         "2013-07-25 00:00:00.0",
         11599,
         "CLOSED"
        ],
        [
         2,
         "2013-07-25 00:00:00.0",
         256,
         "PENDING_PAYMENT"
        ],
        [
         3,
         "2013-07-25 00:00:00.0",
         12111,
         "COMPLETE"
        ],
        [
         4,
         "2013-07-25 00:00:00.0",
         8827,
         "CLOSED"
        ],
        [
         5,
         "2013-07-25 00:00:00.0",
         11318,
         "COMPLETE"
        ],
        [
         6,
         "2013-07-25 00:00:00.0",
         7130,
         "COMPLETE"
        ],
        [
         7,
         "2013-07-25 00:00:00.0",
         4530,
         "COMPLETE"
        ],
        [
         8,
         "2013-07-25 00:00:00.0",
         2911,
         "PROCESSING"
        ],
        [
         9,
         "2013-07-25 00:00:00.0",
         5657,
         "PENDING_PAYMENT"
        ],
        [
         10,
         "2013-07-25 00:00:00.0",
         5648,
         "PENDING_PAYMENT"
        ]
       ],
       "datasetInfos": [],
       "dbfsResultPath": null,
       "isJsonSchema": true,
       "metadata": {
        "dataframeName": "_sqldf",
        "executionCount": 2
       },
       "overflow": false,
       "plotOptions": {
        "customPlotOptions": {},
        "displayType": "table",
        "pivotAggregation": null,
        "pivotColumns": null,
        "xColumns": null,
        "yColumns": null
       },
       "removedWidgets": [],
       "schema": [
        {
         "metadata": "{}",
         "name": "order_id",
         "type": "\"long\""
        },
        {
         "metadata": "{}",
         "name": "order_date",
         "type": "\"string\""
        },
        {
         "metadata": "{}",
         "name": "order_customer_id",
         "type": "\"long\""
        },
        {
         "metadata": "{}",
         "name": "order_status",
         "type": "\"string\""
        }
       ],
       "type": "table"
      }
     },
     "output_type": "display_data"
    }
   ],
   "source": [
    "%sql\n",
    "select * from orders limit 10"
   ]
  },
  {
   "cell_type": "code",
   "execution_count": 0,
   "metadata": {
    "application/vnd.databricks.v1+cell": {
     "cellMetadata": {
      "byteLimit": 2048000,
      "implicitDf": true,
      "rowLimit": 10000
     },
     "inputWidgets": {},
     "nuid": "e71c4536-99c9-4abd-aa75-1fa520d5b1d9",
     "showTitle": false,
     "title": ""
    }
   },
   "outputs": [
    {
     "output_type": "display_data",
     "data": {
      "text/html": [
       "<style scoped>\n",
       "  .table-result-container {\n",
       "    max-height: 300px;\n",
       "    overflow: auto;\n",
       "  }\n",
       "  table, th, td {\n",
       "    border: 1px solid black;\n",
       "    border-collapse: collapse;\n",
       "  }\n",
       "  th, td {\n",
       "    padding: 5px;\n",
       "  }\n",
       "  th {\n",
       "    text-align: left;\n",
       "  }\n",
       "</style><div class='table-result-container'><table class='table-result'><thead style='background-color: white'><tr><th>order_item</th><th>order_item_order_id</th><th>order_item_product_id</th><th>order_item_quantity</th><th>order_item_subtotal</th><th>order_item_product_price</th></tr></thead><tbody><tr><td>1</td><td>1</td><td>957</td><td>1</td><td>299.98</td><td>299.98</td></tr><tr><td>2</td><td>2</td><td>1073</td><td>1</td><td>199.99</td><td>199.99</td></tr><tr><td>3</td><td>2</td><td>502</td><td>5</td><td>250.0</td><td>50.0</td></tr><tr><td>4</td><td>2</td><td>403</td><td>1</td><td>129.99</td><td>129.99</td></tr><tr><td>5</td><td>4</td><td>897</td><td>2</td><td>49.98</td><td>24.99</td></tr><tr><td>6</td><td>4</td><td>365</td><td>5</td><td>299.95</td><td>59.99</td></tr><tr><td>7</td><td>4</td><td>502</td><td>3</td><td>150.0</td><td>50.0</td></tr><tr><td>8</td><td>4</td><td>1014</td><td>4</td><td>199.92</td><td>49.98</td></tr><tr><td>9</td><td>5</td><td>957</td><td>1</td><td>299.98</td><td>299.98</td></tr><tr><td>10</td><td>5</td><td>365</td><td>5</td><td>299.95</td><td>59.99</td></tr></tbody></table></div>"
      ]
     },
     "metadata": {
      "application/vnd.databricks.v1+output": {
       "addedWidgets": {},
       "aggData": [],
       "aggError": "",
       "aggOverflow": false,
       "aggSchema": [],
       "aggSeriesLimitReached": false,
       "aggType": "",
       "arguments": {},
       "columnCustomDisplayInfos": {},
       "data": [
        [
         1,
         1,
         957,
         1,
         299.98,
         299.98
        ],
        [
         2,
         2,
         1073,
         1,
         199.99,
         199.99
        ],
        [
         3,
         2,
         502,
         5,
         250.0,
         50.0
        ],
        [
         4,
         2,
         403,
         1,
         129.99,
         129.99
        ],
        [
         5,
         4,
         897,
         2,
         49.98,
         24.99
        ],
        [
         6,
         4,
         365,
         5,
         299.95,
         59.99
        ],
        [
         7,
         4,
         502,
         3,
         150.0,
         50.0
        ],
        [
         8,
         4,
         1014,
         4,
         199.92,
         49.98
        ],
        [
         9,
         5,
         957,
         1,
         299.98,
         299.98
        ],
        [
         10,
         5,
         365,
         5,
         299.95,
         59.99
        ]
       ],
       "datasetInfos": [],
       "dbfsResultPath": null,
       "isJsonSchema": true,
       "metadata": {
        "dataframeName": "_sqldf",
        "executionCount": 3
       },
       "overflow": false,
       "plotOptions": {
        "customPlotOptions": {},
        "displayType": "table",
        "pivotAggregation": null,
        "pivotColumns": null,
        "xColumns": null,
        "yColumns": null
       },
       "removedWidgets": [],
       "schema": [
        {
         "metadata": "{}",
         "name": "order_item",
         "type": "\"long\""
        },
        {
         "metadata": "{}",
         "name": "order_item_order_id",
         "type": "\"long\""
        },
        {
         "metadata": "{}",
         "name": "order_item_product_id",
         "type": "\"long\""
        },
        {
         "metadata": "{}",
         "name": "order_item_quantity",
         "type": "\"long\""
        },
        {
         "metadata": "{}",
         "name": "order_item_subtotal",
         "type": "\"double\""
        },
        {
         "metadata": "{}",
         "name": "order_item_product_price",
         "type": "\"double\""
        }
       ],
       "type": "table"
      }
     },
     "output_type": "display_data"
    }
   ],
   "source": [
    "%sql\n",
    " select * from order_items limit 10"
   ]
  },
  {
   "cell_type": "code",
   "execution_count": 0,
   "metadata": {
    "application/vnd.databricks.v1+cell": {
     "cellMetadata": {
      "byteLimit": 2048000,
      "implicitDf": true,
      "rowLimit": 10000
     },
     "inputWidgets": {},
     "nuid": "2b16e886-2daf-477f-9c7b-fd37b28bff0c",
     "showTitle": false,
     "title": ""
    }
   },
   "outputs": [
    {
     "output_type": "display_data",
     "data": {
      "text/html": [
       "<style scoped>\n",
       "  .table-result-container {\n",
       "    max-height: 300px;\n",
       "    overflow: auto;\n",
       "  }\n",
       "  table, th, td {\n",
       "    border: 1px solid black;\n",
       "    border-collapse: collapse;\n",
       "  }\n",
       "  th, td {\n",
       "    padding: 5px;\n",
       "  }\n",
       "  th {\n",
       "    text-align: left;\n",
       "  }\n",
       "</style><div class='table-result-container'><table class='table-result'><thead style='background-color: white'><tr><th>order_date</th><th>order_revenue</th></tr></thead><tbody><tr><td>2013-07-25 00:00:00.0</td><td>31547.23</td></tr><tr><td>2013-07-26 00:00:00.0</td><td>54713.23</td></tr><tr><td>2013-07-27 00:00:00.0</td><td>48411.48</td></tr><tr><td>2013-07-28 00:00:00.0</td><td>35672.03</td></tr><tr><td>2013-07-29 00:00:00.0</td><td>54579.7</td></tr><tr><td>2013-07-30 00:00:00.0</td><td>49329.29</td></tr><tr><td>2013-07-31 00:00:00.0</td><td>59212.49</td></tr><tr><td>2013-08-01 00:00:00.0</td><td>49160.08</td></tr><tr><td>2013-08-02 00:00:00.0</td><td>50688.58</td></tr><tr><td>2013-08-03 00:00:00.0</td><td>43416.74</td></tr></tbody></table></div>"
      ]
     },
     "metadata": {
      "application/vnd.databricks.v1+output": {
       "addedWidgets": {},
       "aggData": [],
       "aggError": "",
       "aggOverflow": false,
       "aggSchema": [],
       "aggSeriesLimitReached": false,
       "aggType": "",
       "arguments": {},
       "columnCustomDisplayInfos": {},
       "data": [
        [
         "2013-07-25 00:00:00.0",
         31547.23
        ],
        [
         "2013-07-26 00:00:00.0",
         54713.23
        ],
        [
         "2013-07-27 00:00:00.0",
         48411.48
        ],
        [
         "2013-07-28 00:00:00.0",
         35672.03
        ],
        [
         "2013-07-29 00:00:00.0",
         54579.7
        ],
        [
         "2013-07-30 00:00:00.0",
         49329.29
        ],
        [
         "2013-07-31 00:00:00.0",
         59212.49
        ],
        [
         "2013-08-01 00:00:00.0",
         49160.08
        ],
        [
         "2013-08-02 00:00:00.0",
         50688.58
        ],
        [
         "2013-08-03 00:00:00.0",
         43416.74
        ]
       ],
       "datasetInfos": [],
       "dbfsResultPath": null,
       "isJsonSchema": true,
       "metadata": {
        "dataframeName": "_sqldf",
        "executionCount": 4
       },
       "overflow": false,
       "plotOptions": {
        "customPlotOptions": {},
        "displayType": "table",
        "pivotAggregation": null,
        "pivotColumns": null,
        "xColumns": null,
        "yColumns": null
       },
       "removedWidgets": [],
       "schema": [
        {
         "metadata": "{}",
         "name": "order_date",
         "type": "\"string\""
        },
        {
         "metadata": "{}",
         "name": "order_revenue",
         "type": "\"double\""
        }
       ],
       "type": "table"
      }
     },
     "output_type": "display_data"
    }
   ],
   "source": [
    "%sql\n",
    "-- TASK: Compute for daily revenue\n",
    "select o.order_date\n",
    ", round(sum(oi.order_item_subtotal), 2) as order_revenue\n",
    "from orders  o \n",
    "join order_items oi on o.order_id = oi.order_item_order_id\n",
    "where o.order_Status in ('COMPLETE', 'CLOSED')\n",
    "group by o.order_date\n",
    "order by o.order_date\n",
    "limit 10;"
   ]
  },
  {
   "cell_type": "code",
   "execution_count": 0,
   "metadata": {
    "application/vnd.databricks.v1+cell": {
     "cellMetadata": {
      "byteLimit": 2048000,
      "implicitDf": true,
      "rowLimit": 10000
     },
     "inputWidgets": {},
     "nuid": "70ac044a-8772-488b-8761-a22058bf8bca",
     "showTitle": false,
     "title": ""
    }
   },
   "outputs": [
    {
     "output_type": "display_data",
     "data": {
      "text/html": [
       "<style scoped>\n",
       "  .table-result-container {\n",
       "    max-height: 300px;\n",
       "    overflow: auto;\n",
       "  }\n",
       "  table, th, td {\n",
       "    border: 1px solid black;\n",
       "    border-collapse: collapse;\n",
       "  }\n",
       "  th, td {\n",
       "    padding: 5px;\n",
       "  }\n",
       "  th {\n",
       "    text-align: left;\n",
       "  }\n",
       "</style><div class='table-result-container'><table class='table-result'><thead style='background-color: white'><tr><th>num_affected_rows</th><th>num_inserted_rows</th></tr></thead><tbody></tbody></table></div>"
      ]
     },
     "metadata": {
      "application/vnd.databricks.v1+output": {
       "addedWidgets": {},
       "aggData": [],
       "aggError": "",
       "aggOverflow": false,
       "aggSchema": [],
       "aggSeriesLimitReached": false,
       "aggType": "",
       "arguments": {},
       "columnCustomDisplayInfos": {},
       "data": [],
       "datasetInfos": [],
       "dbfsResultPath": null,
       "isJsonSchema": true,
       "metadata": {
        "dataframeName": "_sqldf",
        "executionCount": 5
       },
       "overflow": false,
       "plotOptions": {
        "customPlotOptions": {},
        "displayType": "table",
        "pivotAggregation": null,
        "pivotColumns": null,
        "xColumns": null,
        "yColumns": null
       },
       "removedWidgets": [],
       "schema": [
        {
         "metadata": "{}",
         "name": "num_affected_rows",
         "type": "\"long\""
        },
        {
         "metadata": "{}",
         "name": "num_inserted_rows",
         "type": "\"long\""
        }
       ],
       "type": "table"
      }
     },
     "output_type": "display_data"
    }
   ],
   "source": [
    "%sql\n",
    "-- Case 1: Saving above query result into table using CTAS\n",
    "DROP TABLE IF EXISTS daily_revenue;\n",
    "CREATE TABLE daily_revenue AS\n",
    "select o.order_date\n",
    ", round(sum(oi.order_item_subtotal), 2) as order_revenue\n",
    "from orders  o \n",
    "join order_items oi on o.order_id = oi.order_item_order_id\n",
    "where o.order_Status in ('COMPLETE', 'CLOSED')\n",
    "group by o.order_date;"
   ]
  },
  {
   "cell_type": "code",
   "execution_count": 0,
   "metadata": {
    "application/vnd.databricks.v1+cell": {
     "cellMetadata": {
      "byteLimit": 2048000,
      "implicitDf": true,
      "rowLimit": 10000
     },
     "inputWidgets": {},
     "nuid": "740c3a4b-816c-4977-8441-1b4642303248",
     "showTitle": false,
     "title": ""
    }
   },
   "outputs": [
    {
     "output_type": "display_data",
     "data": {
      "text/html": [
       "<style scoped>\n",
       "  .table-result-container {\n",
       "    max-height: 300px;\n",
       "    overflow: auto;\n",
       "  }\n",
       "  table, th, td {\n",
       "    border: 1px solid black;\n",
       "    border-collapse: collapse;\n",
       "  }\n",
       "  th, td {\n",
       "    padding: 5px;\n",
       "  }\n",
       "  th {\n",
       "    text-align: left;\n",
       "  }\n",
       "</style><div class='table-result-container'><table class='table-result'><thead style='background-color: white'><tr><th>order_date</th><th>order_revenue</th></tr></thead><tbody><tr><td>2013-08-13 00:00:00.0</td><td>17956.88</td></tr><tr><td>2013-10-12 00:00:00.0</td><td>35698.85</td></tr><tr><td>2013-11-15 00:00:00.0</td><td>34443.22</td></tr><tr><td>2013-09-16 00:00:00.0</td><td>29117.35</td></tr><tr><td>2013-09-20 00:00:00.0</td><td>29575.36</td></tr><tr><td>2013-09-06 00:00:00.0</td><td>61976.1</td></tr><tr><td>2013-10-14 00:00:00.0</td><td>24086.61</td></tr><tr><td>2013-11-11 00:00:00.0</td><td>57917.7</td></tr><tr><td>2013-09-07 00:00:00.0</td><td>45235.53</td></tr><tr><td>2013-09-11 00:00:00.0</td><td>22322.13</td></tr></tbody></table></div>"
      ]
     },
     "metadata": {
      "application/vnd.databricks.v1+output": {
       "addedWidgets": {},
       "aggData": [],
       "aggError": "",
       "aggOverflow": false,
       "aggSchema": [],
       "aggSeriesLimitReached": false,
       "aggType": "",
       "arguments": {},
       "columnCustomDisplayInfos": {},
       "data": [
        [
         "2013-08-13 00:00:00.0",
         17956.88
        ],
        [
         "2013-10-12 00:00:00.0",
         35698.85
        ],
        [
         "2013-11-15 00:00:00.0",
         34443.22
        ],
        [
         "2013-09-16 00:00:00.0",
         29117.35
        ],
        [
         "2013-09-20 00:00:00.0",
         29575.36
        ],
        [
         "2013-09-06 00:00:00.0",
         61976.1
        ],
        [
         "2013-10-14 00:00:00.0",
         24086.61
        ],
        [
         "2013-11-11 00:00:00.0",
         57917.7
        ],
        [
         "2013-09-07 00:00:00.0",
         45235.53
        ],
        [
         "2013-09-11 00:00:00.0",
         22322.13
        ]
       ],
       "datasetInfos": [],
       "dbfsResultPath": null,
       "isJsonSchema": true,
       "metadata": {
        "dataframeName": "_sqldf",
        "executionCount": 6
       },
       "overflow": false,
       "plotOptions": {
        "customPlotOptions": {},
        "displayType": "table",
        "pivotAggregation": null,
        "pivotColumns": null,
        "xColumns": null,
        "yColumns": null
       },
       "removedWidgets": [],
       "schema": [
        {
         "metadata": "{}",
         "name": "order_date",
         "type": "\"string\""
        },
        {
         "metadata": "{}",
         "name": "order_revenue",
         "type": "\"double\""
        }
       ],
       "type": "table"
      }
     },
     "output_type": "display_data"
    }
   ],
   "source": [
    "%sql\n",
    "select * from daily_revenue limit 10;\n",
    "-- Note: Typically CTAS is used to create 'stage' tables \n",
    "-- They'll be dropped and created everytime we run our pipelines\n",
    "-- With respect to Target table we pre-create the table and then we populate the data in the table"
   ]
  },
  {
   "cell_type": "code",
   "execution_count": 0,
   "metadata": {
    "application/vnd.databricks.v1+cell": {
     "cellMetadata": {
      "byteLimit": 2048000,
      "implicitDf": true,
      "rowLimit": 10000
     },
     "inputWidgets": {},
     "nuid": "cbe4174b-3882-4157-80b5-ba2de9a0205f",
     "showTitle": false,
     "title": ""
    }
   },
   "outputs": [
    {
     "output_type": "display_data",
     "data": {
      "text/html": [
       "<style scoped>\n",
       "  .table-result-container {\n",
       "    max-height: 300px;\n",
       "    overflow: auto;\n",
       "  }\n",
       "  table, th, td {\n",
       "    border: 1px solid black;\n",
       "    border-collapse: collapse;\n",
       "  }\n",
       "  th, td {\n",
       "    padding: 5px;\n",
       "  }\n",
       "  th {\n",
       "    text-align: left;\n",
       "  }\n",
       "</style><div class='table-result-container'><table class='table-result'><thead style='background-color: white'><tr></tr></thead><tbody></tbody></table></div>"
      ]
     },
     "metadata": {
      "application/vnd.databricks.v1+output": {
       "addedWidgets": {},
       "aggData": [],
       "aggError": "",
       "aggOverflow": false,
       "aggSchema": [],
       "aggSeriesLimitReached": false,
       "aggType": "",
       "arguments": {},
       "columnCustomDisplayInfos": {},
       "data": [],
       "datasetInfos": [],
       "dbfsResultPath": null,
       "isJsonSchema": true,
       "metadata": {
        "dataframeName": null
       },
       "overflow": false,
       "plotOptions": {
        "customPlotOptions": {},
        "displayType": "table",
        "pivotAggregation": null,
        "pivotColumns": null,
        "xColumns": null,
        "yColumns": null
       },
       "removedWidgets": [],
       "schema": [],
       "type": "table"
      }
     },
     "output_type": "display_data"
    }
   ],
   "source": [
    "%sql\n",
    "-- Case 2: Saving above query result into table using INSERT statement\n",
    "drop table if exists daily_revenue;\n",
    "\n",
    "create table daily_revenue(\n",
    "  order_date date,\n",
    "  order_revenue float\n",
    ");"
   ]
  },
  {
   "cell_type": "code",
   "execution_count": 0,
   "metadata": {
    "application/vnd.databricks.v1+cell": {
     "cellMetadata": {
      "byteLimit": 2048000,
      "implicitDf": true,
      "rowLimit": 10000
     },
     "inputWidgets": {},
     "nuid": "78ddacae-b94b-4c13-b38f-237bbf949a6d",
     "showTitle": false,
     "title": ""
    }
   },
   "outputs": [
    {
     "output_type": "display_data",
     "data": {
      "text/html": [
       "<style scoped>\n",
       "  .table-result-container {\n",
       "    max-height: 300px;\n",
       "    overflow: auto;\n",
       "  }\n",
       "  table, th, td {\n",
       "    border: 1px solid black;\n",
       "    border-collapse: collapse;\n",
       "  }\n",
       "  th, td {\n",
       "    padding: 5px;\n",
       "  }\n",
       "  th {\n",
       "    text-align: left;\n",
       "  }\n",
       "</style><div class='table-result-container'><table class='table-result'><thead style='background-color: white'><tr><th>num_affected_rows</th><th>num_inserted_rows</th></tr></thead><tbody><tr><td>364</td><td>364</td></tr></tbody></table></div>"
      ]
     },
     "metadata": {
      "application/vnd.databricks.v1+output": {
       "addedWidgets": {},
       "aggData": [],
       "aggError": "",
       "aggOverflow": false,
       "aggSchema": [],
       "aggSeriesLimitReached": false,
       "aggType": "",
       "arguments": {},
       "columnCustomDisplayInfos": {},
       "data": [
        [
         364,
         364
        ]
       ],
       "datasetInfos": [],
       "dbfsResultPath": null,
       "isJsonSchema": true,
       "metadata": {
        "dataframeName": "_sqldf",
        "executionCount": 7
       },
       "overflow": false,
       "plotOptions": {
        "customPlotOptions": {},
        "displayType": "table",
        "pivotAggregation": null,
        "pivotColumns": null,
        "xColumns": null,
        "yColumns": null
       },
       "removedWidgets": [],
       "schema": [
        {
         "metadata": "{}",
         "name": "num_affected_rows",
         "type": "\"long\""
        },
        {
         "metadata": "{}",
         "name": "num_inserted_rows",
         "type": "\"long\""
        }
       ],
       "type": "table"
      }
     },
     "output_type": "display_data"
    }
   ],
   "source": [
    "%sql\n",
    "-- Approach1:  INSERT INTO \n",
    "INSERT INTO daily_revenue\n",
    "select o.order_date\n",
    ", round(sum(oi.order_item_subtotal), 2) as order_revenue\n",
    "from orders  o \n",
    "join order_items oi on o.order_id = oi.order_item_order_id\n",
    "where o.order_Status in ('COMPLETE', 'CLOSED')\n",
    "group by o.order_date"
   ]
  },
  {
   "cell_type": "code",
   "execution_count": 0,
   "metadata": {
    "application/vnd.databricks.v1+cell": {
     "cellMetadata": {
      "byteLimit": 2048000,
      "implicitDf": true,
      "rowLimit": 10000
     },
     "inputWidgets": {},
     "nuid": "4d4726de-c15b-46c0-9f7d-be9cd9cf64fe",
     "showTitle": false,
     "title": ""
    }
   },
   "outputs": [
    {
     "output_type": "display_data",
     "data": {
      "text/html": [
       "<style scoped>\n",
       "  .table-result-container {\n",
       "    max-height: 300px;\n",
       "    overflow: auto;\n",
       "  }\n",
       "  table, th, td {\n",
       "    border: 1px solid black;\n",
       "    border-collapse: collapse;\n",
       "  }\n",
       "  th, td {\n",
       "    padding: 5px;\n",
       "  }\n",
       "  th {\n",
       "    text-align: left;\n",
       "  }\n",
       "</style><div class='table-result-container'><table class='table-result'><thead style='background-color: white'><tr><th>num_affected_rows</th><th>num_inserted_rows</th></tr></thead><tbody><tr><td>364</td><td>364</td></tr></tbody></table></div>"
      ]
     },
     "metadata": {
      "application/vnd.databricks.v1+output": {
       "addedWidgets": {},
       "aggData": [],
       "aggError": "",
       "aggOverflow": false,
       "aggSchema": [],
       "aggSeriesLimitReached": false,
       "aggType": "",
       "arguments": {},
       "columnCustomDisplayInfos": {},
       "data": [
        [
         364,
         364
        ]
       ],
       "datasetInfos": [],
       "dbfsResultPath": null,
       "isJsonSchema": true,
       "metadata": {
        "dataframeName": "_sqldf",
        "executionCount": 8
       },
       "overflow": false,
       "plotOptions": {
        "customPlotOptions": {},
        "displayType": "table",
        "pivotAggregation": null,
        "pivotColumns": null,
        "xColumns": null,
        "yColumns": null
       },
       "removedWidgets": [],
       "schema": [
        {
         "metadata": "{}",
         "name": "num_affected_rows",
         "type": "\"long\""
        },
        {
         "metadata": "{}",
         "name": "num_inserted_rows",
         "type": "\"long\""
        }
       ],
       "type": "table"
      }
     },
     "output_type": "display_data"
    }
   ],
   "source": [
    "%sql\n",
    "-- Approach 2 INSERT OVERWRITE\n",
    "INSERT OVERWRITE daily_revenue\n",
    "select o.order_date\n",
    ", round(sum(oi.order_item_subtotal), 2) as order_revenue\n",
    "from orders  o \n",
    "join order_items oi on o.order_id = oi.order_item_order_id\n",
    "where o.order_Status in ('COMPLETE', 'CLOSED')\n",
    "group by o.order_date"
   ]
  },
  {
   "cell_type": "markdown",
   "metadata": {
    "application/vnd.databricks.v1+cell": {
     "cellMetadata": {
      "byteLimit": 2048000,
      "rowLimit": 10000
     },
     "inputWidgets": {},
     "nuid": "34c07788-fd8c-4231-b7da-1942d2329127",
     "showTitle": false,
     "title": ""
    }
   },
   "source": [
    "#### Desing Pipeline using CTAS and INSERT in Spark SQL"
   ]
  },
  {
   "cell_type": "code",
   "execution_count": 0,
   "metadata": {
    "application/vnd.databricks.v1+cell": {
     "cellMetadata": {
      "byteLimit": 2048000,
      "rowLimit": 10000
     },
     "inputWidgets": {},
     "nuid": "f4433082-3e83-46d5-9f4e-acd8a81f15d7",
     "showTitle": false,
     "title": ""
    }
   },
   "outputs": [],
   "source": [
    "%sql\n",
    "-- main tables --> stage table (DROP and CREATE using CTAS or INSERT OVERWRITE) -> Final Reporting Table (INSERT INTO)"
   ]
  },
  {
   "cell_type": "code",
   "execution_count": 0,
   "metadata": {
    "application/vnd.databricks.v1+cell": {
     "cellMetadata": {
      "byteLimit": 2048000,
      "implicitDf": true,
      "rowLimit": 10000
     },
     "inputWidgets": {},
     "nuid": "6cae3ba5-3319-4a9a-b074-8785af38f52c",
     "showTitle": false,
     "title": ""
    }
   },
   "outputs": [
    {
     "output_type": "display_data",
     "data": {
      "text/html": [
       "<style scoped>\n",
       "  .table-result-container {\n",
       "    max-height: 300px;\n",
       "    overflow: auto;\n",
       "  }\n",
       "  table, th, td {\n",
       "    border: 1px solid black;\n",
       "    border-collapse: collapse;\n",
       "  }\n",
       "  th, td {\n",
       "    padding: 5px;\n",
       "  }\n",
       "  th {\n",
       "    text-align: left;\n",
       "  }\n",
       "</style><div class='table-result-container'><table class='table-result'><thead style='background-color: white'><tr><th>num_affected_rows</th><th>num_inserted_rows</th></tr></thead><tbody><tr><td>31</td><td>31</td></tr></tbody></table></div>"
      ]
     },
     "metadata": {
      "application/vnd.databricks.v1+output": {
       "addedWidgets": {},
       "aggData": [],
       "aggError": "",
       "aggOverflow": false,
       "aggSchema": [],
       "aggSeriesLimitReached": false,
       "aggType": "",
       "arguments": {},
       "columnCustomDisplayInfos": {},
       "data": [
        [
         31,
         31
        ]
       ],
       "datasetInfos": [],
       "dbfsResultPath": null,
       "isJsonSchema": true,
       "metadata": {
        "dataframeName": "_sqldf",
        "executionCount": 9
       },
       "overflow": false,
       "plotOptions": {
        "customPlotOptions": {},
        "displayType": "table",
        "pivotAggregation": null,
        "pivotColumns": null,
        "xColumns": null,
        "yColumns": null
       },
       "removedWidgets": [],
       "schema": [
        {
         "metadata": "{}",
         "name": "num_affected_rows",
         "type": "\"long\""
        },
        {
         "metadata": "{}",
         "name": "num_inserted_rows",
         "type": "\"long\""
        }
       ],
       "type": "table"
      }
     },
     "output_type": "display_data"
    }
   ],
   "source": [
    "%sql\n",
    "-- Design Pipeline Using INSERT\n",
    "\n",
    "-- create table first if you are using INSERT\n",
    "drop table if exists daily_revenue_stg;\n",
    "create table daily_revenue_stg(\n",
    "  order_Date date,\n",
    "  order_revenue float\n",
    ");\n",
    "\n",
    "\n",
    "-- Populating stage table\n",
    "INSERT OVERWRITE daily_revenue_stg\n",
    "select o.order_date\n",
    ", round(sum(oi.order_item_subtotal), 2) as order_revenue\n",
    "from orders  o \n",
    "join order_items oi on o.order_id = oi.order_item_order_id\n",
    "where o.order_Status in ('COMPLETE', 'CLOSED')\n",
    "and date_format(o.order_date, 'yyyyMM') = 201308\n",
    "group by o.order_date;\n",
    "\n",
    "\n",
    "-- Populating final table \n",
    "INSERT INTO daily_revenue\n",
    "SELECT * FROM  daily_revenue_stg;\n",
    " "
   ]
  },
  {
   "cell_type": "code",
   "execution_count": 0,
   "metadata": {
    "application/vnd.databricks.v1+cell": {
     "cellMetadata": {
      "byteLimit": 2048000,
      "implicitDf": true,
      "rowLimit": 10000
     },
     "inputWidgets": {},
     "nuid": "51505893-1063-4e71-9240-d2d90cff0749",
     "showTitle": false,
     "title": ""
    }
   },
   "outputs": [
    {
     "output_type": "display_data",
     "data": {
      "text/html": [
       "<style scoped>\n",
       "  .table-result-container {\n",
       "    max-height: 300px;\n",
       "    overflow: auto;\n",
       "  }\n",
       "  table, th, td {\n",
       "    border: 1px solid black;\n",
       "    border-collapse: collapse;\n",
       "  }\n",
       "  th, td {\n",
       "    padding: 5px;\n",
       "  }\n",
       "  th {\n",
       "    text-align: left;\n",
       "  }\n",
       "</style><div class='table-result-container'><table class='table-result'><thead style='background-color: white'><tr><th>num_affected_rows</th><th>num_inserted_rows</th></tr></thead><tbody><tr><td>30</td><td>30</td></tr></tbody></table></div>"
      ]
     },
     "metadata": {
      "application/vnd.databricks.v1+output": {
       "addedWidgets": {},
       "aggData": [],
       "aggError": "",
       "aggOverflow": false,
       "aggSchema": [],
       "aggSeriesLimitReached": false,
       "aggType": "",
       "arguments": {},
       "columnCustomDisplayInfos": {},
       "data": [
        [
         30,
         30
        ]
       ],
       "datasetInfos": [],
       "dbfsResultPath": null,
       "isJsonSchema": true,
       "metadata": {
        "dataframeName": "_sqldf",
        "executionCount": 10
       },
       "overflow": false,
       "plotOptions": {
        "customPlotOptions": {},
        "displayType": "table",
        "pivotAggregation": null,
        "pivotColumns": null,
        "xColumns": null,
        "yColumns": null
       },
       "removedWidgets": [],
       "schema": [
        {
         "metadata": "{}",
         "name": "num_affected_rows",
         "type": "\"long\""
        },
        {
         "metadata": "{}",
         "name": "num_inserted_rows",
         "type": "\"long\""
        }
       ],
       "type": "table"
      }
     },
     "output_type": "display_data"
    }
   ],
   "source": [
    "%sql\n",
    "-- Design Pipeline Using CTAS\n",
    "\n",
    "drop table if exists daily_revenue_stg;\n",
    "\n",
    "create table daily_revenue_stg as\n",
    "select o.order_date\n",
    ", round(sum(oi.order_item_subtotal), 2) as order_revenue\n",
    "from orders  o \n",
    "join order_items oi on o.order_id = oi.order_item_order_id\n",
    "where o.order_Status in ('COMPLETE', 'CLOSED')\n",
    "and date_format(o.order_date, 'yyyyMM') = 201309\n",
    "group by o.order_date;\n",
    "\n",
    "\n",
    "INSERT INTO daily_revenue\n",
    "SELECT * FROM  daily_revenue_stg;"
   ]
  },
  {
   "cell_type": "code",
   "execution_count": 0,
   "metadata": {
    "application/vnd.databricks.v1+cell": {
     "cellMetadata": {
      "byteLimit": 2048000,
      "implicitDf": true,
      "rowLimit": 10000
     },
     "inputWidgets": {},
     "nuid": "ad2c3a6a-9b84-40c4-b392-e2ac2f71e4c5",
     "showTitle": false,
     "title": ""
    }
   },
   "outputs": [
    {
     "output_type": "display_data",
     "data": {
      "text/html": [
       "<style scoped>\n",
       "  .table-result-container {\n",
       "    max-height: 300px;\n",
       "    overflow: auto;\n",
       "  }\n",
       "  table, th, td {\n",
       "    border: 1px solid black;\n",
       "    border-collapse: collapse;\n",
       "  }\n",
       "  th, td {\n",
       "    padding: 5px;\n",
       "  }\n",
       "  th {\n",
       "    text-align: left;\n",
       "  }\n",
       "</style><div class='table-result-container'><table class='table-result'><thead style='background-color: white'><tr><th>order_date</th><th>order_revenue</th></tr></thead><tbody><tr><td>2013-07-25</td><td>31547.23</td></tr><tr><td>2013-07-26</td><td>54713.23</td></tr><tr><td>2013-07-27</td><td>48411.48</td></tr><tr><td>2013-07-28</td><td>35672.03</td></tr><tr><td>2013-07-29</td><td>54579.7</td></tr><tr><td>2013-07-30</td><td>49329.29</td></tr><tr><td>2013-07-31</td><td>59212.49</td></tr><tr><td>2013-08-01</td><td>49160.08</td></tr><tr><td>2013-08-01</td><td>49160.08</td></tr><tr><td>2013-08-02</td><td>50688.58</td></tr></tbody></table></div>"
      ]
     },
     "metadata": {
      "application/vnd.databricks.v1+output": {
       "addedWidgets": {},
       "aggData": [],
       "aggError": "",
       "aggOverflow": false,
       "aggSchema": [],
       "aggSeriesLimitReached": false,
       "aggType": "",
       "arguments": {},
       "columnCustomDisplayInfos": {},
       "data": [
        [
         "2013-07-25",
         31547.23
        ],
        [
         "2013-07-26",
         54713.23
        ],
        [
         "2013-07-27",
         48411.48
        ],
        [
         "2013-07-28",
         35672.03
        ],
        [
         "2013-07-29",
         54579.7
        ],
        [
         "2013-07-30",
         49329.29
        ],
        [
         "2013-07-31",
         59212.49
        ],
        [
         "2013-08-01",
         49160.08
        ],
        [
         "2013-08-01",
         49160.08
        ],
        [
         "2013-08-02",
         50688.58
        ]
       ],
       "datasetInfos": [],
       "dbfsResultPath": null,
       "isJsonSchema": true,
       "metadata": {
        "dataframeName": "_sqldf",
        "executionCount": 11
       },
       "overflow": false,
       "plotOptions": {
        "customPlotOptions": {},
        "displayType": "table",
        "pivotAggregation": null,
        "pivotColumns": null,
        "xColumns": null,
        "yColumns": null
       },
       "removedWidgets": [],
       "schema": [
        {
         "metadata": "{}",
         "name": "order_date",
         "type": "\"date\""
        },
        {
         "metadata": "{}",
         "name": "order_revenue",
         "type": "\"float\""
        }
       ],
       "type": "table"
      }
     },
     "output_type": "display_data"
    }
   ],
   "source": [
    "%sql\n",
    "select * from daily_revenue\n",
    "order by order_date limit 10;"
   ]
  },
  {
   "cell_type": "code",
   "execution_count": 0,
   "metadata": {
    "application/vnd.databricks.v1+cell": {
     "cellMetadata": {
      "byteLimit": 2048000,
      "implicitDf": true,
      "rowLimit": 10000
     },
     "inputWidgets": {},
     "nuid": "99ba0651-db60-46f7-bb8a-8652961fd476",
     "showTitle": false,
     "title": ""
    }
   },
   "outputs": [
    {
     "output_type": "display_data",
     "data": {
      "text/html": [
       "<style scoped>\n",
       "  .table-result-container {\n",
       "    max-height: 300px;\n",
       "    overflow: auto;\n",
       "  }\n",
       "  table, th, td {\n",
       "    border: 1px solid black;\n",
       "    border-collapse: collapse;\n",
       "  }\n",
       "  th, td {\n",
       "    padding: 5px;\n",
       "  }\n",
       "  th {\n",
       "    text-align: left;\n",
       "  }\n",
       "</style><div class='table-result-container'><table class='table-result'><thead style='background-color: white'><tr><th>database</th><th>tableName</th><th>isTemporary</th></tr></thead><tbody><tr><td>itversity_retail_db</td><td>daily_revenue</td><td>false</td></tr><tr><td>itversity_retail_db</td><td>daily_revenue_stg</td><td>false</td></tr><tr><td>itversity_retail_db</td><td>order_items</td><td>false</td></tr><tr><td>itversity_retail_db</td><td>orders</td><td>false</td></tr></tbody></table></div>"
      ]
     },
     "metadata": {
      "application/vnd.databricks.v1+output": {
       "addedWidgets": {},
       "aggData": [],
       "aggError": "",
       "aggOverflow": false,
       "aggSchema": [],
       "aggSeriesLimitReached": false,
       "aggType": "",
       "arguments": {},
       "columnCustomDisplayInfos": {},
       "data": [
        [
         "itversity_retail_db",
         "daily_revenue",
         false
        ],
        [
         "itversity_retail_db",
         "daily_revenue_stg",
         false
        ],
        [
         "itversity_retail_db",
         "order_items",
         false
        ],
        [
         "itversity_retail_db",
         "orders",
         false
        ]
       ],
       "datasetInfos": [],
       "dbfsResultPath": null,
       "isJsonSchema": true,
       "metadata": {
        "dataframeName": "_sqldf",
        "executionCount": 12
       },
       "overflow": false,
       "plotOptions": {
        "customPlotOptions": {},
        "displayType": "table",
        "pivotAggregation": null,
        "pivotColumns": null,
        "xColumns": null,
        "yColumns": null
       },
       "removedWidgets": [],
       "schema": [
        {
         "metadata": "{}",
         "name": "database",
         "type": "\"string\""
        },
        {
         "metadata": "{}",
         "name": "tableName",
         "type": "\"string\""
        },
        {
         "metadata": "{}",
         "name": "isTemporary",
         "type": "\"boolean\""
        }
       ],
       "type": "table"
      }
     },
     "output_type": "display_data"
    }
   ],
   "source": [
    "%sql\n",
    "show tables;"
   ]
  },
  {
   "cell_type": "code",
   "execution_count": 0,
   "metadata": {
    "application/vnd.databricks.v1+cell": {
     "cellMetadata": {
      "byteLimit": 2048000,
      "rowLimit": 10000
     },
     "inputWidgets": {},
     "nuid": "548fcbd1-05a9-4815-8332-eeb90b02471e",
     "showTitle": false,
     "title": ""
    }
   },
   "outputs": [],
   "source": []
  }
 ],
 "metadata": {
  "application/vnd.databricks.v1+notebook": {
   "dashboards": [],
   "language": "python",
   "notebookMetadata": {
    "mostRecentlyExecutedCommandWithImplicitDF": {
     "commandId": 316413058597569,
     "dataframes": [
      "_sqldf"
     ]
    },
    "pythonIndentUnit": 4
   },
   "notebookName": "09_Saving Query Result(CTAS, INSERT) into Spark Metastore Table",
   "widgets": {}
  }
 },
 "nbformat": 4,
 "nbformat_minor": 0
}
