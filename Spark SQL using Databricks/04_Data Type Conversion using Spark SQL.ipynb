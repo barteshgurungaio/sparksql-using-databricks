{
 "cells": [
  {
   "cell_type": "markdown",
   "metadata": {
    "application/vnd.databricks.v1+cell": {
     "cellMetadata": {},
     "inputWidgets": {},
     "nuid": "c79cdd33-3c17-4895-bab7-69c25ade86a7",
     "showTitle": false,
     "title": ""
    }
   },
   "source": [
    "##### data type conversion \n",
    "- `cast(expr AS type)`"
   ]
  },
  {
   "cell_type": "code",
   "execution_count": 0,
   "metadata": {
    "application/vnd.databricks.v1+cell": {
     "cellMetadata": {
      "byteLimit": 2048000,
      "implicitDf": true,
      "rowLimit": 10000
     },
     "inputWidgets": {},
     "nuid": "a8138a9c-0310-4cdf-8143-0a71fd437b4b",
     "showTitle": false,
     "title": ""
    }
   },
   "outputs": [
    {
     "output_type": "display_data",
     "data": {
      "text/html": [
       "<style scoped>\n",
       "  .table-result-container {\n",
       "    max-height: 300px;\n",
       "    overflow: auto;\n",
       "  }\n",
       "  table, th, td {\n",
       "    border: 1px solid black;\n",
       "    border-collapse: collapse;\n",
       "  }\n",
       "  th, td {\n",
       "    padding: 5px;\n",
       "  }\n",
       "  th {\n",
       "    text-align: left;\n",
       "  }\n",
       "</style><div class='table-result-container'><table class='table-result'><thead style='background-color: white'><tr><th>mon</th><th>res2</th><th>re3</th></tr></thead><tbody><tr><td>10</td><td>0.05</td><td>10</td></tr></tbody></table></div>"
      ]
     },
     "metadata": {
      "application/vnd.databricks.v1+output": {
       "addedWidgets": {},
       "aggData": [],
       "aggError": "",
       "aggOverflow": false,
       "aggSchema": [],
       "aggSeriesLimitReached": false,
       "aggType": "",
       "arguments": {},
       "columnCustomDisplayInfos": {},
       "data": [
        [
         10,
         0.05,
         10
        ]
       ],
       "datasetInfos": [],
       "dbfsResultPath": null,
       "isJsonSchema": true,
       "metadata": {
        "dataframeName": "_sqldf",
        "executionCount": 3
       },
       "overflow": false,
       "plotOptions": {
        "customPlotOptions": {},
        "displayType": "table",
        "pivotAggregation": null,
        "pivotColumns": null,
        "xColumns": null,
        "yColumns": null
       },
       "removedWidgets": [],
       "schema": [
        {
         "metadata": "{}",
         "name": "mon",
         "type": "\"integer\""
        },
        {
         "metadata": "{}",
         "name": "res2",
         "type": "\"float\""
        },
        {
         "metadata": "{}",
         "name": "re3",
         "type": "\"integer\""
        }
       ],
       "type": "table"
      }
     },
     "output_type": "display_data"
    }
   ],
   "source": [
    "%sql\n",
    "SELECT CAST(date_format(current_date, 'MM') AS INT) as mon\n",
    "     , CAST('0.05' AS FLOAT) as res2\n",
    "     , CAST('10.23' AS INT) as re3\n",
    "     \n"
   ]
  },
  {
   "cell_type": "code",
   "execution_count": 0,
   "metadata": {
    "application/vnd.databricks.v1+cell": {
     "cellMetadata": {
      "byteLimit": 2048000,
      "implicitDf": true,
      "rowLimit": 10000
     },
     "inputWidgets": {},
     "nuid": "4fd67865-a989-43e9-b518-dcb81fc184cd",
     "showTitle": false,
     "title": ""
    }
   },
   "outputs": [
    {
     "output_type": "display_data",
     "data": {
      "text/html": [
       "<style scoped>\n",
       "  .table-result-container {\n",
       "    max-height: 300px;\n",
       "    overflow: auto;\n",
       "  }\n",
       "  table, th, td {\n",
       "    border: 1px solid black;\n",
       "    border-collapse: collapse;\n",
       "  }\n",
       "  th, td {\n",
       "    padding: 5px;\n",
       "  }\n",
       "  th {\n",
       "    text-align: left;\n",
       "  }\n",
       "</style><div class='table-result-container'><table class='table-result'><thead style='background-color: white'><tr></tr></thead><tbody></tbody></table></div>"
      ]
     },
     "metadata": {
      "application/vnd.databricks.v1+output": {
       "addedWidgets": {},
       "aggData": [],
       "aggError": "",
       "aggOverflow": false,
       "aggSchema": [],
       "aggSeriesLimitReached": false,
       "aggType": "",
       "arguments": {},
       "columnCustomDisplayInfos": {},
       "data": [],
       "datasetInfos": [],
       "dbfsResultPath": null,
       "isJsonSchema": true,
       "metadata": {
        "dataframeName": null
       },
       "overflow": false,
       "plotOptions": {
        "customPlotOptions": {},
        "displayType": "table",
        "pivotAggregation": null,
        "pivotColumns": null,
        "xColumns": null,
        "yColumns": null
       },
       "removedWidgets": [],
       "schema": [],
       "type": "table"
      }
     },
     "output_type": "display_data"
    }
   ],
   "source": [
    "%sql\n",
    "CREATE EXTERNAL TABLE IF NOT EXISTS orders_single_column (\n",
    "  s STRING\n",
    ") USING TEXT\n",
    "OPTIONS(\n",
    "  path='dbfs:/public/retail_db/orders' -- creating single column table against this location\n",
    ")"
   ]
  },
  {
   "cell_type": "code",
   "execution_count": 0,
   "metadata": {
    "application/vnd.databricks.v1+cell": {
     "cellMetadata": {
      "byteLimit": 2048000,
      "implicitDf": true,
      "rowLimit": 10000
     },
     "inputWidgets": {},
     "nuid": "47c28217-9091-43c1-9e36-3c60f80484af",
     "showTitle": false,
     "title": ""
    }
   },
   "outputs": [
    {
     "output_type": "display_data",
     "data": {
      "text/html": [
       "<style scoped>\n",
       "  .table-result-container {\n",
       "    max-height: 300px;\n",
       "    overflow: auto;\n",
       "  }\n",
       "  table, th, td {\n",
       "    border: 1px solid black;\n",
       "    border-collapse: collapse;\n",
       "  }\n",
       "  th, td {\n",
       "    padding: 5px;\n",
       "  }\n",
       "  th {\n",
       "    text-align: left;\n",
       "  }\n",
       "</style><div class='table-result-container'><table class='table-result'><thead style='background-color: white'><tr><th>s</th></tr></thead><tbody><tr><td>1,2013-07-25 00:00:00.0,11599,CLOSED</td></tr><tr><td>2,2013-07-25 00:00:00.0,256,PENDING_PAYMENT</td></tr><tr><td>3,2013-07-25 00:00:00.0,12111,COMPLETE</td></tr><tr><td>4,2013-07-25 00:00:00.0,8827,CLOSED</td></tr><tr><td>5,2013-07-25 00:00:00.0,11318,COMPLETE</td></tr></tbody></table></div>"
      ]
     },
     "metadata": {
      "application/vnd.databricks.v1+output": {
       "addedWidgets": {},
       "aggData": [],
       "aggError": "",
       "aggOverflow": false,
       "aggSchema": [],
       "aggSeriesLimitReached": false,
       "aggType": "",
       "arguments": {},
       "columnCustomDisplayInfos": {},
       "data": [
        [
         "1,2013-07-25 00:00:00.0,11599,CLOSED"
        ],
        [
         "2,2013-07-25 00:00:00.0,256,PENDING_PAYMENT"
        ],
        [
         "3,2013-07-25 00:00:00.0,12111,COMPLETE"
        ],
        [
         "4,2013-07-25 00:00:00.0,8827,CLOSED"
        ],
        [
         "5,2013-07-25 00:00:00.0,11318,COMPLETE"
        ]
       ],
       "datasetInfos": [],
       "dbfsResultPath": null,
       "isJsonSchema": true,
       "metadata": {
        "dataframeName": "_sqldf",
        "executionCount": 5
       },
       "overflow": false,
       "plotOptions": {
        "customPlotOptions": {},
        "displayType": "table",
        "pivotAggregation": null,
        "pivotColumns": null,
        "xColumns": null,
        "yColumns": null
       },
       "removedWidgets": [],
       "schema": [
        {
         "metadata": "{}",
         "name": "s",
         "type": "\"string\""
        }
       ],
       "type": "table"
      }
     },
     "output_type": "display_data"
    }
   ],
   "source": [
    "%sql\n",
    "SELECT * FROM orders_single_column LIMIT 5"
   ]
  },
  {
   "cell_type": "code",
   "execution_count": 0,
   "metadata": {
    "application/vnd.databricks.v1+cell": {
     "cellMetadata": {
      "byteLimit": 2048000,
      "implicitDf": true,
      "rowLimit": 10000
     },
     "inputWidgets": {},
     "nuid": "0b0681ae-e55a-4220-aaae-f809ad6ebf47",
     "showTitle": false,
     "title": ""
    }
   },
   "outputs": [
    {
     "output_type": "display_data",
     "data": {
      "text/html": [
       "<style scoped>\n",
       "  .table-result-container {\n",
       "    max-height: 300px;\n",
       "    overflow: auto;\n",
       "  }\n",
       "  table, th, td {\n",
       "    border: 1px solid black;\n",
       "    border-collapse: collapse;\n",
       "  }\n",
       "  th, td {\n",
       "    padding: 5px;\n",
       "  }\n",
       "  th {\n",
       "    text-align: left;\n",
       "  }\n",
       "</style><div class='table-result-container'><table class='table-result'><thead style='background-color: white'><tr><th>order_id</th><th>order_date</th><th>order_customer_id</th><th>order_status</th></tr></thead><tbody><tr><td>1</td><td>2013-07-25 00:00:00.0</td><td>11599</td><td>CLOSED</td></tr><tr><td>2</td><td>2013-07-25 00:00:00.0</td><td>256</td><td>PENDING_PAYMENT</td></tr><tr><td>3</td><td>2013-07-25 00:00:00.0</td><td>12111</td><td>COMPLETE</td></tr><tr><td>4</td><td>2013-07-25 00:00:00.0</td><td>8827</td><td>CLOSED</td></tr><tr><td>5</td><td>2013-07-25 00:00:00.0</td><td>11318</td><td>COMPLETE</td></tr><tr><td>6</td><td>2013-07-25 00:00:00.0</td><td>7130</td><td>COMPLETE</td></tr><tr><td>7</td><td>2013-07-25 00:00:00.0</td><td>4530</td><td>COMPLETE</td></tr><tr><td>8</td><td>2013-07-25 00:00:00.0</td><td>2911</td><td>PROCESSING</td></tr><tr><td>9</td><td>2013-07-25 00:00:00.0</td><td>5657</td><td>PENDING_PAYMENT</td></tr><tr><td>10</td><td>2013-07-25 00:00:00.0</td><td>5648</td><td>PENDING_PAYMENT</td></tr></tbody></table></div>"
      ]
     },
     "metadata": {
      "application/vnd.databricks.v1+output": {
       "addedWidgets": {},
       "aggData": [],
       "aggError": "",
       "aggOverflow": false,
       "aggSchema": [],
       "aggSeriesLimitReached": false,
       "aggType": "",
       "arguments": {},
       "columnCustomDisplayInfos": {},
       "data": [
        [
         "1",
         "2013-07-25 00:00:00.0",
         "11599",
         "CLOSED"
        ],
        [
         "2",
         "2013-07-25 00:00:00.0",
         "256",
         "PENDING_PAYMENT"
        ],
        [
         "3",
         "2013-07-25 00:00:00.0",
         "12111",
         "COMPLETE"
        ],
        [
         "4",
         "2013-07-25 00:00:00.0",
         "8827",
         "CLOSED"
        ],
        [
         "5",
         "2013-07-25 00:00:00.0",
         "11318",
         "COMPLETE"
        ],
        [
         "6",
         "2013-07-25 00:00:00.0",
         "7130",
         "COMPLETE"
        ],
        [
         "7",
         "2013-07-25 00:00:00.0",
         "4530",
         "COMPLETE"
        ],
        [
         "8",
         "2013-07-25 00:00:00.0",
         "2911",
         "PROCESSING"
        ],
        [
         "9",
         "2013-07-25 00:00:00.0",
         "5657",
         "PENDING_PAYMENT"
        ],
        [
         "10",
         "2013-07-25 00:00:00.0",
         "5648",
         "PENDING_PAYMENT"
        ]
       ],
       "datasetInfos": [],
       "dbfsResultPath": null,
       "isJsonSchema": true,
       "metadata": {
        "dataframeName": "_sqldf",
        "executionCount": 7
       },
       "overflow": false,
       "plotOptions": {
        "customPlotOptions": {},
        "displayType": "table",
        "pivotAggregation": null,
        "pivotColumns": null,
        "xColumns": null,
        "yColumns": null
       },
       "removedWidgets": [],
       "schema": [
        {
         "metadata": "{}",
         "name": "order_id",
         "type": "\"string\""
        },
        {
         "metadata": "{}",
         "name": "order_date",
         "type": "\"string\""
        },
        {
         "metadata": "{}",
         "name": "order_customer_id",
         "type": "\"string\""
        },
        {
         "metadata": "{}",
         "name": "order_status",
         "type": "\"string\""
        }
       ],
       "type": "table"
      }
     },
     "output_type": "display_data"
    }
   ],
   "source": [
    "%sql\n",
    "SELECT\n",
    "split(s, ',')[0] as order_id\n",
    ",split(s, ',')[1] as order_date\n",
    ",split(s, ',')[2] as order_customer_id\n",
    ",split(s, ',')[3] as order_status\n",
    "FROM orders_single_column LIMIT 10"
   ]
  },
  {
   "cell_type": "code",
   "execution_count": 0,
   "metadata": {
    "application/vnd.databricks.v1+cell": {
     "cellMetadata": {},
     "inputWidgets": {},
     "nuid": "83f03e87-6ead-4bec-9b94-57c26e7cd4d3",
     "showTitle": false,
     "title": ""
    }
   },
   "outputs": [],
   "source": []
  }
 ],
 "metadata": {
  "application/vnd.databricks.v1+notebook": {
   "dashboards": [],
   "language": "python",
   "notebookMetadata": {
    "mostRecentlyExecutedCommandWithImplicitDF": {
     "commandId": 3350989109127110,
     "dataframes": [
      "_sqldf"
     ]
    },
    "pythonIndentUnit": 4
   },
   "notebookName": "04_Data Type Conversion using Spark SQL",
   "widgets": {}
  }
 },
 "nbformat": 4,
 "nbformat_minor": 0
}
